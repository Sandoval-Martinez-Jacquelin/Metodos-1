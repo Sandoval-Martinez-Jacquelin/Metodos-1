{
  "nbformat": 4,
  "nbformat_minor": 0,
  "metadata": {
    "colab": {
      "provenance": [],
      "authorship_tag": "ABX9TyMf+EnzV0aThqttqnSIA29e",
      "include_colab_link": true
    },
    "kernelspec": {
      "name": "python3",
      "display_name": "Python 3"
    },
    "language_info": {
      "name": "python"
    }
  },
  "cells": [
    {
      "cell_type": "markdown",
      "metadata": {
        "id": "view-in-github",
        "colab_type": "text"
      },
      "source": [
        "<a href=\"https://colab.research.google.com/github/Sandoval-Martinez-Jacquelin/Metodos-1/blob/main/muller2.ipynb\" target=\"_parent\"><img src=\"https://colab.research.google.com/assets/colab-badge.svg\" alt=\"Open In Colab\"/></a>"
      ]
    },
    {
      "cell_type": "code",
      "execution_count": 1,
      "metadata": {
        "id": "vN2YZdXkQXxc"
      },
      "outputs": [],
      "source": [
        "from math import *\n",
        "import numpy as np\n",
        "import matplotlib . pyplot as plt\n",
        "#para este programa ,los calculos se redondearan a 5 decimales"
      ]
    },
    {
      "cell_type": "code",
      "source": [
        "#Ingreso del polinomio\n",
        "\n",
        "n=4 #int(input(\"Ingrese el grado del polinomio P(x)\"))\n",
        "a=[]\n",
        "#ciclo para el ingreso de los coeficientes\n",
        "#for x in range(0,n+1):\n",
        "  #print(\"Coeficiente a\",x)\n",
        "  #c=int(input(\"Ingrese el valor del coeficiente \"))\n",
        "  #a.append(c)\n",
        "a=[1,1,1,-3,1]"
      ],
      "metadata": {
        "id": "pDPhqh-rqPgA"
      },
      "execution_count": 2,
      "outputs": []
    },
    {
      "cell_type": "code",
      "source": [
        "\n",
        "def funcion(x):\n",
        "  f=0\n",
        "  for i in range(0,n+1):\n",
        "    f+=a[i]*(pow(x,i))\n",
        "  return f\n",
        "\n",
        "\n",
        "\n"
      ],
      "metadata": {
        "id": "CoCWWOjfrCK-"
      },
      "execution_count": 3,
      "outputs": []
    },
    {
      "cell_type": "code",
      "source": [
        "#Ingreso de las aproximaciones inciales\n",
        "p0=0.5#float(input(\"Ingrese la aproximacion inicial Po= \"))\n",
        "p1=1#float(input(\"Ingrese la aproximacion inicial P1= \"))\n",
        "p2=1.5#float(input(\"Ingrese la aproximacion inicial P2= \"))\n",
        "#guarda los valores iniciales de error y numero de iteraciones\n",
        "tol=0.0001#float(input(\"Ingrese el valor de la tolerancia= \"))\n",
        "nmax=100#int(input(\"Ingrese el numero maximo de iteraciones= \"))\n",
        "error=100\n"
      ],
      "metadata": {
        "id": "tBkw--6OVIgm"
      },
      "execution_count": 4,
      "outputs": []
    },
    {
      "cell_type": "code",
      "source": [
        "from re import S\n",
        "#Metodo de Muller\n",
        "h1=round(p1-p0,5)\n",
        "h2=round(p2-p1,5)\n",
        "s1=round(((funcion(p1)-funcion(p0))/h1),5)\n",
        "s2=round(((funcion(p2)-funcion(p1))/h2),5)\n",
        "d=round((s2-s1)/(h2+h1),5)\n",
        "niter=3\n",
        "print(\"# iter\\t\\t p0 \\t\\t p1 \\t\\t p2 \\t\\t p3 \\t\\t f(p3) \\t\\t error\")\n",
        "#print(\"{0} \\t\\t {1:6.3f} \\t {2:6.3f} \\t {3:6.3f}\".format(niter, p, round(g(p0),3), round(error,3 )))\n",
        "\n",
        "#ciclo iterativo\n",
        "while error>tol and niter<nmax:\n",
        "  b=round(s2+(h2*d),5)\n",
        "  D2=round(sqrt((pow(b,2))-4*d*funcion(p2)),5)\n",
        "  if abs(b-D2)<abs(b+D2):\n",
        "    E=round(b+D2,5)\n",
        "  else:\n",
        "    E=round(b-D2,5)\n",
        "  h=round((-2*funcion(p2))/E,5)\n",
        "  p=round(p2+h,5)\n",
        "  error=round(abs(p-p2),5)\n",
        "  print(\"{0} \\t\\t {1:6.5f} \\t {2:6.5f} \\t {3:6.5f}\".format(niter, p,round(funcion(p),5), error))\n",
        "  if error<tol:\n",
        "    break\n",
        "\n",
        "  p0=p1\n",
        "  p1=p2\n",
        "  p2=p\n",
        "  h1=p1-p0\n",
        "  h2=p2-p1\n",
        "  s1=round(((funcion(p1)-funcion(p0))/h1),5)\n",
        "  s2=round(((funcion(p2)-funcion(p1))/h2),5)\n",
        "  d=round((s2-s1)/(h2+h1),5)\n",
        "  niter=niter+1\n",
        "\n",
        "\n",
        "\n",
        "#print(\"La raiz de la funcion en el intervalo [1,2] es  {0:.3f}\".format(p))"
      ],
      "metadata": {
        "id": "JOMz_7TgWu1g",
        "outputId": "b1825a98-0a29-46b7-a041-56ed34f37469",
        "colab": {
          "base_uri": "https://localhost:8080/"
        }
      },
      "execution_count": 5,
      "outputs": [
        {
          "output_type": "stream",
          "name": "stdout",
          "text": [
            "# iter\t\t p \t\t f(p) \t\t error\n",
            "3 \t\t 1.40633 \t -0.04852 \t 0.09367\n",
            "4 \t\t 1.38878 \t 0.00175 \t 0.01755\n",
            "5 \t\t 1.38939 \t 0.00000 \t 0.00061\n",
            "6 \t\t 1.38939 \t 0.00000 \t 0.00000\n"
          ]
        }
      ]
    }
  ]
}