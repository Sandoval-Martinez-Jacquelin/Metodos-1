{
  "nbformat": 4,
  "nbformat_minor": 0,
  "metadata": {
    "colab": {
      "provenance": [],
      "authorship_tag": "ABX9TyPdfnYXvDr+gY4o5Xd2RaYJ",
      "include_colab_link": true
    },
    "kernelspec": {
      "name": "python3",
      "display_name": "Python 3"
    },
    "language_info": {
      "name": "python"
    }
  },
  "cells": [
    {
      "cell_type": "markdown",
      "metadata": {
        "id": "view-in-github",
        "colab_type": "text"
      },
      "source": [
        "<a href=\"https://colab.research.google.com/github/Sandoval-Martinez-Jacquelin/Metodos-1/blob/main/F.ipynb\" target=\"_parent\"><img src=\"https://colab.research.google.com/assets/colab-badge.svg\" alt=\"Open In Colab\"/></a>"
      ]
    },
    {
      "cell_type": "markdown",
      "source": [
        "**FACTORIZACION LU**"
      ],
      "metadata": {
        "id": "_OqssDhlDhFU"
      }
    },
    {
      "cell_type": "code",
      "source": [
        "import numpy as np\n",
        "from numpy import array\n",
        "\n",
        "from numpy import zeros\n",
        "\n",
        "from math import *"
      ],
      "metadata": {
        "id": "MpTx7SDLDmc9"
      },
      "execution_count": 1,
      "outputs": []
    },
    {
      "cell_type": "code",
      "source": [
        "n=4#int(input(\"Ingrese la dimension n= \"))\n",
        "\n",
        "matriz=array([[1.0, 1.0, 0.0, 3.0], [2.0, 1.0, -1.0, 1.0], [3.0, -1.0, -1.0, 2.0], [-1.0, 2.0, 3.0, -1.0]])#Ingreso de la matriz A para el ejemplo\n",
        "#matriz=zeros((n, n)) #matriz A inicializada en 0\n",
        "#for i in range(n): #ciclo iterativo para ingresar las entradas aij de la matriz A\n",
        "  #for j in range(n):\n",
        "    #print(\"Ingrese la entrada \",i+1,j+1,\"de la matriz A\")\n",
        "    #a=float(input(\"\"))\n",
        "    #matriz[i][j]=a\n",
        "\n",
        "\n",
        "diagonal_L=[1.0, 1.0, 1.0, 1.0]#se definen las entradas de la diagonal de la matriz L\n",
        "diagonal_U=[1.0, -1.0, 3.0, -13.0]#se definen las entradas de la diagonal de la matriz U\n",
        "\n",
        "#for i in range(n): #ciclo iterativo para ingresar las entradas de la diagonal de la matriz L\n",
        "  #print(\"Ingrese la entrada \",i,i,\" de la diagonal de L\")\n",
        "  #l=float(input(\"\"))\n",
        "  #diagonal_L.append(l)\n",
        "\n",
        "\n",
        "#for i in range(n): #ciclo iterativo para ingresar las entradas de la diagonal de la matriz U\n",
        "  #print(\"Ingrese la entrada \",i,i,\" de la diagonal de U\")\n",
        "  #u=float(input(\"\"))\n",
        "  #diagonal_U.append(u)\n",
        "print(\"La matriz A es \")\n",
        "print(matriz)"
      ],
      "metadata": {
        "colab": {
          "base_uri": "https://localhost:8080/"
        },
        "id": "BXMuKfr3D4ec",
        "outputId": "cd009907-9a4f-4a29-940e-872b66db6c04"
      },
      "execution_count": 2,
      "outputs": [
        {
          "output_type": "stream",
          "name": "stdout",
          "text": [
            "La matriz A es \n",
            "[[ 1.  1.  0.  3.]\n",
            " [ 2.  1. -1.  1.]\n",
            " [ 3. -1. -1.  2.]\n",
            " [-1.  2.  3. -1.]]\n"
          ]
        }
      ]
    },
    {
      "cell_type": "code",
      "source": [
        "matriz_L= zeros((n, n))#se crea la matriz L incializada en 0\n",
        "matriz_U=zeros((n,n))#se crea la matriz U incializada en 0\n",
        "for k in range(n):#cilo iterativo para agregar a la matriz L y a la matriz U las entradas de sus diagonales\n",
        "  matriz_L[k][k]=diagonal_L[k]\n",
        "  matriz_U[k][k]=diagonal_U[k]\n",
        "\n"
      ],
      "metadata": {
        "id": "6pPRY1pycdwl"
      },
      "execution_count": 3,
      "outputs": []
    },
    {
      "cell_type": "code",
      "source": [
        "def sumatoria1(i,j):#se define una funcion para realizar el cálculo de la sumatoria que esta dentro de la formula del cálculo de uij\n",
        "  s=0\n",
        "  for k in range(i):\n",
        "    s+=matriz_L[i][k]*matriz_U[k][j]\n",
        "  return s\n",
        "\n",
        "def sumatoria2(i,j):#se define una funcion para realizar el cálculo de la sumatoria que esta dentro de la formula del cálculo de lji\n",
        "  s=0\n",
        "  for k in range(i):\n",
        "    s+=matriz_L[j][k]*matriz_U[k][i]\n",
        "  return s\n"
      ],
      "metadata": {
        "id": "E0dd3v_rZxtn"
      },
      "execution_count": 4,
      "outputs": []
    },
    {
      "cell_type": "code",
      "source": [
        "a_11=diagonal_L[0]*diagonal_U[0]#Cálculo de a11\n",
        "\n",
        "#Algoritmo factorizacion LU\n",
        "\n",
        "if a_11==0:#si la entrada a11=0 ,la factorizacion es imposible\n",
        "  print(\"Factorizacion imposible \")\n",
        "\n",
        "else:\n",
        "  for j in range(n):#Ciclo iterativo para el cálculo de la primera fila de U y de la primera columna de L\n",
        "    u1j=matriz[0][j]/diagonal_L[0]#cálculo de la entrada 1j de la matriz U\n",
        "    matriz_U[0][j]=u1j#se añade a la matriz U su primera fila\n",
        "\n",
        "    lj1=matriz[j][0]/diagonal_U[0]#cálculo de la entrada j1 de la matriz L\n",
        "    matriz_L[j][0]=lj1#se añade a la matriz L su primera columna\n",
        "\n",
        "\n",
        "  for i in range(1,n-1):#ciclo para realizar el cálculo de lii*uii\n",
        "    p=diagonal_L[i]*diagonal_U[i]#cálculo de lii*uii\n",
        "\n",
        "    if p==0:#si lii*uii=0 la factorizacion es imposible\n",
        "      print(\"Factorizacion imposible\")\n",
        "      break\n",
        "    for j in range(i+1,n):#ciclo iterativo para el cálculo de la i-esima fila de U y de la j-esima columna de L\n",
        "      matriz_U[i][j]=(1/matriz_L[i][i])*(matriz[i][j]-sumatoria1(i,j))#cálculo de la entrada uij de la matriz U\n",
        "      matriz_L[j][i]=(1/matriz_U[i][i])*(matriz[j][i]-sumatoria2(i,j))#cálculo de la entrada lji de la matriz L\n",
        "\n",
        "\n",
        "\n"
      ],
      "metadata": {
        "id": "eLU98OVfF5UL"
      },
      "execution_count": 5,
      "outputs": []
    },
    {
      "cell_type": "code",
      "source": [
        "for i in range(n):#ciclo iterativo para imprimir las entradas lij y uij de las matrices U y L para j=1,..,n e i=1,..,n\n",
        "  for j in range(i+1):\n",
        "    print(\"La entrada \",i+1,j+1,\"de la matriz L es \",matriz_L[i][j])\n",
        "print(\"\\n\")\n",
        "for i in range(n):\n",
        "  for j in range(i+1):\n",
        "    print(\"La entrada \",i+1,j+1,\"de la matriz U es \",matriz_U[i][j])\n",
        "\n"
      ],
      "metadata": {
        "colab": {
          "base_uri": "https://localhost:8080/"
        },
        "id": "dlUAC_uhpR-m",
        "outputId": "30451f94-e18f-4a20-8d06-4afce09145d8"
      },
      "execution_count": 6,
      "outputs": [
        {
          "output_type": "stream",
          "name": "stdout",
          "text": [
            "La entrada  1 1 de la matriz L es  1.0\n",
            "La entrada  2 1 de la matriz L es  2.0\n",
            "La entrada  2 2 de la matriz L es  1.0\n",
            "La entrada  3 1 de la matriz L es  3.0\n",
            "La entrada  3 2 de la matriz L es  4.0\n",
            "La entrada  3 3 de la matriz L es  1.0\n",
            "La entrada  4 1 de la matriz L es  -1.0\n",
            "La entrada  4 2 de la matriz L es  -3.0\n",
            "La entrada  4 3 de la matriz L es  0.0\n",
            "La entrada  4 4 de la matriz L es  1.0\n",
            "\n",
            "\n",
            "La entrada  1 1 de la matriz U es  1.0\n",
            "La entrada  2 1 de la matriz U es  0.0\n",
            "La entrada  2 2 de la matriz U es  -1.0\n",
            "La entrada  3 1 de la matriz U es  0.0\n",
            "La entrada  3 2 de la matriz U es  0.0\n",
            "La entrada  3 3 de la matriz U es  3.0\n",
            "La entrada  4 1 de la matriz U es  0.0\n",
            "La entrada  4 2 de la matriz U es  0.0\n",
            "La entrada  4 3 de la matriz U es  0.0\n",
            "La entrada  4 4 de la matriz U es  -13.0\n"
          ]
        }
      ]
    },
    {
      "cell_type": "code",
      "source": [
        "if matriz_U[n-1][n-1]*matriz_L[n-1][n-1]==0:#si la entrada lnn*unn=ann es 0 ,la matriz A es singular\n",
        "  print(\"A=LU,pero A es singular\")\n",
        "\n",
        "#Se imprimen las matrices A,L y U\n",
        "print(\"La matriz A=LU es \")\n",
        "print(matriz)\n",
        "print(\"\\n La matriz L es=\")\n",
        "print(matriz_L)\n",
        "print(\"\\n La matriz U es =\")\n",
        "print(matriz_U)\n"
      ],
      "metadata": {
        "colab": {
          "base_uri": "https://localhost:8080/"
        },
        "id": "QMEQi16VmP4H",
        "outputId": "11e9a7c2-2af1-4f13-83a1-32c6879ff0ee"
      },
      "execution_count": 7,
      "outputs": [
        {
          "output_type": "stream",
          "name": "stdout",
          "text": [
            "La matriz A=LU es \n",
            "[[ 1.  1.  0.  3.]\n",
            " [ 2.  1. -1.  1.]\n",
            " [ 3. -1. -1.  2.]\n",
            " [-1.  2.  3. -1.]]\n",
            "\n",
            " La matriz L es=\n",
            "[[ 1.  0.  0.  0.]\n",
            " [ 2.  1.  0.  0.]\n",
            " [ 3.  4.  1.  0.]\n",
            " [-1. -3.  0.  1.]]\n",
            "\n",
            " La matriz U es =\n",
            "[[  1.   1.   0.   3.]\n",
            " [  0.  -1.  -1.  -5.]\n",
            " [  0.   0.   3.  13.]\n",
            " [  0.   0.   0. -13.]]\n"
          ]
        }
      ]
    }
  ]
}