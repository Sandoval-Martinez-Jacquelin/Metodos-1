{
  "nbformat": 4,
  "nbformat_minor": 0,
  "metadata": {
    "colab": {
      "provenance": [],
      "authorship_tag": "ABX9TyNGUpIeFRYtXDASyif4scUj",
      "include_colab_link": true
    },
    "kernelspec": {
      "name": "python3",
      "display_name": "Python 3"
    },
    "language_info": {
      "name": "python"
    }
  },
  "cells": [
    {
      "cell_type": "markdown",
      "metadata": {
        "id": "view-in-github",
        "colab_type": "text"
      },
      "source": [
        "<a href=\"https://colab.research.google.com/github/Sandoval-Martinez-Jacquelin/Metodos-1/blob/main/Untitled10.ipynb\" target=\"_parent\"><img src=\"https://colab.research.google.com/assets/colab-badge.svg\" alt=\"Open In Colab\"/></a>"
      ]
    },
    {
      "cell_type": "code",
      "execution_count": 2,
      "metadata": {
        "colab": {
          "base_uri": "https://localhost:8080/"
        },
        "id": "38HMRbno034i",
        "outputId": "686f1208-5ba8-4de1-c022-7272df7b9217"
      },
      "outputs": [
        {
          "output_type": "stream",
          "name": "stdout",
          "text": [
            "2\n"
          ]
        }
      ],
      "source": [
        "def g(x1,x2):\n",
        "    f1=pow(x1,2)+pow(x2,2)-2\n",
        "    f2=(x1*x2)-1\n",
        "    return pow(f1,2)+pow(f2,2)\n",
        "\n",
        "print(g(1,0))"
      ]
    },
    {
      "cell_type": "code",
      "source": [
        "def gradiente(x1,x2):\n",
        "    c1=(4*pow(x1,3))+(6*x1*pow(x2,2))-(8*x1)-(2*x2)\n",
        "    c2=(4*pow(x2,3))+(6*x2*pow(x1,2))-(8*x2)-(2*x1)\n",
        "    gradiente_xk=[c1,c2]\n",
        "    return gradiente_xk\n",
        "\n",
        "print(gradiente (1,0))"
      ],
      "metadata": {
        "colab": {
          "base_uri": "https://localhost:8080/"
        },
        "id": "-0HbuIo82bg2",
        "outputId": "32f3972a-24c5-4afd-ca49-ce899e2dc675"
      },
      "execution_count": 5,
      "outputs": [
        {
          "output_type": "stream",
          "name": "stdout",
          "text": [
            "[-4, -2]\n"
          ]
        }
      ]
    }
  ]
}