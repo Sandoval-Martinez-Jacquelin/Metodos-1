{
  "nbformat": 4,
  "nbformat_minor": 0,
  "metadata": {
    "colab": {
      "provenance": [],
      "authorship_tag": "ABX9TyNsEQEQtD01fCwybBOkwdFu",
      "include_colab_link": true
    },
    "kernelspec": {
      "name": "python3",
      "display_name": "Python 3"
    },
    "language_info": {
      "name": "python"
    }
  },
  "cells": [
    {
      "cell_type": "markdown",
      "metadata": {
        "id": "view-in-github",
        "colab_type": "text"
      },
      "source": [
        "<a href=\"https://colab.research.google.com/github/Sandoval-Martinez-Jacquelin/Metodos-1/blob/main/Untitled10.ipynb\" target=\"_parent\"><img src=\"https://colab.research.google.com/assets/colab-badge.svg\" alt=\"Open In Colab\"/></a>"
      ]
    },
    {
      "cell_type": "code",
      "execution_count": 80,
      "metadata": {
        "colab": {
          "base_uri": "https://localhost:8080/"
        },
        "id": "38HMRbno034i",
        "outputId": "28ff9e20-bebc-476b-f746-0874e0528528"
      },
      "outputs": [
        {
          "output_type": "stream",
          "name": "stdout",
          "text": [
            "2.0\n"
          ]
        }
      ],
      "source": [
        "\n",
        "import numpy as np\n",
        "from numpy import array\n",
        "\n",
        "from numpy import zeros\n",
        "\n",
        "from math import *\n",
        "def g(x1,x2):\n",
        "    f1=(x1**2)+(x2**2)-2.0\n",
        "    f2=(x1*x2)-1.0\n",
        "\n",
        "    return pow(f1,2)+pow(f2,2)\n",
        "\n",
        "print(g(1,0))\n",
        "tol=0.0001\n",
        "\n",
        "def gradiente_xk(x1,x2):#funcion para evaluar el gradiente en xk\n",
        "    c1=(4*pow(x1,3))+(6*x1*pow(x2,2))-(8*x1)-(2*x2)\n",
        "    c2=(4*pow(x2,3))+(6*x2*pow(x1,2))-(8*x2)-(2*x1)\n",
        "    gradiente_xk=array([c1,c2])\n",
        "    return gradiente_xk#devuelve el verctor gradiente evaluado en xk\n",
        "\n"
      ]
    },
    {
      "cell_type": "code",
      "source": [
        "k=1#numero de iteraciones\n",
        "N=200#numero maximo de iteraciones\n",
        "x0=array([1,0])\n",
        "xk=x0\n",
        "g1=g(xk[0],xk[1])\n",
        "z=gradiente_xk(xk[0],xk[1])#se evalua el gradiente en xk\n",
        "zo=sqrt(pow(z[0],2)+pow(z[1],2))\n",
        "if zo==0:\n",
        "  print(xk,g1)\n",
        "  #break\n",
        "z=z/zo#convertimos z en vector unitario\n",
        "alfa1=0\n",
        "alfa3=1\n",
        "l=xk-alfa3*z\n",
        "g3=g(l[0],l[1])\n",
        "while g3>=g1:\n",
        "  alfa3=alfa3/2\n",
        "  g3=g((xk-alfa3*z)[0],(xk-alfa3*z)[1])\n",
        "  if alfa3<tol/2:\n",
        "    print(\"sin probable mejora\")\n",
        "    print(xk,g1)\n",
        "    #break\n",
        "alfa2=alfa3/2\n",
        "g2=g((xk-alfa2*z)[0],(xk-alfa2*z)[1])\n",
        "h1=(g2-g1)/alfa2\n",
        "h2=(g3-g2)/(alfa3-alfa2)\n",
        "h3=(h2-h1)\n",
        "alfa0=(0.5)*(alfa2-(h1/h3))\n",
        "g0=g((xk-alfa0*z)[0],(xk-alfa0*z)[1])\n",
        "g=min(g0,g3)\n",
        "if g==g0:\n",
        "  alfa=alfa0\n",
        "else:\n",
        "  alfa=alfa3\n",
        "xk=xk-alfa*z\n",
        "print(\"xk\",xk)\n",
        "if abs(g-g1)<tol:\n",
        "  print(xk,g)\n",
        "  print(\"procedimiento exitoso\")\n",
        "  #break\n",
        "k=k+1"
      ],
      "metadata": {
        "id": "JIyAxk2hLgzN",
        "outputId": "e0a402fc-2221-48d6-c094-b83f20d8f5e5",
        "colab": {
          "base_uri": "https://localhost:8080/"
        }
      },
      "execution_count": 81,
      "outputs": [
        {
          "output_type": "stream",
          "name": "stdout",
          "text": [
            "xk [1.4472136 0.2236068]\n"
          ]
        }
      ]
    },
    {
      "cell_type": "code",
      "source": [
        "k=1#numero de iteraciones\n",
        "N=200#numero maximo de iteraciones\n",
        "x0=array([1,0])\n",
        "xk=x0\n",
        "while k<=N:\n",
        "  g1=g(xk[0],xk[1])\n",
        "  z=gradiente_xk(xk[0],xk[1])#se evalua el gradiente en xk\n",
        "  zo=sqrt(pow(z[0],2)+pow(z[1],2))\n",
        "  if zo==0:\n",
        "    print(xk,g1)\n",
        "    break\n",
        "  z=z/zo#convertimos z en vector unitario\n",
        "  alfa1=0\n",
        "  alfa3=1\n",
        "  l=xk-alfa3*z\n",
        "  g3=g(l[0],l[1])\n",
        "  while g3>=g1:\n",
        "    alfa3=alfa3/2\n",
        "    g3=g((xk-alfa3*z)[0],(xk-alfa3*z)[1])\n",
        "    if alfa3<tol/2:\n",
        "      print(\"sin probable mejora\")\n",
        "      print(xk,g1)\n",
        "      break\n",
        "  alfa2=alfa3/2\n",
        "  g2=g((xk-alfa2*z)[0],(xk-alfa2*z)[1])\n",
        "  h1=(g2-g1)/alfa2\n",
        "  h2=(g3-g2)/(alfa3-alfa2)\n",
        "  h3=(h2-h1)\n",
        "  alfa0=(0.5)*(alfa2-(h1/h3))\n",
        "  g0=g((xk-alfa0*z)[0],(xk-alfa0*z)[1])\n",
        "  g=min(g0,g3)\n",
        "  if g==g0:\n",
        "    alfa=alfa0\n",
        "  else:\n",
        "    alfa=alfa3\n",
        "  xk=xk-alfa*z\n",
        "  print(\"xk\",xk)\n",
        "  if abs(g-g1)<tol:\n",
        "    print(xk,g)\n",
        "    print(\"procedimiento exitoso\")\n",
        "    break\n",
        "  k=k+1\n",
        "\n",
        "\n"
      ],
      "metadata": {
        "id": "-EWdqvJCFBsk",
        "outputId": "e3ee3048-1bfa-4970-eab3-f4bcf3b5fdb8",
        "colab": {
          "base_uri": "https://localhost:8080/",
          "height": 222
        }
      },
      "execution_count": 83,
      "outputs": [
        {
          "output_type": "error",
          "ename": "TypeError",
          "evalue": "'float' object is not callable",
          "traceback": [
            "\u001b[0;31m---------------------------------------------------------------------------\u001b[0m",
            "\u001b[0;31mTypeError\u001b[0m                                 Traceback (most recent call last)",
            "\u001b[0;32m/tmp/ipython-input-83-682596127.py\u001b[0m in \u001b[0;36m<cell line: 0>\u001b[0;34m()\u001b[0m\n\u001b[1;32m      4\u001b[0m \u001b[0mxk\u001b[0m\u001b[0;34m=\u001b[0m\u001b[0mx0\u001b[0m\u001b[0;34m\u001b[0m\u001b[0;34m\u001b[0m\u001b[0m\n\u001b[1;32m      5\u001b[0m \u001b[0;32mwhile\u001b[0m \u001b[0mk\u001b[0m\u001b[0;34m<=\u001b[0m\u001b[0mN\u001b[0m\u001b[0;34m:\u001b[0m\u001b[0;34m\u001b[0m\u001b[0;34m\u001b[0m\u001b[0m\n\u001b[0;32m----> 6\u001b[0;31m   \u001b[0mg1\u001b[0m\u001b[0;34m=\u001b[0m\u001b[0mg\u001b[0m\u001b[0;34m(\u001b[0m\u001b[0mxk\u001b[0m\u001b[0;34m[\u001b[0m\u001b[0;36m0\u001b[0m\u001b[0;34m]\u001b[0m\u001b[0;34m,\u001b[0m\u001b[0mxk\u001b[0m\u001b[0;34m[\u001b[0m\u001b[0;36m1\u001b[0m\u001b[0;34m]\u001b[0m\u001b[0;34m)\u001b[0m\u001b[0;34m\u001b[0m\u001b[0;34m\u001b[0m\u001b[0m\n\u001b[0m\u001b[1;32m      7\u001b[0m   \u001b[0mz\u001b[0m\u001b[0;34m=\u001b[0m\u001b[0mgradiente_xk\u001b[0m\u001b[0;34m(\u001b[0m\u001b[0mxk\u001b[0m\u001b[0;34m[\u001b[0m\u001b[0;36m0\u001b[0m\u001b[0;34m]\u001b[0m\u001b[0;34m,\u001b[0m\u001b[0mxk\u001b[0m\u001b[0;34m[\u001b[0m\u001b[0;36m1\u001b[0m\u001b[0;34m]\u001b[0m\u001b[0;34m)\u001b[0m\u001b[0;31m#se evalua el gradiente en xk\u001b[0m\u001b[0;34m\u001b[0m\u001b[0;34m\u001b[0m\u001b[0m\n\u001b[1;32m      8\u001b[0m   \u001b[0mzo\u001b[0m\u001b[0;34m=\u001b[0m\u001b[0msqrt\u001b[0m\u001b[0;34m(\u001b[0m\u001b[0mpow\u001b[0m\u001b[0;34m(\u001b[0m\u001b[0mz\u001b[0m\u001b[0;34m[\u001b[0m\u001b[0;36m0\u001b[0m\u001b[0;34m]\u001b[0m\u001b[0;34m,\u001b[0m\u001b[0;36m2\u001b[0m\u001b[0;34m)\u001b[0m\u001b[0;34m+\u001b[0m\u001b[0mpow\u001b[0m\u001b[0;34m(\u001b[0m\u001b[0mz\u001b[0m\u001b[0;34m[\u001b[0m\u001b[0;36m1\u001b[0m\u001b[0;34m]\u001b[0m\u001b[0;34m,\u001b[0m\u001b[0;36m2\u001b[0m\u001b[0;34m)\u001b[0m\u001b[0;34m)\u001b[0m\u001b[0;34m\u001b[0m\u001b[0;34m\u001b[0m\u001b[0m\n",
            "\u001b[0;31mTypeError\u001b[0m: 'float' object is not callable"
          ]
        }
      ]
    },
    {
      "cell_type": "code",
      "source": [],
      "metadata": {
        "id": "CwPPf8W2LFl2"
      },
      "execution_count": null,
      "outputs": []
    }
  ]
}