{
  "nbformat": 4,
  "nbformat_minor": 0,
  "metadata": {
    "colab": {
      "provenance": [],
      "authorship_tag": "ABX9TyO2sC4FoQChZ83KAYHiSD/2",
      "include_colab_link": true
    },
    "kernelspec": {
      "name": "python3",
      "display_name": "Python 3"
    },
    "language_info": {
      "name": "python"
    }
  },
  "cells": [
    {
      "cell_type": "markdown",
      "metadata": {
        "id": "view-in-github",
        "colab_type": "text"
      },
      "source": [
        "<a href=\"https://colab.research.google.com/github/Sandoval-Martinez-Jacquelin/Metodos-1/blob/main/Eliminaci%C3%B3n_gaussiana.ipynb\" target=\"_parent\"><img src=\"https://colab.research.google.com/assets/colab-badge.svg\" alt=\"Open In Colab\"/></a>"
      ]
    },
    {
      "cell_type": "markdown",
      "source": [
        "# **ELIMINACION GAUSSIANA**"
      ],
      "metadata": {
        "id": "U5W99qPy6I1C"
      }
    },
    {
      "cell_type": "code",
      "source": [
        "import numpy as np\n",
        "from numpy import array\n",
        "\n",
        "from numpy import zeros\n",
        "\n",
        "from math import *"
      ],
      "metadata": {
        "id": "5YkabKav6NNp"
      },
      "execution_count": 40,
      "outputs": []
    },
    {
      "cell_type": "code",
      "source": [
        "\n",
        "n=4#int(input(\"Ingrese el numero de Incognitas y numero de ecuaciones= \"))\n",
        "entradas=[[1., -1., 2.,-1.,-8.], [2.,-2., 3.,-3.,-20.],[1.,1.,1.,0.,-2.], [1., -1., 4.,3.,4.]]#[]\n",
        "#for k in range(n):\n",
        "  #lista=[]\n",
        "  #for d in range(n+1):\n",
        "    #print(\"Ingrese el elemnto A\",k,d,\"de la matriz aumentada\")\n",
        "    #a=float(input(\"\"))\n",
        "    #lista.append(a)\n",
        "  #entradas.append(lista)\n",
        "\n",
        "matrix=array(entradas,dtype=float)\n",
        "\n",
        "print(\"La matriz aumentada que representa el sistema de ecuaciones es: \\n\",matrix)"
      ],
      "metadata": {
        "colab": {
          "base_uri": "https://localhost:8080/"
        },
        "id": "kPcQGhLe6x-q",
        "outputId": "24c0cfce-57a9-4ab3-8ff8-ce9946aab0a2"
      },
      "execution_count": 41,
      "outputs": [
        {
          "output_type": "stream",
          "name": "stdout",
          "text": [
            "La matriz aumentada que representa el sistema de ecuaciones es: \n",
            " [[  1.  -1.   2.  -1.  -8.]\n",
            " [  2.  -2.   3.  -3. -20.]\n",
            " [  1.   1.   1.   0.  -2.]\n",
            " [  1.  -1.   4.   3.   4.]]\n"
          ]
        }
      ]
    },
    {
      "cell_type": "code",
      "source": [
        "final=entradas\n",
        "for i in range(n):\n",
        "\n",
        "  entradas2=array(final)\n",
        "  entradas=array(final)\n",
        "  matrix=array(entradas2)\n",
        "\n",
        "\n",
        "  fila0=list(entradas2[: , i])\n",
        "\n",
        "  cero=[0.,0.,0.,0.]\n",
        "  if fila0 == cero:\n",
        "    print(\"No existe solucion unica\")\n",
        "  else:\n",
        "    co=fila0[i:]\n",
        "\n",
        "    for k in co:\n",
        "      if k!=0:\n",
        "        a=k\n",
        "        break\n",
        "    p=co.index(a)+i\n",
        "\n",
        "    if p!=i:\n",
        "      b=entradas[i]\n",
        "      c=entradas[p]\n",
        "      entradas2[i]=c\n",
        "      entradas2[p]=b\n",
        "\n",
        "\n",
        "\n",
        "\n",
        "\n",
        "    final=[]\n",
        "    for k in range(i+1):\n",
        "      final.append(entradas2[k])\n",
        "\n",
        "    for j in range(i+1,n):\n",
        "\n",
        "      m=-entradas2[j][i]/entradas2[i][i]\n",
        "\n",
        "\n",
        "      fila1=[]\n",
        "      for f in entradas2[i]:\n",
        "         fila1.append(f*m)\n",
        "\n",
        "\n",
        "      sum=list(array(fila1)+array(entradas2[j]))\n",
        "      final.append(sum)\n",
        "  print(\"La Matriz equivalente es: \\n\",array(final))\n"
      ],
      "metadata": {
        "colab": {
          "base_uri": "https://localhost:8080/"
        },
        "id": "uBkD5n8J-uJq",
        "outputId": "034d4b57-092a-4a89-95f7-1aea803e49e2"
      },
      "execution_count": 42,
      "outputs": [
        {
          "output_type": "stream",
          "name": "stdout",
          "text": [
            "La Matriz equivalente es: \n",
            " [[ 1. -1.  2. -1. -8.]\n",
            " [ 0.  0. -1. -1. -4.]\n",
            " [ 0.  2. -1.  1.  6.]\n",
            " [ 0.  0.  2.  4. 12.]]\n",
            "La Matriz equivalente es: \n",
            " [[ 1. -1.  2. -1. -8.]\n",
            " [ 0.  2. -1.  1.  6.]\n",
            " [ 0.  0. -1. -1. -4.]\n",
            " [ 0.  0.  2.  4. 12.]]\n",
            "La Matriz equivalente es: \n",
            " [[ 1. -1.  2. -1. -8.]\n",
            " [ 0.  2. -1.  1.  6.]\n",
            " [ 0.  0. -1. -1. -4.]\n",
            " [ 0.  0.  0.  2.  4.]]\n",
            "La Matriz equivalente es: \n",
            " [[ 1. -1.  2. -1. -8.]\n",
            " [ 0.  2. -1.  1.  6.]\n",
            " [ 0.  0. -1. -1. -4.]\n",
            " [ 0.  0.  0.  2.  4.]]\n"
          ]
        }
      ]
    },
    {
      "cell_type": "code",
      "source": [
        "soluciones=zeros(n,dtype=float)\n",
        "soluciones[n-1]=final[n-1][n]/final[n-1][n-1]\n",
        "\n",
        "\n",
        "def sumatoria(i):\n",
        "  s=0\n",
        "  for j in range(i+1,n):\n",
        "    s+=final[i][j]*soluciones[j]\n",
        "  return s\n",
        "\n",
        "\n",
        "\n",
        "for i in range(n-2,-1,-1):\n",
        "  soluciones[i]=(final[i][n]-sumatoria(i))/final[i][i]\n",
        "print(\"Las soluciones del sistema son: \",soluciones)\n",
        "\n",
        "print(\"Las soluciones del sistema son : \")\n",
        "\n",
        "for k in range(n):\n",
        "  print(\"X\",k+1,\"=\",soluciones[k])"
      ],
      "metadata": {
        "id": "Qh1cNiJiHjp3",
        "outputId": "3fde1529-6687-4ce3-9383-e7fb83ceb014",
        "colab": {
          "base_uri": "https://localhost:8080/"
        }
      },
      "execution_count": 45,
      "outputs": [
        {
          "output_type": "stream",
          "name": "stdout",
          "text": [
            "Las soluciones del sistema son:  [-7.  3.  2.  2.]\n",
            "Las soluciones del sistema son : \n",
            "X 1 = -7.0\n",
            "X 2 = 3.0\n",
            "X 3 = 2.0\n",
            "X 4 = 2.0\n"
          ]
        }
      ]
    }
  ]
}