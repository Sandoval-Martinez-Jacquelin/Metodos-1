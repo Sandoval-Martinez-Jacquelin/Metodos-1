{
  "nbformat": 4,
  "nbformat_minor": 0,
  "metadata": {
    "colab": {
      "provenance": [],
      "authorship_tag": "ABX9TyNEJN1UUkQnZrNY3E3J9prj",
      "include_colab_link": true
    },
    "kernelspec": {
      "name": "python3",
      "display_name": "Python 3"
    },
    "language_info": {
      "name": "python"
    }
  },
  "cells": [
    {
      "cell_type": "markdown",
      "metadata": {
        "id": "view-in-github",
        "colab_type": "text"
      },
      "source": [
        "<a href=\"https://colab.research.google.com/github/Sandoval-Martinez-Jacquelin/Metodos-1/blob/main/Eliminaci%C3%B3n_gaussiana.ipynb\" target=\"_parent\"><img src=\"https://colab.research.google.com/assets/colab-badge.svg\" alt=\"Open In Colab\"/></a>"
      ]
    },
    {
      "cell_type": "markdown",
      "source": [
        "# **ELIMINACION GAUSSIANA**"
      ],
      "metadata": {
        "id": "U5W99qPy6I1C"
      }
    },
    {
      "cell_type": "code",
      "source": [
        "import numpy as np\n",
        "from numpy import array\n",
        "\n",
        "from numpy import zeros\n",
        "from tabulate import tabulate\n",
        "from math import *"
      ],
      "metadata": {
        "id": "5YkabKav6NNp"
      },
      "execution_count": 9,
      "outputs": []
    },
    {
      "cell_type": "code",
      "source": [
        "\n",
        "n=4#int(input(\"Ingrese el numero de Incognitas y numero de ecuaciones= \"))\n",
        "entradas=[[1., -1., 2.,-1.,-8.], [2.,-2., 3.,-3.,-20.],[1.,1.,1.,0.,-2.], [1., -1., 4.,3.,4.]]#[]\n",
        "#for k in range(n):\n",
        "  #lista=[]\n",
        "  #for d in range(n+1):\n",
        "    #print(\"Ingrese el elemnto A\",k,d,\"de la matriz aumentada\")\n",
        "    #a=int(input(\"\"))\n",
        "    #lista.append(a)\n",
        "  #entradas.append(lista)\n",
        "print(entradas)\n",
        "matrix=array(entradas,dtype=float)\n",
        "\n",
        "print(matrix)"
      ],
      "metadata": {
        "colab": {
          "base_uri": "https://localhost:8080/"
        },
        "id": "kPcQGhLe6x-q",
        "outputId": "e38738e1-c26b-4fbc-a777-f62020665e4b"
      },
      "execution_count": 10,
      "outputs": [
        {
          "output_type": "stream",
          "name": "stdout",
          "text": [
            "[[1.0, -1.0, 2.0, -1.0, -8.0], [2.0, -2.0, 3.0, -3.0, -20.0], [1.0, 1.0, 1.0, 0.0, -2.0], [1.0, -1.0, 4.0, 3.0, 4.0]]\n",
            "[[  1.  -1.   2.  -1.  -8.]\n",
            " [  2.  -2.   3.  -3. -20.]\n",
            " [  1.   1.   1.   0.  -2.]\n",
            " [  1.  -1.   4.   3.   4.]]\n"
          ]
        }
      ]
    },
    {
      "cell_type": "code",
      "source": [
        "entradas2=[]\n",
        "for k in entradas:\n",
        "  entradas2.append(k)\n"
      ],
      "metadata": {
        "id": "jzLSpRGU9Ouv"
      },
      "execution_count": 11,
      "outputs": []
    },
    {
      "cell_type": "code",
      "source": [
        "final=entradas\n",
        "for i in range(n):\n",
        "\n",
        "  entradas2=array(final)\n",
        "  entradas=array(final)\n",
        "  matrix=array(entradas2)\n",
        "\n",
        "\n",
        "  fila0=list(entradas2[: , i])\n",
        "\n",
        "  cero=[0.,0.,0.,0.]\n",
        "  if fila0 == cero:\n",
        "    print(\"no existe solucion unica\")\n",
        "  else:\n",
        "    co=fila0[i:]\n",
        "\n",
        "    for k in co:\n",
        "      if k!=0:\n",
        "        a=k\n",
        "        break\n",
        "    p=co.index(a)+i\n",
        "\n",
        "    if p!=i:\n",
        "      b=entradas[i]\n",
        "      c=entradas[p]\n",
        "      entradas2[i]=c\n",
        "      entradas2[p]=b\n",
        "\n",
        "\n",
        "\n",
        "\n",
        "    co=[]\n",
        "    final=[]\n",
        "    for k in range(i+1):\n",
        "      final.append(entradas2[k])\n",
        "\n",
        "    for j in range(i+1,n):\n",
        "\n",
        "      m=-entradas2[j][i]/entradas2[i][i]\n",
        "      co.append(m)\n",
        "\n",
        "      fila1=[]\n",
        "      for f in entradas2[i]:\n",
        "         fila1.append(f*m)\n",
        "\n",
        "\n",
        "      sum=list(array(fila1)+array(entradas2[j]))\n",
        "      final.append(sum)\n",
        "  print(\"final\\n\",array(final))\n"
      ],
      "metadata": {
        "colab": {
          "base_uri": "https://localhost:8080/"
        },
        "id": "uBkD5n8J-uJq",
        "outputId": "2f37f7f0-80ab-40c1-b8bc-8c75f5a4018d"
      },
      "execution_count": 12,
      "outputs": [
        {
          "output_type": "stream",
          "name": "stdout",
          "text": [
            "final\n",
            " [[ 1. -1.  2. -1. -8.]\n",
            " [ 0.  0. -1. -1. -4.]\n",
            " [ 0.  2. -1.  1.  6.]\n",
            " [ 0.  0.  2.  4. 12.]]\n",
            "final\n",
            " [[ 1. -1.  2. -1. -8.]\n",
            " [ 0.  2. -1.  1.  6.]\n",
            " [ 0.  0. -1. -1. -4.]\n",
            " [ 0.  0.  2.  4. 12.]]\n",
            "final\n",
            " [[ 1. -1.  2. -1. -8.]\n",
            " [ 0.  2. -1.  1.  6.]\n",
            " [ 0.  0. -1. -1. -4.]\n",
            " [ 0.  0.  0.  2.  4.]]\n",
            "final\n",
            " [[ 1. -1.  2. -1. -8.]\n",
            " [ 0.  2. -1.  1.  6.]\n",
            " [ 0.  0. -1. -1. -4.]\n",
            " [ 0.  0.  0.  2.  4.]]\n"
          ]
        }
      ]
    }
  ]
}