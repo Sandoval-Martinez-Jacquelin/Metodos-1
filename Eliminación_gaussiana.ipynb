{
  "nbformat": 4,
  "nbformat_minor": 0,
  "metadata": {
    "colab": {
      "provenance": [],
      "authorship_tag": "ABX9TyOPSHNz00Eb7FmpH6GzAhF6",
      "include_colab_link": true
    },
    "kernelspec": {
      "name": "python3",
      "display_name": "Python 3"
    },
    "language_info": {
      "name": "python"
    }
  },
  "cells": [
    {
      "cell_type": "markdown",
      "metadata": {
        "id": "view-in-github",
        "colab_type": "text"
      },
      "source": [
        "<a href=\"https://colab.research.google.com/github/Sandoval-Martinez-Jacquelin/Metodos-1/blob/main/Eliminaci%C3%B3n_gaussiana.ipynb\" target=\"_parent\"><img src=\"https://colab.research.google.com/assets/colab-badge.svg\" alt=\"Open In Colab\"/></a>"
      ]
    },
    {
      "cell_type": "markdown",
      "source": [
        "# **ELIMINACION GAUSSIANA**"
      ],
      "metadata": {
        "id": "U5W99qPy6I1C"
      }
    },
    {
      "cell_type": "code",
      "source": [
        "import numpy as np\n",
        "from numpy import array\n",
        "\n",
        "from numpy import zeros\n",
        "from tabulate import tabulate\n",
        "from math import *"
      ],
      "metadata": {
        "id": "5YkabKav6NNp"
      },
      "execution_count": 545,
      "outputs": []
    },
    {
      "cell_type": "code",
      "source": [
        "\n",
        "n=4#int(input(\"Ingrese el numero de Incognitas y numero de ecuaciones= \"))\n",
        "entradas=[[0., -1., 2.,-1.,-8.], [2.,-2., 3.,-3.,-20.],[10.,1.,1.,0.,-2.], [20., -1., 4.,3.,4.]]#[]\n",
        "#for k in range(n):\n",
        "  #lista=[]\n",
        "  #for d in range(n+1):\n",
        "    #print(\"Ingrese el elemnto A\",k,d,\"de la matriz aumentada\")\n",
        "    #a=int(input(\"\"))\n",
        "    #lista.append(a)\n",
        "  #entradas.append(lista)\n",
        "print(entradas)\n",
        "matrix=array(entradas,dtype=float)\n",
        "\n",
        "print(matrix)"
      ],
      "metadata": {
        "colab": {
          "base_uri": "https://localhost:8080/"
        },
        "id": "kPcQGhLe6x-q",
        "outputId": "a011b2a6-988a-463a-fe28-25f35fbcd930"
      },
      "execution_count": 546,
      "outputs": [
        {
          "output_type": "stream",
          "name": "stdout",
          "text": [
            "[[0.0, -1.0, 2.0, -1.0, -8.0], [2.0, -2.0, 3.0, -3.0, -20.0], [10.0, 1.0, 1.0, 0.0, -2.0], [20.0, -1.0, 4.0, 3.0, 4.0]]\n",
            "[[  0.  -1.   2.  -1.  -8.]\n",
            " [  2.  -2.   3.  -3. -20.]\n",
            " [ 10.   1.   1.   0.  -2.]\n",
            " [ 20.  -1.   4.   3.   4.]]\n"
          ]
        }
      ]
    },
    {
      "cell_type": "code",
      "source": [
        "print(entradas[0][1])"
      ],
      "metadata": {
        "colab": {
          "base_uri": "https://localhost:8080/"
        },
        "id": "wUiCvZuY5NZq",
        "outputId": "6ef79066-65b6-4eb6-c18c-ea9830022ffa"
      },
      "execution_count": 547,
      "outputs": [
        {
          "output_type": "stream",
          "name": "stdout",
          "text": [
            "-1.0\n"
          ]
        }
      ]
    },
    {
      "cell_type": "code",
      "source": [
        "entradas2=[]\n",
        "for k in entradas:\n",
        "  entradas2.append(k)\n"
      ],
      "metadata": {
        "id": "jzLSpRGU9Ouv"
      },
      "execution_count": 548,
      "outputs": []
    },
    {
      "cell_type": "code",
      "source": [
        "entradas2=entradas\n",
        "i=0\n",
        "fila0=list(matrix[: , 0])\n",
        "print(fila0)\n",
        "cero=[0.,0.,0.,0.]\n",
        "if fila0 == cero:\n",
        "  print(\"no existe solucion unica\")\n",
        "else:\n",
        "  co=[]\n",
        "  for k in fila0:\n",
        "    if k!=0:\n",
        "      a=k\n",
        "      break\n",
        "  p=fila0.index(a)\n",
        "  print(a,p,i)\n",
        "  if p!=i:\n",
        "    b=entradas[i]\n",
        "    c=entradas[p]\n",
        "    entradas2[i]=c\n",
        "    entradas2[p]=b\n",
        "\n",
        "  print(entradas2)\n",
        "  co=[]\n",
        "  for j in range(i+1,n):\n",
        "\n",
        "    m=-entradas2[j][i]/entradas2[i][i]\n",
        "    co.append(m)\n",
        "\n",
        "    fila1=[]\n",
        "    for f in entradas2[i]:\n",
        "       fila1.append(f*m)\n",
        "    print(fila1,\"fila1\")\n",
        "\n",
        "\n",
        "\n",
        "  print(co)\n",
        "  print(entradas2,\"e2\")\n",
        "\n",
        "\n",
        "\n",
        "\n"
      ],
      "metadata": {
        "colab": {
          "base_uri": "https://localhost:8080/"
        },
        "id": "owJcs3JE5UOZ",
        "outputId": "f2171c2f-7456-4bcc-d4a0-6a8367e2d92d"
      },
      "execution_count": 549,
      "outputs": [
        {
          "output_type": "stream",
          "name": "stdout",
          "text": [
            "[0.0, 2.0, 10.0, 20.0]\n",
            "2.0 1 0\n",
            "[[2.0, -2.0, 3.0, -3.0, -20.0], [0.0, -1.0, 2.0, -1.0, -8.0], [10.0, 1.0, 1.0, 0.0, -2.0], [20.0, -1.0, 4.0, 3.0, 4.0]]\n",
            "[-0.0, 0.0, -0.0, 0.0, 0.0] fila1\n",
            "[-10.0, 10.0, -15.0, 15.0, 100.0] fila1\n",
            "[-20.0, 20.0, -30.0, 30.0, 200.0] fila1\n",
            "[-0.0, -5.0, -10.0]\n",
            "[[2.0, -2.0, 3.0, -3.0, -20.0], [0.0, -1.0, 2.0, -1.0, -8.0], [0.0, 1.0, 1.0, 0.0, -2.0], [0.0, -1.0, 4.0, 3.0, 4.0]] e2\n"
          ]
        }
      ]
    }
  ]
}