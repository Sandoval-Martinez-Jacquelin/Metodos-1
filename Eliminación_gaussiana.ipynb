{
  "nbformat": 4,
  "nbformat_minor": 0,
  "metadata": {
    "colab": {
      "provenance": [],
      "authorship_tag": "ABX9TyNcZJdcYa1E4+UrH1oDN1y4",
      "include_colab_link": true
    },
    "kernelspec": {
      "name": "python3",
      "display_name": "Python 3"
    },
    "language_info": {
      "name": "python"
    }
  },
  "cells": [
    {
      "cell_type": "markdown",
      "metadata": {
        "id": "view-in-github",
        "colab_type": "text"
      },
      "source": [
        "<a href=\"https://colab.research.google.com/github/Sandoval-Martinez-Jacquelin/Metodos-1/blob/main/Eliminaci%C3%B3n_gaussiana.ipynb\" target=\"_parent\"><img src=\"https://colab.research.google.com/assets/colab-badge.svg\" alt=\"Open In Colab\"/></a>"
      ]
    },
    {
      "cell_type": "markdown",
      "source": [
        "# **ELIMINACION GAUSSIANA**"
      ],
      "metadata": {
        "id": "U5W99qPy6I1C"
      }
    },
    {
      "cell_type": "code",
      "source": [
        "import numpy as np\n",
        "from numpy import array\n",
        "\n",
        "from numpy import zeros\n",
        "from tabulate import tabulate\n",
        "from math import *"
      ],
      "metadata": {
        "id": "5YkabKav6NNp"
      },
      "execution_count": 1042,
      "outputs": []
    },
    {
      "cell_type": "code",
      "source": [
        "\n",
        "n=4#int(input(\"Ingrese el numero de Incognitas y numero de ecuaciones= \"))\n",
        "entradas=[[1., -1., 2.,-1.,-8.], [2.,-2., 3.,-3.,-20.],[1.,1.,1.,0.,-2.], [1., -1., 4.,3.,4.]]#[]\n",
        "#for k in range(n):\n",
        "  #lista=[]\n",
        "  #for d in range(n+1):\n",
        "    #print(\"Ingrese el elemnto A\",k,d,\"de la matriz aumentada\")\n",
        "    #a=int(input(\"\"))\n",
        "    #lista.append(a)\n",
        "  #entradas.append(lista)\n",
        "print(entradas)\n",
        "matrix=array(entradas,dtype=float)\n",
        "\n",
        "print(matrix)"
      ],
      "metadata": {
        "colab": {
          "base_uri": "https://localhost:8080/"
        },
        "id": "kPcQGhLe6x-q",
        "outputId": "d62315f0-ba25-4702-ef72-b89f158f132c"
      },
      "execution_count": 1043,
      "outputs": [
        {
          "output_type": "stream",
          "name": "stdout",
          "text": [
            "[[1.0, -1.0, 2.0, -1.0, -8.0], [2.0, -2.0, 3.0, -3.0, -20.0], [1.0, 1.0, 1.0, 0.0, -2.0], [1.0, -1.0, 4.0, 3.0, 4.0]]\n",
            "[[  1.  -1.   2.  -1.  -8.]\n",
            " [  2.  -2.   3.  -3. -20.]\n",
            " [  1.   1.   1.   0.  -2.]\n",
            " [  1.  -1.   4.   3.   4.]]\n"
          ]
        }
      ]
    },
    {
      "cell_type": "code",
      "source": [
        "entradas2=[]\n",
        "for k in entradas:\n",
        "  entradas2.append(k)\n"
      ],
      "metadata": {
        "id": "jzLSpRGU9Ouv"
      },
      "execution_count": 1044,
      "outputs": []
    },
    {
      "cell_type": "code",
      "source": [
        "for i in range(n):\n",
        "\n",
        "  entradas2=array(final)\n",
        "  entradas=array(final)\n",
        "  matrix=array(entradas2)\n",
        "\n",
        "\n",
        "  fila0=list(entradas2[: , i])\n",
        "\n",
        "  cero=[0.,0.,0.,0.]\n",
        "  if fila0 == cero:\n",
        "    print(\"no existe solucion unica\")\n",
        "  else:\n",
        "    co=fila0[i:]\n",
        "\n",
        "    for k in co:\n",
        "      if k!=0:\n",
        "        a=k\n",
        "        break\n",
        "    p=co.index(a)+i\n",
        "\n",
        "    if p!=i:\n",
        "      b=entradas[i]\n",
        "      c=entradas[p]\n",
        "      entradas2[i]=c\n",
        "      entradas2[p]=b\n",
        "\n",
        "\n",
        "\n",
        "\n",
        "    co=[]\n",
        "    final=[]\n",
        "    for k in range(i+1):\n",
        "      final.append(entradas2[k])\n",
        "\n",
        "    for j in range(i+1,n):\n",
        "\n",
        "      m=-entradas2[j][i]/entradas2[i][i]\n",
        "      co.append(m)\n",
        "\n",
        "      fila1=[]\n",
        "      for f in entradas2[i]:\n",
        "         fila1.append(f*m)\n",
        "\n",
        "\n",
        "      sum=list(array(fila1)+array(entradas2[j]))\n",
        "      final.append(sum)\n",
        "  print(\"final\\n\",array(final))\n"
      ],
      "metadata": {
        "colab": {
          "base_uri": "https://localhost:8080/"
        },
        "id": "uBkD5n8J-uJq",
        "outputId": "6cf92569-8283-430e-dd12-63ebbae89bce"
      },
      "execution_count": 1045,
      "outputs": [
        {
          "output_type": "stream",
          "name": "stdout",
          "text": [
            "final\n",
            " [[ 1. -1.  2. -1. -8.]\n",
            " [ 0.  1. -1.  1.  6.]\n",
            " [ 0.  0.  1. -1. -4.]\n",
            " [ 0.  0.  0.  1. 20.]]\n",
            "final\n",
            " [[ 1. -1.  2. -1. -8.]\n",
            " [ 0.  1. -1.  1.  6.]\n",
            " [ 0.  0.  1. -1. -4.]\n",
            " [ 0.  0.  0.  1. 20.]]\n",
            "final\n",
            " [[ 1. -1.  2. -1. -8.]\n",
            " [ 0.  1. -1.  1.  6.]\n",
            " [ 0.  0.  1. -1. -4.]\n",
            " [ 0.  0.  0.  1. 20.]]\n",
            "final\n",
            " [[ 1. -1.  2. -1. -8.]\n",
            " [ 0.  1. -1.  1.  6.]\n",
            " [ 0.  0.  1. -1. -4.]\n",
            " [ 0.  0.  0.  1. 20.]]\n"
          ]
        }
      ]
    },
    {
      "cell_type": "code",
      "source": [
        "#entradas2=final\n",
        "print(entradas2,\"e2\")\n",
        "i=0\n",
        "fila0=list(matrix[: , i])\n",
        "print(fila0)\n",
        "cero=[0.,0.,0.,0.]\n",
        "if fila0 == cero:\n",
        "  print(\"no existe solucion unica\")\n",
        "else:\n",
        "  co=[]\n",
        "  for k in fila0:\n",
        "    if k!=0:\n",
        "      a=k\n",
        "      break\n",
        "  p=fila0.index(a)\n",
        "  print(a,p,i)\n",
        "  if p!=i:\n",
        "    b=entradas[i]\n",
        "    c=entradas[p]\n",
        "    entradas2[i]=c\n",
        "    entradas2[p]=b\n",
        "\n",
        "  print(entradas2,\"e2\")\n",
        "  entradas2[i][i]=entradas2[i][i]/entradas2[i][i]\n",
        "  co=[]\n",
        "  final=[]\n",
        "  for k in range(i+1):\n",
        "    final.append(entradas2[k])\n",
        "  for j in range(i+1,n):\n",
        "\n",
        "    m=-entradas2[j][i]/entradas2[i][i]\n",
        "    co.append(m)\n",
        "\n",
        "    fila1=[]\n",
        "    for f in entradas2[i]:\n",
        "       fila1.append(f*m)\n",
        "\n",
        "    print(array(fila1),\"fila1\")\n",
        "    sum=list(array(fila1)+array(entradas2[j]))\n",
        "    final.append(sum)\n",
        "  print(\"final\\n\",array(final))\n",
        "\n",
        "\n",
        "\n"
      ],
      "metadata": {
        "colab": {
          "base_uri": "https://localhost:8080/"
        },
        "id": "LBASsWsguq4q",
        "outputId": "b635d43d-cc52-4dcc-bca4-cd40ecb1d62b"
      },
      "execution_count": 1003,
      "outputs": [
        {
          "output_type": "stream",
          "name": "stdout",
          "text": [
            "[[1.0, -1.0, 2.0, -1.0, -8.0], [2.0, -2.0, 3.0, -3.0, -20.0], [1.0, 1.0, 1.0, 0.0, -2.0], [1.0, -1.0, 4.0, 3.0, 4.0]] e2\n",
            "[1.0, 2.0, 1.0, 1.0]\n",
            "1.0 0 0\n",
            "[[1.0, -1.0, 2.0, -1.0, -8.0], [2.0, -2.0, 3.0, -3.0, -20.0], [1.0, 1.0, 1.0, 0.0, -2.0], [1.0, -1.0, 4.0, 3.0, 4.0]] e2\n",
            "[-2.  2. -4.  2. 16.] fila1\n",
            "[-1.  1. -2.  1.  8.] fila1\n",
            "[-1.  1. -2.  1.  8.] fila1\n",
            "final\n",
            " [[ 1. -1.  2. -1. -8.]\n",
            " [ 0.  0. -1. -1. -4.]\n",
            " [ 0.  2. -1.  1.  6.]\n",
            " [ 0.  0.  2.  4. 12.]]\n"
          ]
        }
      ]
    },
    {
      "cell_type": "code",
      "source": [
        "i=1\n",
        "entradas2=array(final)\n",
        "entradas=array(final)\n",
        "matrix=array(entradas2)\n",
        "print(entradas2,\"e2final\")\n",
        "\n",
        "fila0=list(entradas2[: , i])\n",
        "print(fila0,\"f0\")\n",
        "cero=[0.,0.,0.,0.]\n",
        "if fila0 == cero:\n",
        "  print(\"no existe solucion unica\")\n",
        "else:\n",
        "  co=[]\n",
        "  for k in fila0[i:]:\n",
        "    if k!=0:\n",
        "      a=k\n",
        "      break\n",
        "  p=fila0.index(a)\n",
        "  print(a,p,i)\n",
        "  if p!=i:\n",
        "    b=entradas[i]\n",
        "    c=entradas[p]\n",
        "    entradas2[i]=c\n",
        "    entradas2[p]=b\n",
        "\n",
        "  print(entradas2,\"eee2\")\n",
        "  entradas2[i][i]=entradas2[i][i]/entradas2[i][i]\n",
        "  co=[]\n",
        "  final=[]\n",
        "  for k in range(i+1):\n",
        "    final.append(entradas2[k])\n",
        "\n",
        "  for j in range(i+1,n):\n",
        "\n",
        "    m=-entradas2[j][i]/entradas2[i][i]\n",
        "    co.append(m)\n",
        "\n",
        "    fila1=[]\n",
        "    for f in entradas2[i]:\n",
        "       fila1.append(f*m)\n",
        "\n",
        "    print(array(fila1),\"fila1\")\n",
        "    sum=list(array(fila1)+array(entradas2[j]))\n",
        "    final.append(sum)\n",
        "  print(\"final\\n\",array(final))\n",
        "\n",
        "\n",
        "i=1\n",
        "entradas2=array(final)\n",
        "entradas=array(final)\n",
        "matrix=array(entradas2)\n",
        "print(entradas2,\"e2final\")\n",
        "\n",
        "fila0=list(entradas2[: , i])\n",
        "print(fila0,\"f0\")\n",
        "cero=[0.,0.,0.,0.]\n",
        "if fila0 == cero:\n",
        "  print(\"no existe solucion unica\")\n",
        "else:\n",
        "  co=[]\n",
        "  for k in fila0[i:]:\n",
        "    if k!=0:\n",
        "      a=k\n",
        "      break\n",
        "  p=fila0.index(a)\n",
        "  print(a,p,i)\n",
        "  if p!=i:\n",
        "    b=entradas[i]\n",
        "    c=entradas[p]\n",
        "    entradas2[i]=c\n",
        "    entradas2[p]=b\n",
        "\n",
        "  print(entradas2,\"eee2\")\n",
        "  entradas2[i][i]=entradas2[i][i]/entradas2[i][i]\n",
        "  co=[]\n",
        "  final=[]\n",
        "  for k in range(i+1):\n",
        "    final.append(entradas2[k])\n",
        "\n",
        "  for j in range(i+1,n):\n",
        "\n",
        "    m=-entradas2[j][i]/entradas2[i][i]\n",
        "    co.append(m)\n",
        "\n",
        "    fila1=[]\n",
        "    for f in entradas2[i]:\n",
        "       fila1.append(f*m)\n",
        "\n",
        "    print(array(fila1),\"fila1\")\n",
        "    sum=list(array(fila1)+array(entradas2[j]))\n",
        "    final.append(sum)\n",
        "  print(\"final\\n\",array(final))\n"
      ],
      "metadata": {
        "colab": {
          "base_uri": "https://localhost:8080/"
        },
        "id": "xKxBSN4lzQ7O",
        "outputId": "e4514342-f063-4b0a-c8bf-fd3af7702407"
      },
      "execution_count": 1004,
      "outputs": [
        {
          "output_type": "stream",
          "name": "stdout",
          "text": [
            "[[ 1. -1.  2. -1. -8.]\n",
            " [ 0.  0. -1. -1. -4.]\n",
            " [ 0.  2. -1.  1.  6.]\n",
            " [ 0.  0.  2.  4. 12.]] e2final\n",
            "[-1.0, 0.0, 2.0, 0.0] f0\n",
            "2.0 2 1\n",
            "[[ 1. -1.  2. -1. -8.]\n",
            " [ 0.  2. -1.  1.  6.]\n",
            " [ 0.  0. -1. -1. -4.]\n",
            " [ 0.  0.  2.  4. 12.]] eee2\n",
            "[-0. -0.  0. -0. -0.] fila1\n",
            "[-0. -0.  0. -0. -0.] fila1\n",
            "final\n",
            " [[ 1. -1.  2. -1. -8.]\n",
            " [ 0.  1. -1.  1.  6.]\n",
            " [ 0.  0. -1. -1. -4.]\n",
            " [ 0.  0.  2.  4. 12.]]\n",
            "[[ 1. -1.  2. -1. -8.]\n",
            " [ 0.  1. -1.  1.  6.]\n",
            " [ 0.  0. -1. -1. -4.]\n",
            " [ 0.  0.  2.  4. 12.]] e2final\n",
            "[-1.0, 1.0, 0.0, 0.0] f0\n",
            "1.0 1 1\n",
            "[[ 1. -1.  2. -1. -8.]\n",
            " [ 0.  1. -1.  1.  6.]\n",
            " [ 0.  0. -1. -1. -4.]\n",
            " [ 0.  0.  2.  4. 12.]] eee2\n",
            "[-0. -0.  0. -0. -0.] fila1\n",
            "[-0. -0.  0. -0. -0.] fila1\n",
            "final\n",
            " [[ 1. -1.  2. -1. -8.]\n",
            " [ 0.  1. -1.  1.  6.]\n",
            " [ 0.  0. -1. -1. -4.]\n",
            " [ 0.  0.  2.  4. 12.]]\n"
          ]
        }
      ]
    },
    {
      "cell_type": "code",
      "source": [
        "i=2\n",
        "entradas2=array(final)\n",
        "entradas=array(final)\n",
        "matrix=array(entradas2)\n",
        "print(entradas2,\"e2final\")\n",
        "\n",
        "fila0=list(entradas2[: , i])\n",
        "print(fila0,\"f0\")\n",
        "cero=[0.,0.,0.,0.]\n",
        "if fila0 == cero:\n",
        "  print(\"no existe solucion unica\")\n",
        "else:\n",
        "  co=fila0[i:]\n",
        "  print(\"co\",co)\n",
        "  for k in co:\n",
        "    if k!=0:\n",
        "      a=k\n",
        "      break\n",
        "  p=co.index(a)+i\n",
        "  print(a,p,i)\n",
        "  if p!=i:\n",
        "    b=entradas[i]\n",
        "    c=entradas[p]\n",
        "    entradas2[i]=c\n",
        "    entradas2[p]=b\n",
        "\n",
        "\n",
        "  print(entradas2,\"eee2\")\n",
        "  entradas2[i][i]=entradas2[i][i]/entradas2[i][i]\n",
        "  co=[]\n",
        "  final=[]\n",
        "  for k in range(i+1):\n",
        "    final.append(entradas2[k])\n",
        "\n",
        "  for j in range(i+1,n):\n",
        "\n",
        "    m=-entradas2[j][i]/entradas2[i][i]\n",
        "    co.append(m)\n",
        "\n",
        "    fila1=[]\n",
        "    for f in entradas2[i]:\n",
        "       fila1.append(f*m)\n",
        "\n",
        "    print(array(fila1),\"fila1\")\n",
        "    sum=list(array(fila1)+array(entradas2[j]))\n",
        "    final.append(sum)\n",
        "  print(\"final\\n\",array(final))\n"
      ],
      "metadata": {
        "colab": {
          "base_uri": "https://localhost:8080/"
        },
        "id": "JwyMeS8L58AH",
        "outputId": "f7408107-0b8a-4d01-fb39-92129e1111cb"
      },
      "execution_count": 1005,
      "outputs": [
        {
          "output_type": "stream",
          "name": "stdout",
          "text": [
            "[[ 1. -1.  2. -1. -8.]\n",
            " [ 0.  1. -1.  1.  6.]\n",
            " [ 0.  0. -1. -1. -4.]\n",
            " [ 0.  0.  2.  4. 12.]] e2final\n",
            "[2.0, -1.0, -1.0, 2.0] f0\n",
            "co [-1.0, 2.0]\n",
            "-1.0 2 2\n",
            "[[ 1. -1.  2. -1. -8.]\n",
            " [ 0.  1. -1.  1.  6.]\n",
            " [ 0.  0. -1. -1. -4.]\n",
            " [ 0.  0.  2.  4. 12.]] eee2\n",
            "[-0. -0. -2.  2.  8.] fila1\n",
            "final\n",
            " [[ 1. -1.  2. -1. -8.]\n",
            " [ 0.  1. -1.  1.  6.]\n",
            " [ 0.  0.  1. -1. -4.]\n",
            " [ 0.  0.  0.  6. 20.]]\n"
          ]
        }
      ]
    },
    {
      "cell_type": "code",
      "source": [
        "i=3\n",
        "entradas2=array(final)\n",
        "entradas=array(final)\n",
        "matrix=array(entradas2)\n",
        "print(entradas2,\"e2final\")\n",
        "\n",
        "fila0=list(entradas2[: , i])\n",
        "print(fila0,\"f0\")\n",
        "cero=[0.,0.,0.,0.]\n",
        "if fila0 == cero:\n",
        "  print(\"no existe solucion unica\")\n",
        "else:\n",
        "  co=fila0[i:]\n",
        "  print(\"co\",co)\n",
        "  for k in co:\n",
        "    if k!=0:\n",
        "      a=k\n",
        "      break\n",
        "  p=fila0.index(a)\n",
        "  print(a,p,i)\n",
        "  if p!=i:\n",
        "    b=entradas[i]\n",
        "    c=entradas[p]\n",
        "    entradas2[i]=c\n",
        "    entradas2[p]=b\n",
        "\n",
        "\n",
        "  print(entradas2,\"eee2\")\n",
        "  entradas2[i][i]=entradas2[i][i]/entradas2[i][i]\n",
        "  co=[]\n",
        "  final=[]\n",
        "  for k in range(i+1):\n",
        "    final.append(entradas2[k])\n",
        "\n",
        "  for j in range(i+1,n):\n",
        "\n",
        "    m=-entradas2[j][i]/entradas2[i][i]\n",
        "    co.append(m)\n",
        "\n",
        "    fila1=[]\n",
        "    for f in entradas2[i]:\n",
        "       fila1.append(f*m)\n",
        "\n",
        "    print(array(fila1),\"fila1\")\n",
        "    sum=list(array(fila1)+array(entradas2[j]))\n",
        "    final.append(sum)\n",
        "  print(\"final\\n\",array(final))\n"
      ],
      "metadata": {
        "colab": {
          "base_uri": "https://localhost:8080/"
        },
        "id": "yxK8uMx58ags",
        "outputId": "eb25255a-50f4-4289-dc0e-8fd4285ac9c4"
      },
      "execution_count": 1006,
      "outputs": [
        {
          "output_type": "stream",
          "name": "stdout",
          "text": [
            "[[ 1. -1.  2. -1. -8.]\n",
            " [ 0.  1. -1.  1.  6.]\n",
            " [ 0.  0.  1. -1. -4.]\n",
            " [ 0.  0.  0.  6. 20.]] e2final\n",
            "[-1.0, 1.0, -1.0, 6.0] f0\n",
            "co [6.0]\n",
            "6.0 3 3\n",
            "[[ 1. -1.  2. -1. -8.]\n",
            " [ 0.  1. -1.  1.  6.]\n",
            " [ 0.  0.  1. -1. -4.]\n",
            " [ 0.  0.  0.  6. 20.]] eee2\n",
            "final\n",
            " [[ 1. -1.  2. -1. -8.]\n",
            " [ 0.  1. -1.  1.  6.]\n",
            " [ 0.  0.  1. -1. -4.]\n",
            " [ 0.  0.  0.  1. 20.]]\n"
          ]
        }
      ]
    }
  ]
}