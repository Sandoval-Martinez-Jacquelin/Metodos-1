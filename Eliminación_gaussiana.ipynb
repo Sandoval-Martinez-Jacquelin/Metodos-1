{
  "nbformat": 4,
  "nbformat_minor": 0,
  "metadata": {
    "colab": {
      "provenance": [],
      "authorship_tag": "ABX9TyNQnTRYLC6RTa8LSc3F3Ndr",
      "include_colab_link": true
    },
    "kernelspec": {
      "name": "python3",
      "display_name": "Python 3"
    },
    "language_info": {
      "name": "python"
    }
  },
  "cells": [
    {
      "cell_type": "markdown",
      "metadata": {
        "id": "view-in-github",
        "colab_type": "text"
      },
      "source": [
        "<a href=\"https://colab.research.google.com/github/Sandoval-Martinez-Jacquelin/Metodos-1/blob/main/Eliminaci%C3%B3n_gaussiana.ipynb\" target=\"_parent\"><img src=\"https://colab.research.google.com/assets/colab-badge.svg\" alt=\"Open In Colab\"/></a>"
      ]
    },
    {
      "cell_type": "markdown",
      "source": [
        "# **ELIMINACION GAUSSIANA**"
      ],
      "metadata": {
        "id": "U5W99qPy6I1C"
      }
    },
    {
      "cell_type": "code",
      "source": [
        "import numpy as np\n",
        "from numpy import array\n",
        "\n",
        "from numpy import zeros\n",
        "\n",
        "from math import *"
      ],
      "metadata": {
        "id": "5YkabKav6NNp"
      },
      "execution_count": 11,
      "outputs": []
    },
    {
      "cell_type": "code",
      "source": [
        "#Ingreso del numero de incognitas y ecuaciones del sistema\n",
        "n=4#int(input(\"Ingrese el numero de Incognitas y numero de ecuaciones= \"))\n",
        "#entradas=[] #Lista vacia para alamcenar las entradas de la matriz aumentada correspondiente al sistema de ecuaciones\n",
        "entradas=[[1., -1., 2.,-1.,-8.], [2.,-2., 3.,-3.,-20.],[1.,1.,1.,0.,-2.], [1., -1., 4.,3.,4.]]#filas corrrespondientes al ejemplo\n",
        "\n",
        "#ciclo iterativo para que el usuario ingrese las entradas de la matriz aumentada\n",
        "\n",
        "#for k in range(n):\n",
        "  #lista=[]\n",
        "  #for d in range(n+1):\n",
        "    #print(\"Ingrese el elemnto A\",k,d,\"de la matriz aumentada\")\n",
        "    #a=float(input(\"\"))\n",
        "    #lista.append(a)\n",
        "  #entradas.append(lista)\n",
        "\n",
        "matrix=array(entradas,dtype=float)#creacion de la matriz aumentada correspondiente al sistema de ecuaciones\n",
        "\n",
        "print(\"La matriz aumentada que representa el sistema de ecuaciones es: \\n\",matrix)"
      ],
      "metadata": {
        "colab": {
          "base_uri": "https://localhost:8080/"
        },
        "id": "kPcQGhLe6x-q",
        "outputId": "56dd4536-f8df-4cc9-c082-4c4cdc95bd38"
      },
      "execution_count": 12,
      "outputs": [
        {
          "output_type": "stream",
          "name": "stdout",
          "text": [
            "La matriz aumentada que representa el sistema de ecuaciones es: \n",
            " [[  1.  -1.   2.  -1.  -8.]\n",
            " [  2.  -2.   3.  -3. -20.]\n",
            " [  1.   1.   1.   0.  -2.]\n",
            " [  1.  -1.   4.   3.   4.]]\n"
          ]
        }
      ]
    },
    {
      "cell_type": "code",
      "source": [
        "print(\"Las matrices equivalentes son: \\n\\n\")\n",
        "final=entradas\n",
        "#Ciclo iterativo\n",
        "#Eliminacion Gaussiana con sustitucion hacia atras\n",
        "\n",
        "for i in range(n):\n",
        "\n",
        "  entradas2=array(final)\n",
        "  entradas=array(final)\n",
        "  matrix=array(entradas2)\n",
        "\n",
        "\n",
        "  col0=list(entradas2[: , i])#se obtiene la columna i del arreglo \"entradas2\"\n",
        "\n",
        "  cero=[0.,0.,0.,0.]\n",
        "  if col0 == cero:#si todas las entradas de la columna i son 0 ,el sistema no tiene solucion unica\n",
        "    print(\"No existe solucion unica\")\n",
        "  else:\n",
        "    col=col0[i:]#se obtienen los elemntos de la lista \"col0\" desde el subindice i hasta el ultimo elemnto y se guardan en la lista \"col\"\n",
        "\n",
        "    for k in col:#ciclo para recorrer los elementos de la lista \"col\"\n",
        "      if k!=0:\n",
        "        a=k#el primer elemnto diferente de 0 ,de la lista \"col\" se guarda en la variable \"a\"\n",
        "        break\n",
        "    p=col.index(a)+i #se obtiene el subindice del valor de \"a\" ,dentro de la \"col0\" y se almacena en la variable \"p\"\n",
        "\n",
        "    if p!=i:#si el valor de p e i son distintos,se intercambian las filas p e i del arreglo \"entradas2\"\n",
        "      b=entradas[i]\n",
        "      c=entradas[p]\n",
        "      entradas2[i]=c\n",
        "      entradas2[p]=b\n",
        "\n",
        "\n",
        "\n",
        "\n",
        "\n",
        "    final=[]#lista vacia para guardar las filas de la matrices equivbalentes resultantes de las operaciones elemntales\n",
        "    for k in range(i+1):#ciclo para agregar a la lista vacia las fila 0,1,...,i del arreglo \"entradas2\"\n",
        "      final.append(entradas2[k])\n",
        "\n",
        "    for j in range(i+1,n):#ciclo iterativo para el calculo de los valores de m\n",
        "\n",
        "      m=-entradas2[j][i]/entradas2[i][i]\n",
        "\n",
        "\n",
        "      fila1=[]#creacion de una lista vacia\n",
        "      for f in entradas2[i]:#ciclo iterativo para guardar los valoes resultantes del producto de m con cada elemnto de la fila i del arreglo \"entradas2\"\n",
        "         fila1.append(f*m)\n",
        "\n",
        "\n",
        "      sum=list(array(fila1)+array(entradas2[j]))#creacion de una lista que alamacena la nueva fila j del arreglo \"entradas2\"\n",
        "      final.append(sum)#se agrega la nueva fila j del arreglo \"entradas2 \" a la lista \"final\"\n",
        "  print(\"La Matriz equivalente es: \\n\",array(final))#se imprime la matriz equivalente ,resultado de las operaciones elemntales\n"
      ],
      "metadata": {
        "colab": {
          "base_uri": "https://localhost:8080/"
        },
        "id": "uBkD5n8J-uJq",
        "outputId": "0a634b39-a755-47b5-d634-a61b1ba11bcf"
      },
      "execution_count": 13,
      "outputs": [
        {
          "output_type": "stream",
          "name": "stdout",
          "text": [
            "Las matrices equivalentes son: \n",
            "\n",
            "\n",
            "La Matriz equivalente es: \n",
            " [[ 1. -1.  2. -1. -8.]\n",
            " [ 0.  0. -1. -1. -4.]\n",
            " [ 0.  2. -1.  1.  6.]\n",
            " [ 0.  0.  2.  4. 12.]]\n",
            "La Matriz equivalente es: \n",
            " [[ 1. -1.  2. -1. -8.]\n",
            " [ 0.  2. -1.  1.  6.]\n",
            " [ 0.  0. -1. -1. -4.]\n",
            " [ 0.  0.  2.  4. 12.]]\n",
            "La Matriz equivalente es: \n",
            " [[ 1. -1.  2. -1. -8.]\n",
            " [ 0.  2. -1.  1.  6.]\n",
            " [ 0.  0. -1. -1. -4.]\n",
            " [ 0.  0.  0.  2.  4.]]\n",
            "La Matriz equivalente es: \n",
            " [[ 1. -1.  2. -1. -8.]\n",
            " [ 0.  2. -1.  1.  6.]\n",
            " [ 0.  0. -1. -1. -4.]\n",
            " [ 0.  0.  0.  2.  4.]]\n"
          ]
        }
      ]
    },
    {
      "cell_type": "code",
      "source": [
        "soluciones=zeros(n,dtype=float)#creacion de un arreglo inicializado en 0 para guardar las soluciones del sistema\n",
        "soluciones[n-1]=final[n-1][n]/final[n-1][n-1]#calculo de Xn\n",
        "\n",
        "\n",
        "def sumatoria(i):#funcion para el calculo de la sumatoria que esta dentro de la formula de Xi\n",
        "  s=0\n",
        "  for j in range(i+1,n):\n",
        "    s+=final[i][j]*soluciones[j]\n",
        "  return s\n",
        "\n",
        "\n",
        "\n",
        "for i in range(n-2,-1,-1):#ciclo iterativo para el calculo de las soluciones Xi\n",
        "  soluciones[i]=(final[i][n]-sumatoria(i))/final[i][i]\n",
        "\n",
        "\n",
        "print(\"Las soluciones del sistema son : \\n\")\n",
        "\n",
        "for k in range(n):#ciclo iterativo para la impresion de las soluciones\n",
        "  print(\"X\",k+1,\"=\",soluciones[k])"
      ],
      "metadata": {
        "id": "Qh1cNiJiHjp3",
        "outputId": "898a12e0-21ca-42a4-e056-09b8978488a0",
        "colab": {
          "base_uri": "https://localhost:8080/"
        }
      },
      "execution_count": 14,
      "outputs": [
        {
          "output_type": "stream",
          "name": "stdout",
          "text": [
            "Las soluciones del sistema son : \n",
            "\n",
            "X 1 = -7.0\n",
            "X 2 = 3.0\n",
            "X 3 = 2.0\n",
            "X 4 = 2.0\n"
          ]
        }
      ]
    }
  ]
}