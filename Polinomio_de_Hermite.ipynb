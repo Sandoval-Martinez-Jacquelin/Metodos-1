{
  "nbformat": 4,
  "nbformat_minor": 0,
  "metadata": {
    "colab": {
      "provenance": [],
      "authorship_tag": "ABX9TyNbLDhb9vszgga1FjE7N3My",
      "include_colab_link": true
    },
    "kernelspec": {
      "name": "python3",
      "display_name": "Python 3"
    },
    "language_info": {
      "name": "python"
    }
  },
  "cells": [
    {
      "cell_type": "markdown",
      "metadata": {
        "id": "view-in-github",
        "colab_type": "text"
      },
      "source": [
        "<a href=\"https://colab.research.google.com/github/Sandoval-Martinez-Jacquelin/Metodos-1/blob/main/Polinomio_de_Hermite.ipynb\" target=\"_parent\"><img src=\"https://colab.research.google.com/assets/colab-badge.svg\" alt=\"Open In Colab\"/></a>"
      ]
    },
    {
      "cell_type": "markdown",
      "source": [
        "# **Polinomio de Hermite**"
      ],
      "metadata": {
        "id": "xgXsrjSb18lH"
      }
    },
    {
      "cell_type": "code",
      "source": [
        "import numpy as np\n",
        "from numpy import array\n",
        "\n",
        "from numpy import zeros\n",
        "from tabulate import tabulate\n",
        "from math import *"
      ],
      "metadata": {
        "id": "1H5MCfJb2NAH"
      },
      "execution_count": 142,
      "outputs": []
    },
    {
      "cell_type": "code",
      "source": [
        "#Ingreso de los datos de la columna  X\n",
        "n=3#int(input(\"Ingrese el numero de datos \"))\n",
        "datx=zeros(n) #creacion de un arreglo inicializado en ceros ,para añadir los datos de la columna x\n",
        "#for i in range(n):\n",
        "  #a=input(\"Ingrese dato para x \")\n",
        "  #datx[i]=a\n",
        "\n",
        "datx=array([1.3,1.6,1.9])#ingreso de los datos de x para el ejemplo"
      ],
      "metadata": {
        "id": "bn-3rTrR2CEu"
      },
      "execution_count": 143,
      "outputs": []
    },
    {
      "cell_type": "code",
      "source": [
        "#Ingreso de los datos de la columna f(x)\n",
        "#daty=zeros(n)\n",
        "#for i in range(n):\n",
        "  #a=input(\"Ingrese f(x) \")\n",
        "  #daty[i]=a\n",
        "\n",
        "daty=array([0.6200860,0.4554022,0.2818186])#ingreso de los datos de f(x) para el ejemplo"
      ],
      "metadata": {
        "id": "9iiusXIa2I5G"
      },
      "execution_count": 144,
      "outputs": []
    },
    {
      "cell_type": "code",
      "source": [
        "#Ingreso de los datos de la columna f(x)\n",
        "#der=zeros(n)\n",
        "#for i in range(n):\n",
        "  #a=input(\"Ingrese f´(x) \")\n",
        "  #der[i]=a\n",
        "\n",
        "der=array([-0.5220232,-0.5698959,-0.5811571])#ingreso de los datos de f(x) para el ejemplo"
      ],
      "metadata": {
        "id": "IlIv3acf2_3P"
      },
      "execution_count": 145,
      "outputs": []
    },
    {
      "cell_type": "code",
      "source": [
        "x=1.5#float(input(\"Ingrese el valor que desea aproximar\"))"
      ],
      "metadata": {
        "id": "vTxV7M8I3h31"
      },
      "execution_count": 146,
      "outputs": []
    },
    {
      "cell_type": "code",
      "source": [
        "#Imprimimos la tabla con los valores x y f(x) dados\n",
        "dic={\"datox\":datx,\"datoy\":daty,\"derivada\":der}\n",
        "print(tabulate(dic,headers=['X',\"f(x)\",\"f´(x)\"],floatfmt='.7f'))"
      ],
      "metadata": {
        "colab": {
          "base_uri": "https://localhost:8080/"
        },
        "id": "Iq5V4klJ3kol",
        "outputId": "a2b89f59-016f-4d6c-a4a5-f77b6a0c31ea"
      },
      "execution_count": 147,
      "outputs": [
        {
          "output_type": "stream",
          "name": "stdout",
          "text": [
            "        X       f(x)       f´(x)\n",
            "---------  ---------  ----------\n",
            "1.3000000  0.6200860  -0.5220232\n",
            "1.6000000  0.4554022  -0.5698959\n",
            "1.9000000  0.2818186  -0.5811571\n"
          ]
        }
      ]
    },
    {
      "cell_type": "code",
      "source": [
        "z=zeros(2*n)\n",
        "print(z)\n",
        "Q=list(zeros(2*(n)))\n",
        "Q1=list(zeros(2*(n)))\n",
        "\n",
        "for i in range(n):\n",
        "  z[2*i]=datx[i]\n",
        "  z[2*(i)+1]=datx[i]\n",
        "  Q[2*i]=daty[i]\n",
        "  Q[2*(i)+1]=daty[i]\n",
        "  Q1[2*(i)+1]=der[i]\n",
        "  if i!=0:\n",
        "    Q1[2*(i)]=(Q[2*i]-Q[2*(i)-1])/(z[2*i]-z[2*(i)-1])\n",
        "print(\"Z\",z)\n",
        "print(\"Q\",Q)\n",
        "print(\"Q1\",Q1)\n",
        "Q1.pop(0)\n",
        "print(\"Q1\",Q1)\n",
        "\n",
        "lista1=Q1#\n",
        "lista2=[]#creacion de una lista vacia para ir almacenando los valores de Q\n",
        "for j in range(2,2*n):\n",
        "  for i in range(j,2*n):\n",
        "    val=(lista1[i-(j-1)]-lista1[i-j])/(z[i]-z[i-j])\n",
        "    lista2.append(val)\n",
        "  dic.update({j:lista2})\n",
        "  print(lista2)\n",
        "  lista1=lista2\n",
        "  lista2=[]\n",
        "\n",
        "print(dic)\n"
      ],
      "metadata": {
        "colab": {
          "base_uri": "https://localhost:8080/"
        },
        "id": "ilBfLkbk39-O",
        "outputId": "ed7148e0-9955-4fd8-af17-fa6e96cf73b5"
      },
      "execution_count": 153,
      "outputs": [
        {
          "output_type": "stream",
          "name": "stdout",
          "text": [
            "[0. 0. 0. 0. 0. 0.]\n",
            "Z [1.3 1.3 1.6 1.6 1.9 1.9]\n",
            "Q [0.620086, 0.620086, 0.4554022, 0.4554022, 0.2818186, 0.2818186]\n",
            "Q1 [0.0, -0.5220232, -0.548946, -0.5698959, -0.5786120000000003, -0.5811571]\n",
            "Q1 [-0.5220232, -0.548946, -0.5698959, -0.5786120000000003, -0.5811571]\n",
            "[-0.08974266666666673, -0.06983299999999988, -0.02905366666666781, -0.008483666666665451]\n",
            "[0.06636555555555616, 0.06796555555555346, 0.06856666666667456]\n",
            "[0.002666666666662164, 0.0010018518518685]\n",
            "[-0.0027746913579894407]\n",
            "{'datox': array([1.3, 1.6, 1.9]), 'datoy': array([0.620086 , 0.4554022, 0.2818186]), 'derivada': array([-0.5220232, -0.5698959, -0.5811571]), 2: [-0.08974266666666673, -0.06983299999999988, -0.02905366666666781, -0.008483666666665451], 3: [0.06636555555555616, 0.06796555555555346, 0.06856666666667456], 4: [0.002666666666662164, 0.0010018518518685], 5: [-0.0027746913579894407]}\n"
          ]
        }
      ]
    },
    {
      "cell_type": "code",
      "source": [
        "lista1=Q1#\n",
        "lista2=[]#creacion de una lista vacia para ir almacenando los valores de Q\n",
        "j=2\n",
        "for i in range(j,2*n):\n",
        "  val=(lista1[i-(j-1)]-lista1[i-j])/(z[i]-z[i-j])\n",
        "  lista2.append(val)\n",
        "print(lista2)\n",
        "\n",
        "lista1=lista2\n",
        "lista2=[]\n",
        "j=3\n",
        "for i in range(j,2*n):\n",
        "  val=(lista1[i-(j-1)]-lista1[i-j])/(z[i]-z[i-j])\n",
        "  lista2.append(val)\n",
        "print(lista2)\n",
        "\n",
        "lista1=lista2\n",
        "lista2=[]\n",
        "\n",
        "j=4\n",
        "for i in range(j,2*n):\n",
        "  val=(lista1[i-(j-1)]-lista1[i-j])/(z[i]-z[i-j])\n",
        "  lista2.append(val)\n",
        "print(lista2)\n",
        "\n",
        "\n",
        "lista1=lista2\n",
        "lista2=[]\n",
        "\n",
        "j=5\n",
        "for i in range(j,2*n):\n",
        "  val=(lista1[i-(j-1)]-lista1[i-j])/(z[i]-z[i-j])\n",
        "  lista2.append(val)\n",
        "print(lista2)"
      ],
      "metadata": {
        "colab": {
          "base_uri": "https://localhost:8080/"
        },
        "id": "xpC0DQLHQtlY",
        "outputId": "2c45ac29-c158-4aea-c920-57a6fa36a052"
      },
      "execution_count": 149,
      "outputs": [
        {
          "output_type": "stream",
          "name": "stdout",
          "text": [
            "[-0.08974266666666673, -0.06983299999999988, -0.02905366666666781, -0.008483666666665451]\n",
            "[0.06636555555555616, 0.06796555555555346, 0.06856666666667456]\n",
            "[0.002666666666662164, 0.0010018518518685]\n",
            "[-0.0027746913579894407]\n"
          ]
        }
      ]
    }
  ]
}