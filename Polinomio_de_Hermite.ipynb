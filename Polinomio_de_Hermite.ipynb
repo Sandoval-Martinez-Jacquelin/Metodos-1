{
  "nbformat": 4,
  "nbformat_minor": 0,
  "metadata": {
    "colab": {
      "provenance": [],
      "authorship_tag": "ABX9TyOC1mvXfsKVhl/IPy+9jF3L",
      "include_colab_link": true
    },
    "kernelspec": {
      "name": "python3",
      "display_name": "Python 3"
    },
    "language_info": {
      "name": "python"
    }
  },
  "cells": [
    {
      "cell_type": "markdown",
      "metadata": {
        "id": "view-in-github",
        "colab_type": "text"
      },
      "source": [
        "<a href=\"https://colab.research.google.com/github/Sandoval-Martinez-Jacquelin/Metodos-1/blob/main/Polinomio_de_Hermite.ipynb\" target=\"_parent\"><img src=\"https://colab.research.google.com/assets/colab-badge.svg\" alt=\"Open In Colab\"/></a>"
      ]
    },
    {
      "cell_type": "markdown",
      "source": [
        "# **Polinomio de Hermite**"
      ],
      "metadata": {
        "id": "xgXsrjSb18lH"
      }
    },
    {
      "cell_type": "code",
      "source": [
        "import numpy as np\n",
        "from numpy import array\n",
        "\n",
        "from numpy import zeros\n",
        "from tabulate import tabulate\n",
        "from math import *"
      ],
      "metadata": {
        "id": "1H5MCfJb2NAH"
      },
      "execution_count": 281,
      "outputs": []
    },
    {
      "cell_type": "code",
      "source": [
        "#Ingreso de los datos de la columna  X\n",
        "n=3#int(input(\"Ingrese el numero de datos \"))\n",
        "datx=zeros(n) #creacion de un arreglo inicializado en ceros ,para añadir los datos de la columna x\n",
        "#for i in range(n):\n",
        "  #a=input(\"Ingrese dato para x \")\n",
        "  #datx[i]=a\n",
        "\n",
        "datx=array([1.3,1.6,1.9])#ingreso de los datos de x para el ejemplo"
      ],
      "metadata": {
        "id": "bn-3rTrR2CEu"
      },
      "execution_count": 282,
      "outputs": []
    },
    {
      "cell_type": "code",
      "source": [
        "#Ingreso de los datos de la columna f(x)\n",
        "#daty=zeros(n)\n",
        "#for i in range(n):\n",
        "  #a=input(\"Ingrese f(x) \")\n",
        "  #daty[i]=a\n",
        "\n",
        "daty=array([0.6200860,0.4554022,0.2818186])#ingreso de los datos de f(x) para el ejemplo"
      ],
      "metadata": {
        "id": "9iiusXIa2I5G"
      },
      "execution_count": 283,
      "outputs": []
    },
    {
      "cell_type": "code",
      "source": [
        "#Ingreso de los datos de la columna f(x)\n",
        "#der=zeros(n)\n",
        "#for i in range(n):\n",
        "  #a=input(\"Ingrese f´(x) \")\n",
        "  #der[i]=a\n",
        "\n",
        "der=array([-0.5220232,-0.5698959,-0.5811571])#ingreso de los datos de f(x) para el ejemplo"
      ],
      "metadata": {
        "id": "IlIv3acf2_3P"
      },
      "execution_count": 284,
      "outputs": []
    },
    {
      "cell_type": "code",
      "source": [
        "x=1.5#float(input(\"Ingrese el valor que desea aproximar\"))"
      ],
      "metadata": {
        "id": "vTxV7M8I3h31"
      },
      "execution_count": 285,
      "outputs": []
    },
    {
      "cell_type": "code",
      "source": [
        "#Imprimimos la tabla con los valores x y f(x) dados\n",
        "dic={\"datox\":datx,\"datoy\":daty,\"derivada\":der}\n",
        "print(tabulate(dic,headers=['X',\"f(x)\",\"f´(x)\"],floatfmt='.7f'))"
      ],
      "metadata": {
        "colab": {
          "base_uri": "https://localhost:8080/"
        },
        "id": "Iq5V4klJ3kol",
        "outputId": "68d132ce-af0d-41e6-f024-b7a2e1921d0c"
      },
      "execution_count": 286,
      "outputs": [
        {
          "output_type": "stream",
          "name": "stdout",
          "text": [
            "        X       f(x)       f´(x)\n",
            "---------  ---------  ----------\n",
            "1.3000000  0.6200860  -0.5220232\n",
            "1.6000000  0.4554022  -0.5698959\n",
            "1.9000000  0.2818186  -0.5811571\n"
          ]
        }
      ]
    },
    {
      "cell_type": "code",
      "source": [
        "z=zeros(2*n)\n",
        "print(z)\n",
        "Q=list(zeros(2*(n)))\n",
        "Q1=list(zeros(2*(n)))\n",
        "\n",
        "for i in range(n):\n",
        "  z[2*i]=datx[i]\n",
        "  z[2*(i)+1]=datx[i]\n",
        "  Q[2*i]=daty[i]\n",
        "  Q[2*(i)+1]=daty[i]\n",
        "  Q1[2*(i)+1]=der[i]\n",
        "  if i!=0:\n",
        "    Q1[2*(i)]=(Q[2*i]-Q[2*(i)-1])/(z[2*i]-z[2*(i)-1])\n",
        "print(\"Z\",z)\n",
        "print(\"Q\",Q)\n",
        "print(\"Q1\",Q1)\n",
        "Q1.pop(0)\n",
        "print(\"Q1\",Q1)\n",
        "\n",
        "\n"
      ],
      "metadata": {
        "colab": {
          "base_uri": "https://localhost:8080/"
        },
        "id": "ilBfLkbk39-O",
        "outputId": "1c535434-f233-4cfa-b1a5-b29351cb8871"
      },
      "execution_count": 287,
      "outputs": [
        {
          "output_type": "stream",
          "name": "stdout",
          "text": [
            "[0. 0. 0. 0. 0. 0.]\n",
            "Z [1.3 1.3 1.6 1.6 1.9 1.9]\n",
            "Q [0.620086, 0.620086, 0.4554022, 0.4554022, 0.2818186, 0.2818186]\n",
            "Q1 [0.0, -0.5220232, -0.548946, -0.5698959, -0.5786120000000003, -0.5811571]\n",
            "Q1 [-0.5220232, -0.548946, -0.5698959, -0.5786120000000003, -0.5811571]\n"
          ]
        }
      ]
    },
    {
      "cell_type": "code",
      "source": [
        "dic2={\"z\":z,0:Q,1:Q1}"
      ],
      "metadata": {
        "id": "KF6xiARUTB5V"
      },
      "execution_count": 288,
      "outputs": []
    },
    {
      "cell_type": "code",
      "source": [
        "lista1=Q1#\n",
        "lista2=[]#creacion de una lista vacia para ir almacenando los valores de Q\n",
        "for j in range(2,2*n):\n",
        "  for i in range(j,2*n):\n",
        "    val=(lista1[i-(j-1)]-lista1[i-j])/(z[i]-z[i-j])\n",
        "    lista2.append(val)\n",
        "  dic2.update({j:lista2})\n",
        "  print(lista2)\n",
        "  lista1=lista2\n",
        "  lista2=[]\n",
        "\n",
        "print(dic2)"
      ],
      "metadata": {
        "colab": {
          "base_uri": "https://localhost:8080/"
        },
        "id": "qN6miSdOS3z-",
        "outputId": "90cdea90-0805-495e-b69a-2a5f31e88148"
      },
      "execution_count": 289,
      "outputs": [
        {
          "output_type": "stream",
          "name": "stdout",
          "text": [
            "[-0.08974266666666673, -0.06983299999999988, -0.02905366666666781, -0.008483666666665451]\n",
            "[0.06636555555555616, 0.06796555555555346, 0.06856666666667456]\n",
            "[0.002666666666662164, 0.0010018518518685]\n",
            "[-0.0027746913579894407]\n",
            "{'z': array([1.3, 1.3, 1.6, 1.6, 1.9, 1.9]), 0: [0.620086, 0.620086, 0.4554022, 0.4554022, 0.2818186, 0.2818186], 1: [-0.5220232, -0.548946, -0.5698959, -0.5786120000000003, -0.5811571], 2: [-0.08974266666666673, -0.06983299999999988, -0.02905366666666781, -0.008483666666665451], 3: [0.06636555555555616, 0.06796555555555346, 0.06856666666667456], 4: [0.002666666666662164, 0.0010018518518685], 5: [-0.0027746913579894407]}\n"
          ]
        }
      ]
    },
    {
      "cell_type": "code",
      "source": [
        "#Ciclo iterativo para asignar espacios vacios al principio de las columnas de Q\n",
        "for i in range(1,2*n):\n",
        "  for k in range(0,i):\n",
        "    dic2[i]=[0]+dic2.get(i)"
      ],
      "metadata": {
        "id": "HmsDYmZvTp0t"
      },
      "execution_count": 290,
      "outputs": []
    },
    {
      "cell_type": "code",
      "source": [
        "print(dic2)"
      ],
      "metadata": {
        "colab": {
          "base_uri": "https://localhost:8080/"
        },
        "id": "8G0wxtVcT8eV",
        "outputId": "0505837a-8aca-4463-8519-d6c2245689d6"
      },
      "execution_count": 291,
      "outputs": [
        {
          "output_type": "stream",
          "name": "stdout",
          "text": [
            "{'z': array([1.3, 1.3, 1.6, 1.6, 1.9, 1.9]), 0: [0.620086, 0.620086, 0.4554022, 0.4554022, 0.2818186, 0.2818186], 1: [0, -0.5220232, -0.548946, -0.5698959, -0.5786120000000003, -0.5811571], 2: [0, 0, -0.08974266666666673, -0.06983299999999988, -0.02905366666666781, -0.008483666666665451], 3: [0, 0, 0, 0.06636555555555616, 0.06796555555555346, 0.06856666666667456], 4: [0, 0, 0, 0, 0.002666666666662164, 0.0010018518518685], 5: [0, 0, 0, 0, 0, -0.0027746913579894407]}\n"
          ]
        }
      ]
    },
    {
      "cell_type": "code",
      "source": [
        "sub=[]#creamos una lista vacia para guardar los subindices de z\n",
        "for s in range(2*n):#cilco iterativo para guardar los subindices de x y tabularlos\n",
        "  sub.append(s)\n",
        "\n",
        "\n",
        "\n",
        "titulos=[\"z\",\"f(z)\"]#se asignan los nombres a la columna de x , f(x) y los subindices de x\n",
        "for k in range(1,2*n):#Definimos los titulos para cada columna de la tabla\n",
        "  titulos.append(\"Qi\"+str(k))"
      ],
      "metadata": {
        "id": "Zs2XEJoCUaD0"
      },
      "execution_count": 292,
      "outputs": []
    },
    {
      "cell_type": "code",
      "source": [
        "print(tabulate(dic2,headers=titulos,floatfmt='.7f'))#Imprimimos la tabla las aproximaciones de Q"
      ],
      "metadata": {
        "colab": {
          "base_uri": "https://localhost:8080/"
        },
        "id": "f6HlY1p9Uc8E",
        "outputId": "752a90b0-74c8-43c6-94c6-c08482aae709"
      },
      "execution_count": 293,
      "outputs": [
        {
          "output_type": "stream",
          "name": "stdout",
          "text": [
            "        z       f(z)         Qi1         Qi2        Qi3        Qi4         Qi5\n",
            "---------  ---------  ----------  ----------  ---------  ---------  ----------\n",
            "1.3000000  0.6200860   0.0000000   0.0000000  0.0000000  0.0000000   0.0000000\n",
            "1.3000000  0.6200860  -0.5220232   0.0000000  0.0000000  0.0000000   0.0000000\n",
            "1.6000000  0.4554022  -0.5489460  -0.0897427  0.0000000  0.0000000   0.0000000\n",
            "1.6000000  0.4554022  -0.5698959  -0.0698330  0.0663656  0.0000000   0.0000000\n",
            "1.9000000  0.2818186  -0.5786120  -0.0290537  0.0679656  0.0026667   0.0000000\n",
            "1.9000000  0.2818186  -0.5811571  -0.0084837  0.0685667  0.0010019  -0.0027747\n"
          ]
        }
      ]
    }
  ]
}