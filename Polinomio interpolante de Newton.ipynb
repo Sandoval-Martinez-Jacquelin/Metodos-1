{
  "nbformat": 4,
  "nbformat_minor": 0,
  "metadata": {
    "colab": {
      "provenance": [],
      "authorship_tag": "ABX9TyPdxJtFwYOpUdNsAZSauwrD",
      "include_colab_link": true
    },
    "kernelspec": {
      "name": "python3",
      "display_name": "Python 3"
    },
    "language_info": {
      "name": "python"
    }
  },
  "cells": [
    {
      "cell_type": "markdown",
      "metadata": {
        "id": "view-in-github",
        "colab_type": "text"
      },
      "source": [
        "<a href=\"https://colab.research.google.com/github/Sandoval-Martinez-Jacquelin/Metodos-1/blob/main/Polinomio%20interpolante%20de%20Newton.ipynb\" target=\"_parent\"><img src=\"https://colab.research.google.com/assets/colab-badge.svg\" alt=\"Open In Colab\"/></a>"
      ]
    },
    {
      "cell_type": "markdown",
      "source": [
        "# **POLINOMIO INTERPOLANTE DE NEWTON**"
      ],
      "metadata": {
        "id": "rg21e1yFq9Rv"
      }
    },
    {
      "cell_type": "code",
      "source": [
        "import numpy as np\n",
        "from numpy import array\n",
        "import matplotlib.pyplot as plt\n",
        "from numpy import zeros\n",
        "from tabulate import tabulate\n",
        "from math import *"
      ],
      "metadata": {
        "id": "MiWake3MrL5o"
      },
      "execution_count": 454,
      "outputs": []
    },
    {
      "cell_type": "code",
      "source": [
        "#Ingreso de los datos de la columna  X\n",
        "n=6#int(input(\"Ingrese el numero de datos \"))\n",
        "#datx=zeros(n)\n",
        "#for i in range(n):\n",
        "  #a=input(\"Ingrese dato para x \")\n",
        "  #datx[i]=a\n",
        "datx=array([0,1,2,3,4,5])#ingreso de los datos de x para el ejemplo"
      ],
      "metadata": {
        "id": "scG2Qfw-rRT_"
      },
      "execution_count": 455,
      "outputs": []
    },
    {
      "cell_type": "code",
      "source": [
        "#Ingreso de los datos de la columna  y\n",
        "#daty=zeros(n)\n",
        "#for i in range(n):\n",
        "  #a=input(\"Ingrese dato para y \")\n",
        "  #daty[i]=a\n",
        "daty=array([-5,1,9,25,55,105])#ingreso de los datos de y para el ejemplo"
      ],
      "metadata": {
        "id": "WLpdfWPItqlK"
      },
      "execution_count": 456,
      "outputs": []
    },
    {
      "cell_type": "code",
      "source": [
        "#Imprimimos la tabla con los valores x y y dados\n",
        "dic={\"datox\":datx,\"datoy\":daty}\n",
        "print(tabulate(dic,headers=['X',\"Y\"]))"
      ],
      "metadata": {
        "colab": {
          "base_uri": "https://localhost:8080/"
        },
        "id": "iBT8YY0iuBCS",
        "outputId": "cfd799f0-018e-4c13-fee1-e7bc25427bb3"
      },
      "execution_count": 457,
      "outputs": [
        {
          "output_type": "stream",
          "name": "stdout",
          "text": [
            "  X    Y\n",
            "---  ---\n",
            "  0   -5\n",
            "  1    1\n",
            "  2    9\n",
            "  3   25\n",
            "  4   55\n",
            "  5  105\n"
          ]
        }
      ]
    },
    {
      "cell_type": "code",
      "source": [
        "def igual(l):#definimos una funcion para saber si todos los elementos de una lista son iguales\n",
        "  if l.count(l[0])==len(l):\n",
        "    return True\n",
        "  else:\n",
        "    return False\n"
      ],
      "metadata": {
        "id": "IELol7SnMmHh"
      },
      "execution_count": 458,
      "outputs": []
    },
    {
      "cell_type": "code",
      "source": [
        "#Calculo de las diferencias\n",
        "d=daty\n",
        "for i in range(1,n):\n",
        "  lista=np.diff(d)\n",
        "  dic.update({i:lista})\n",
        "  d=lista\n",
        "  print(igual(list(lista)))\n",
        "  if igual(list(lista)) is True:#definimos este condicional para conocer el grado del polinomio\n",
        "    grad=i\n",
        "    break\n",
        "lista=np.diff(d)\n",
        "dic.update({i+1:lista})\n",
        "\n",
        "\n",
        "print(dic,grad)\n"
      ],
      "metadata": {
        "colab": {
          "base_uri": "https://localhost:8080/"
        },
        "id": "mb9NokQc5vVv",
        "outputId": "f84615d0-76f0-4c81-c4fe-41786fb31481"
      },
      "execution_count": 459,
      "outputs": [
        {
          "output_type": "stream",
          "name": "stdout",
          "text": [
            "False\n",
            "False\n",
            "True\n",
            "{'datox': array([0, 1, 2, 3, 4, 5]), 'datoy': array([ -5,   1,   9,  25,  55, 105]), 1: array([ 6,  8, 16, 30, 50]), 2: array([ 2,  8, 14, 20]), 3: array([6, 6, 6]), 4: array([0, 0])} 3\n"
          ]
        }
      ]
    },
    {
      "cell_type": "code",
      "source": [
        "print(tabulate(dic,headers=['X',\"Y\",\"Delta 1\",\"Delta 2\",\"Delta 3\",\"Delta 4\",\"Delta 5\"]))#Imprimimos la tabla de diferencias"
      ],
      "metadata": {
        "colab": {
          "base_uri": "https://localhost:8080/"
        },
        "id": "JdGoweScwoe_",
        "outputId": "4d58754d-c9a3-4cfe-edf7-5428d9d15f34"
      },
      "execution_count": 460,
      "outputs": [
        {
          "output_type": "stream",
          "name": "stdout",
          "text": [
            "  X    Y    Delta 1    Delta 2    Delta 3    Delta 4\n",
            "---  ---  ---------  ---------  ---------  ---------\n",
            "  0   -5          6          2          6          0\n",
            "  1    1          8          8          6          0\n",
            "  2    9         16         14          6\n",
            "  3   25         30         20\n",
            "  4   55         50\n",
            "  5  105\n"
          ]
        }
      ]
    },
    {
      "cell_type": "code",
      "source": [
        "#Ingreso del valor de Xk,donde deseamos evaluar el polinomio interpolante de Newton\n",
        "xk=float(input(\"Ingrese el valor de Xk \"))\n",
        "#Ingreso del valor de X0\n",
        "xo=float(input(\"Ingrese el valor de x0 \"))\n",
        "#Calculamos h\n",
        "h=datx[1]-datx[0]\n",
        "\n",
        "#Calculamos K\n",
        "k=(xk-xo)/h\n",
        "print(k)"
      ],
      "metadata": {
        "colab": {
          "base_uri": "https://localhost:8080/"
        },
        "id": "AVtCAOYU8JKk",
        "outputId": "bebd1342-ee1d-4984-fa45-3f51a9f25175"
      },
      "execution_count": 461,
      "outputs": [
        {
          "output_type": "stream",
          "name": "stdout",
          "text": [
            "Ingrese el valor de Xk 1.5\n",
            "Ingrese el valor de x0 1\n",
            "0.5\n"
          ]
        }
      ]
    },
    {
      "cell_type": "code",
      "source": [
        "#funcion para realizar las combinaciones con numeros decimales\n",
        "def comb(k,j):\n",
        "  c=1\n",
        "  for v in range(j):\n",
        "    c=c*(k-v)\n",
        "\n",
        "  f=factorial(j)\n",
        "  return c/f\n"
      ],
      "metadata": {
        "id": "7uPKAfd3UEhI"
      },
      "execution_count": 462,
      "outputs": []
    },
    {
      "cell_type": "code",
      "source": [
        "#Calculo de los coeficientes binomiales\n",
        "ind=list(daty).index(xo)#encontramos el indice de xo en el arreglo de datx\n",
        "yk=daty[ind]#primer sumando de Yk\n",
        "\n",
        "for s in range(1,grad+1):\n",
        "  yk+=comb(k,s)*dic.get(s)[ind]#añadimos a Yk el producto de los coeficientes binomiales con las respectivas diferencias\n",
        "\n",
        "print(\"El valor de F(xk)= \",yk)"
      ],
      "metadata": {
        "colab": {
          "base_uri": "https://localhost:8080/"
        },
        "id": "wIKo2TwKO7OM",
        "outputId": "84d2ddcf-782d-483a-909a-df71ac2e2afd"
      },
      "execution_count": 463,
      "outputs": [
        {
          "output_type": "stream",
          "name": "stdout",
          "text": [
            "El valor de F(xk)=  4.375\n"
          ]
        }
      ]
    }
  ]
}