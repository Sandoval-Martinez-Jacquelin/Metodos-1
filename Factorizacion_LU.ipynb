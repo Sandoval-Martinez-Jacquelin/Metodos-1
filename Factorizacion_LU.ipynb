{
  "nbformat": 4,
  "nbformat_minor": 0,
  "metadata": {
    "colab": {
      "provenance": [],
      "authorship_tag": "ABX9TyNeGzDEHQOyA5Vaxc2IgGhC",
      "include_colab_link": true
    },
    "kernelspec": {
      "name": "python3",
      "display_name": "Python 3"
    },
    "language_info": {
      "name": "python"
    }
  },
  "cells": [
    {
      "cell_type": "markdown",
      "metadata": {
        "id": "view-in-github",
        "colab_type": "text"
      },
      "source": [
        "<a href=\"https://colab.research.google.com/github/Sandoval-Martinez-Jacquelin/Metodos-1/blob/main/Factorizacion_LU.ipynb\" target=\"_parent\"><img src=\"https://colab.research.google.com/assets/colab-badge.svg\" alt=\"Open In Colab\"/></a>"
      ]
    },
    {
      "cell_type": "markdown",
      "source": [
        "**FACTORIZACION LU**"
      ],
      "metadata": {
        "id": "_OqssDhlDhFU"
      }
    },
    {
      "cell_type": "code",
      "source": [
        "import numpy as np\n",
        "from numpy import array\n",
        "\n",
        "from numpy import zeros\n",
        "\n",
        "from math import *"
      ],
      "metadata": {
        "id": "MpTx7SDLDmc9"
      },
      "execution_count": 110,
      "outputs": []
    },
    {
      "cell_type": "code",
      "source": [
        "n=4#int(input(\"Ingrese la dimension n= \"))\n",
        "#filas=[]\n",
        "matriz=array([[1.0, 1.0, 0.0, 3.0], [2.0, 1.0, -1.0, 1.0], [3.0, -1.0, -1.0, 2.0], [-1.0, 2.0, 3.0, -1.0]])#[]\n",
        "#for i in range(n):\n",
        "  #for j in range(n):\n",
        "    #print(\"Ingrese la entrada \",i,j)\n",
        "    #a=float(input(\"\"))\n",
        "    #filas.append(a)\n",
        "  #matriz.append(filas)\n",
        "  #filas=[]\n",
        "\n",
        "diagonal_L=[1.0, 1.0, 1.0, 1.0]#[]\n",
        "diagonal_U=[1.0, -1.0, 3.0, -13.0]#[]\n",
        "\n",
        "#for i in range(n):\n",
        "  #print(\"Ingrese la entrada \",i,i,\" de la diagonal de L\")\n",
        "  #l=float(input(\"\"))\n",
        "  #diagonal_L.append(l)\n",
        "\n",
        "\n",
        "#for i in range(n):\n",
        "  #print(\"Ingrese la entrada \",i,i,\" de la diagonal de U\")\n",
        "  #u=float(input(\"\"))\n",
        "  #diagonal_U.append(u)\n"
      ],
      "metadata": {
        "id": "BXMuKfr3D4ec"
      },
      "execution_count": 111,
      "outputs": []
    },
    {
      "cell_type": "code",
      "source": [
        "matriz_L= zeros((n, n))\n",
        "matriz_U=zeros((n,n))\n",
        "for k in range(n):\n",
        "  matriz_L[k][k]=diagonal_L[k]\n",
        "  matriz_U[k][k]=diagonal_U[k]\n",
        "\n",
        "print(matriz_U)\n",
        "print(matriz_L)"
      ],
      "metadata": {
        "colab": {
          "base_uri": "https://localhost:8080/"
        },
        "id": "6pPRY1pycdwl",
        "outputId": "c07759ba-e7f5-48b3-b662-276058bbca99"
      },
      "execution_count": 112,
      "outputs": [
        {
          "output_type": "stream",
          "name": "stdout",
          "text": [
            "[[  1.   0.   0.   0.]\n",
            " [  0.  -1.   0.   0.]\n",
            " [  0.   0.   3.   0.]\n",
            " [  0.   0.   0. -13.]]\n",
            "[[1. 0. 0. 0.]\n",
            " [0. 1. 0. 0.]\n",
            " [0. 0. 1. 0.]\n",
            " [0. 0. 0. 1.]]\n"
          ]
        }
      ]
    },
    {
      "cell_type": "code",
      "source": [
        "def sumatoria1(i,j):\n",
        "  s=0\n",
        "  for k in range(i):\n",
        "    s+=matriz_L[i][k]*matriz_U[k][j]\n",
        "  return s\n",
        "\n",
        "def sumatoria2(i,j):\n",
        "  s=0\n",
        "  for k in range(i):\n",
        "    s+=matriz_L[j][k]*matriz_U[k][i]\n",
        "  return s\n"
      ],
      "metadata": {
        "id": "E0dd3v_rZxtn"
      },
      "execution_count": 113,
      "outputs": []
    },
    {
      "cell_type": "code",
      "source": [
        "a_11=diagonal_L[0]*diagonal_U[0]#Calculo de a11\n",
        "\n",
        "\n",
        "\n",
        "#Algoritmo factorizacion LU\n",
        "if a_11==0:\n",
        "  print(\"Factorizacion simple \")\n",
        "\n",
        "else:\n",
        "  for j in range(n):#Ciclo iterativo para el calculo de la primera fila de U y de la primera columna de L\n",
        "    u1j=matriz[0][j]/diagonal_L[0]#calculo de la entrada 1j de la matriz U\n",
        "    matriz_U[0][j]=u1j#se añade la primera fila de la matriz u\n",
        "\n",
        "    lj1=matriz[j][0]/diagonal_U[0]#calculo de la entrada j1 de la matriz L\n",
        "    matriz_L[j][0]=lj1#se añade la primera columna de la matriz L\n",
        "\n",
        "\n",
        "  fila_L=[]\n",
        "  fila_U=[]\n",
        "\n",
        "  for i in range(1,n-1):#ciclo para realizar el calculo de lii*uii\n",
        "    p=diagonal_L[i]*diagonal_U[i]\n",
        "\n",
        "    if p==0:#si lii*uii=0 la factorizacion es imposible\n",
        "      print(\"Factorizacion imposible\")\n",
        "      break\n",
        "    for j in range(i+1,n):\n",
        "      matriz_U[i][j]=(1/matriz_L[i][i])*(matriz[i][j]-sumatoria1(i,j))\n",
        "      matriz_L[j][i]=(1/matriz_U[i][i])*(matriz[j][i]-sumatoria2(i,j))\n",
        "\n",
        "\n",
        "\n"
      ],
      "metadata": {
        "id": "eLU98OVfF5UL"
      },
      "execution_count": 114,
      "outputs": []
    },
    {
      "cell_type": "code",
      "source": [
        "if matriz_U[n][n]*matriz"
      ],
      "metadata": {
        "id": "QMEQi16VmP4H"
      },
      "execution_count": null,
      "outputs": []
    }
  ]
}