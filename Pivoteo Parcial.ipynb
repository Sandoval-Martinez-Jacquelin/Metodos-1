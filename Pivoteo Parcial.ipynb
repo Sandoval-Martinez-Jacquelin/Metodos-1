{
  "nbformat": 4,
  "nbformat_minor": 0,
  "metadata": {
    "colab": {
      "provenance": [],
      "authorship_tag": "ABX9TyNme/XnY61X0+iBZOVBJoVX",
      "include_colab_link": true
    },
    "kernelspec": {
      "name": "python3",
      "display_name": "Python 3"
    },
    "language_info": {
      "name": "python"
    }
  },
  "cells": [
    {
      "cell_type": "markdown",
      "metadata": {
        "id": "view-in-github",
        "colab_type": "text"
      },
      "source": [
        "<a href=\"https://colab.research.google.com/github/Sandoval-Martinez-Jacquelin/Metodos-1/blob/main/Pivoteo%20Parcial.ipynb\" target=\"_parent\"><img src=\"https://colab.research.google.com/assets/colab-badge.svg\" alt=\"Open In Colab\"/></a>"
      ]
    },
    {
      "cell_type": "markdown",
      "source": [
        "# **PIVOTEO PARCIAL**"
      ],
      "metadata": {
        "id": "U5W99qPy6I1C"
      }
    },
    {
      "cell_type": "code",
      "source": [
        "import numpy as np\n",
        "from numpy import array\n",
        "\n",
        "from numpy import zeros\n",
        "\n",
        "from math import *"
      ],
      "metadata": {
        "id": "5YkabKav6NNp"
      },
      "execution_count": 95,
      "outputs": []
    },
    {
      "cell_type": "code",
      "source": [
        "#Ingreso del numero de incognitas y ecuaciones del sistema\n",
        "n=4#int(input(\"Ingrese el numero de Incognitas y numero de ecuaciones= \"))\n",
        "#entradas=[] #Lista vacia para alamcenar las filas de la matriz aumentada correspondiente al sistema de ecuaciones\n",
        "entradas=[[1., -1., 2.,-1.,-8.], [2.,-2., 3.,-3.,-20.],[1.,1.,1.,0.,-2.], [1., -1., 4.,3.,4.]]#filas corrrespondientes al siste de ecuaciones dal ejemplo\n",
        "\n",
        "#ciclo iterativo para que el usuario ingrese las entradas de la matriz aumentada\n",
        "\n",
        "#for k in range(n):\n",
        "  #lista=[]\n",
        "  #for d in range(n+1):\n",
        "    #print(\"Ingrese el elemnto A\",k,d,\"de la matriz aumentada\")\n",
        "    #a=float(input(\"\"))\n",
        "    #lista.append(a)\n",
        "  #entradas.append(lista)\n",
        "\n",
        "matrix=array(entradas,dtype=float)#creacion de la matriz aumentada correspondiente al sistema de ecuaciones\n",
        "\n",
        "print(\"La matriz aumentada que representa el sistema de ecuaciones es: \\n\",matrix)"
      ],
      "metadata": {
        "colab": {
          "base_uri": "https://localhost:8080/"
        },
        "id": "kPcQGhLe6x-q",
        "outputId": "e520a39a-68d6-402f-9592-bc15bb0591d1"
      },
      "execution_count": 96,
      "outputs": [
        {
          "output_type": "stream",
          "name": "stdout",
          "text": [
            "La matriz aumentada que representa el sistema de ecuaciones es: \n",
            " [[  1.  -1.   2.  -1.  -8.]\n",
            " [  2.  -2.   3.  -3. -20.]\n",
            " [  1.   1.   1.   0.  -2.]\n",
            " [  1.  -1.   4.   3.   4.]]\n"
          ]
        }
      ]
    },
    {
      "cell_type": "code",
      "source": [
        "final=matrix\n",
        "\n",
        "NROW=zeros(n)\n",
        "for i in range(n):\n",
        "  NROW[i]=i\n",
        "\n",
        "\n",
        "\n"
      ],
      "metadata": {
        "id": "00rwayb1s9Rj"
      },
      "execution_count": 97,
      "outputs": []
    },
    {
      "cell_type": "code",
      "source": [
        "i=0\n",
        "\n",
        "col0=list(final[:,i])\n",
        "ab=list(zeros(n))\n",
        "for j in range(i,n):\n",
        "\n",
        "  ab[j]=abs(col0[j])\n",
        "\n",
        "ma=max(ab)\n",
        "NROW_p=ab.index(ma)\n",
        "print(col0,\"col0\")\n",
        "print(\"ab\",ab)\n",
        "print(ma,NROW_p,\"MAXIMO,INDICE\")\n",
        "\n",
        "\n",
        "\n",
        "if final[NROW_p][i]==0:\n",
        "  print(\"No existe solucion unica\")\n",
        "else:\n",
        "  NCOPY=final[i]\n",
        "  final[i]=final[NROW_p]\n",
        "  final[NROW_p]=NCOPY\n",
        "\n",
        "\n",
        "\n",
        "  print(NCOPY,final[i],final[NROW_p])\n",
        "  print(final,\"modificacon fila\")\n",
        "\n"
      ],
      "metadata": {
        "id": "iWNqdlq-B7a0",
        "outputId": "6037b7cd-a7b6-41c2-9ae5-ff279131b471",
        "colab": {
          "base_uri": "https://localhost:8080/"
        }
      },
      "execution_count": 98,
      "outputs": [
        {
          "output_type": "stream",
          "name": "stdout",
          "text": [
            "[1.0, 2.0, 1.0, 1.0] col0\n",
            "ab [1.0, 2.0, 1.0, 1.0]\n",
            "2.0 1 MAXIMO,INDICE\n",
            "[  2.  -2.   3.  -3. -20.] [  2.  -2.   3.  -3. -20.] [  2.  -2.   3.  -3. -20.]\n",
            "[[  2.  -2.   3.  -3. -20.]\n",
            " [  2.  -2.   3.  -3. -20.]\n",
            " [  1.   1.   1.   0.  -2.]\n",
            " [  1.  -1.   4.   3.   4.]] modificacon fila\n"
          ]
        }
      ]
    }
  ]
}