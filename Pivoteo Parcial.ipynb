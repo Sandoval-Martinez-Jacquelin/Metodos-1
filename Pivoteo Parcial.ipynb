{
  "nbformat": 4,
  "nbformat_minor": 0,
  "metadata": {
    "colab": {
      "provenance": [],
      "authorship_tag": "ABX9TyOkexFtVNT3Php+0onpyeOq",
      "include_colab_link": true
    },
    "kernelspec": {
      "name": "python3",
      "display_name": "Python 3"
    },
    "language_info": {
      "name": "python"
    }
  },
  "cells": [
    {
      "cell_type": "markdown",
      "metadata": {
        "id": "view-in-github",
        "colab_type": "text"
      },
      "source": [
        "<a href=\"https://colab.research.google.com/github/Sandoval-Martinez-Jacquelin/Metodos-1/blob/main/Pivoteo%20Parcial.ipynb\" target=\"_parent\"><img src=\"https://colab.research.google.com/assets/colab-badge.svg\" alt=\"Open In Colab\"/></a>"
      ]
    },
    {
      "cell_type": "markdown",
      "source": [
        "# **PIVOTEO PARCIAL**"
      ],
      "metadata": {
        "id": "U5W99qPy6I1C"
      }
    },
    {
      "cell_type": "code",
      "source": [
        "import numpy as np\n",
        "from numpy import array\n",
        "\n",
        "from numpy import zeros\n",
        "\n",
        "from math import *"
      ],
      "metadata": {
        "id": "5YkabKav6NNp"
      },
      "execution_count": 94,
      "outputs": []
    },
    {
      "cell_type": "code",
      "source": [
        "#Ingreso del numero de incognitas y ecuaciones del sistema\n",
        "n=2#int(input(\"Ingrese el numero de Incognitas y numero de ecuaciones= \"))\n",
        "#entradas=[] #Lista vacia para alamcenar las filas de la matriz aumentada correspondiente al sistema de ecuaciones\n",
        "entradas=[[0.003,59.14,59.17], [5.291,-6.130,46.78]] #filas corrrespondientes al siste de ecuaciones del ejemplo\n",
        "\n",
        "#ciclo iterativo para que el usuario ingrese las entradas de la matriz aumentada\n",
        "\n",
        "#for k in range(n):\n",
        "  #lista=[]\n",
        "  #for d in range(n+1):\n",
        "    #print(\"Ingrese el elemnto A\",k,d,\"de la matriz aumentada\")\n",
        "    #a=float(input(\"\"))\n",
        "    #lista.append(a)\n",
        "  #entradas.append(lista)\n",
        "\n",
        "matrix=array(entradas)#creacion de la matriz aumentada correspondiente al sistema de ecuaciones\n",
        "\n"
      ],
      "metadata": {
        "id": "kPcQGhLe6x-q"
      },
      "execution_count": 95,
      "outputs": []
    },
    {
      "cell_type": "code",
      "source": [
        "\n",
        "print(\"La matriz aumentada que representa el sistema de ecuaciones es \")\n",
        "for x in range(n):#ciclo para imprimir la matriz\n",
        "  for j in range(n+1):\n",
        "    print(matrix[x][j],\" \",end=\" \")\n",
        "  print(\" \")\n",
        "\n"
      ],
      "metadata": {
        "id": "Wa2rhVe1k5y1",
        "outputId": "74ca6985-4e09-4af8-e6c4-6bebf6b768fc",
        "colab": {
          "base_uri": "https://localhost:8080/"
        }
      },
      "execution_count": 96,
      "outputs": [
        {
          "output_type": "stream",
          "name": "stdout",
          "text": [
            "La matriz aumentada que representa el sistema de ecuaciones es \n",
            "0.003   59.14   59.17    \n",
            "5.291   -6.13   46.78    \n"
          ]
        }
      ]
    },
    {
      "cell_type": "code",
      "source": [
        "def intercambio(i,p,matriz,n):#definicion de una funcion para realizar el intercambio de filas dentro del ciclo iterativo\n",
        "  for x in range(n+1):\n",
        "    f1=matriz[i][x]#se intercambia la fila i por la fila p\n",
        "    f2=matriz[p][x]\n",
        "    matriz[i][x]=f2\n",
        "    matriz[p][x]=f1\n",
        "  return matriz\n",
        "\n",
        "\n"
      ],
      "metadata": {
        "id": "aNucqAVWq0y_"
      },
      "execution_count": 97,
      "outputs": []
    },
    {
      "cell_type": "code",
      "source": [
        "#Pivoteo Parcial\n",
        "#Ciclo iterativo\n",
        "final=matrix #se guarda la matriz aumentada en otro arreglo\n",
        "for i in range(n-1):\n",
        "  matrix=array(final)\n",
        "  col0=list(matrix[:,i])#se obtiene la columna i de la matriz aumentada del sistema de ecuaciones\n",
        "  a_NROW_J_i=list(zeros(n))#arreglo para guardar los valores absolutos de la columna i\n",
        "  for j in range(i,n):#ciclo para añadir los valores absolutos de la columna i\n",
        "\n",
        "    a_NROW_J_i[j]=abs(col0[j])#valores absolutos de la columna i,a partir del elemnto i de la columna\n",
        "\n",
        "  a_NROW_p_i=max(a_NROW_J_i)#se encuentra el maximo absoluto del arreglo que contiene los  valores absolutos\n",
        "  NROW_p_i=a_NROW_J_i.index(a_NROW_p_i)#se encuentra el indice del maximo valor absoluto de la columna i\n",
        "\n",
        "\n",
        "  if a_NROW_p_i==0:#si el maximo valor absoluto es 0,el sistema no tiene solucion unica\n",
        "    print(\"No existe solucion unica\")\n",
        "    break\n",
        "  else:\n",
        "    matrix=intercambio(i,NROW_p_i,matrix,n)#llamada de la funcion ,para el intercambio de filas\n",
        "\n",
        "    final=[]#lista vacia para guardar las filas de la matrices  resultantes\n",
        "    for k in range(i+1):#ciclo para agregar a la lista vacia las fila 0,1,...,i del arreglo \"matrix\"\n",
        "        final.append(matrix[k])\n",
        "\n",
        "    for j in range(i+1,n):#ciclo iterativo para el calculo de los valores de m\n",
        "\n",
        "        m=-matrix[j][i]/matrix[i][i]\n",
        "\n",
        "\n",
        "        fila1=[]#creacion de una lista vacia\n",
        "        for f in matrix[i]:#ciclo iterativo para guardar los valoes resultantes del producto de m con cada elemnto de la fila i del arreglo \"matrix\"\n",
        "           fila1.append(round(f*m,7))\n",
        "\n",
        "\n",
        "        sum=list(array(fila1)+array(matrix[j]))#creacion de una lista que alamacena la nueva fila j del arreglo \"matrix\"\n",
        "        final.append(sum)#se agrega la nueva fila j del arreglo \"matrix \" a la lista \"final\"\n",
        "    print(\"La Matriz  resultante del Pivoteo Parcial es: \\n\\n\")#se imprime la matriz resultante\n",
        "    for x in range(n):#ciclo para  imprimir la matriz resultante del Pivoteo Parcial\n",
        "      for j in range(n+1):\n",
        "        print(round(final[x][j],3),\" \",end=\" \")\n",
        "      print(\" \")\n",
        "\n",
        "\n"
      ],
      "metadata": {
        "colab": {
          "base_uri": "https://localhost:8080/"
        },
        "id": "WJN4hFBQtyo0",
        "outputId": "f050bb2a-60ff-4b69-8c0c-320e8fa3fc5d"
      },
      "execution_count": 98,
      "outputs": [
        {
          "output_type": "stream",
          "name": "stdout",
          "text": [
            "La Matriz  resultante del Pivoteo Parcial es: \n",
            "\n",
            "\n",
            "5.291   -6.13   46.78    \n",
            "0.0   59.143   59.143    \n"
          ]
        }
      ]
    },
    {
      "cell_type": "code",
      "source": [
        "if final[n-1][n-1]==0:#condicional para verificar que la entrada An,n de la matriz aumentada no sea 0\n",
        "  print(\"No existe solucion unica\")\n",
        "else:\n",
        "\n",
        "  soluciones=zeros(n,dtype=float)#creacion de un arreglo inicializado en 0 para guardar las soluciones del sistema\n",
        "  soluciones[n-1]=final[n-1][n]/final[n-1][n-1]#calculo de Xn\n",
        "\n",
        "\n",
        "  def sumatoria(i):#funcion para el calculo de la sumatoria que esta dentro de la formula de Xi\n",
        "    s=0\n",
        "    for j in range(i+1,n):\n",
        "      s+=final[i][j]*soluciones[j]\n",
        "    return s\n",
        "\n",
        "\n",
        "\n",
        "  for i in range(n-2,-1,-1):#ciclo iterativo para el calculo de las soluciones Xi\n",
        "    soluciones[i]=(final[i][n]-sumatoria(i))/final[i][i]\n",
        "\n",
        "\n",
        "  print(\"Las soluciones del sistema son : \\n\")\n",
        "\n",
        "  for k in range(n):#ciclo iterativo para la impresion de las soluciones\n",
        "    print(\"X\",k+1,\"=\",soluciones[k])\n"
      ],
      "metadata": {
        "colab": {
          "base_uri": "https://localhost:8080/"
        },
        "id": "IqtGobBbvLXz",
        "outputId": "2797bc10-d72b-465a-c06a-0aefd095dd38"
      },
      "execution_count": 99,
      "outputs": [
        {
          "output_type": "stream",
          "name": "stdout",
          "text": [
            "Las soluciones del sistema son : \n",
            "\n",
            "X 1 = 10.0\n",
            "X 2 = 1.0\n"
          ]
        }
      ]
    }
  ]
}