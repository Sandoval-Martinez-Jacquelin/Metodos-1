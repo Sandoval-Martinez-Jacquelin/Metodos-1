{
  "nbformat": 4,
  "nbformat_minor": 0,
  "metadata": {
    "colab": {
      "provenance": [],
      "authorship_tag": "ABX9TyN3sPhRoSVWe7RwbOTEOd12",
      "include_colab_link": true
    },
    "kernelspec": {
      "name": "python3",
      "display_name": "Python 3"
    },
    "language_info": {
      "name": "python"
    }
  },
  "cells": [
    {
      "cell_type": "markdown",
      "metadata": {
        "id": "view-in-github",
        "colab_type": "text"
      },
      "source": [
        "<a href=\"https://colab.research.google.com/github/Sandoval-Martinez-Jacquelin/Metodos-1/blob/main/Pivoteo%20Parcial.ipynb\" target=\"_parent\"><img src=\"https://colab.research.google.com/assets/colab-badge.svg\" alt=\"Open In Colab\"/></a>"
      ]
    },
    {
      "cell_type": "markdown",
      "source": [
        "# **PIVOTEO PARCIAL**"
      ],
      "metadata": {
        "id": "U5W99qPy6I1C"
      }
    },
    {
      "cell_type": "code",
      "source": [
        "import numpy as np\n",
        "from numpy import array\n",
        "\n",
        "from numpy import zeros\n",
        "\n",
        "from math import *"
      ],
      "metadata": {
        "id": "5YkabKav6NNp"
      },
      "execution_count": 91,
      "outputs": []
    },
    {
      "cell_type": "code",
      "source": [
        "#Ingreso del numero de incognitas y ecuaciones del sistema\n",
        "n=2#int(input(\"Ingrese el numero de Incognitas y numero de ecuaciones= \"))\n",
        "#entradas=[] #Lista vacia para alamcenar las filas de la matriz aumentada correspondiente al sistema de ecuaciones\n",
        "entradas=[[0.003000,59.14,59.17], [5.291,-6.130,46.78]] #filas corrrespondientes al siste de ecuaciones dal ejemplo\n",
        "\n",
        "#ciclo iterativo para que el usuario ingrese las entradas de la matriz aumentada\n",
        "\n",
        "#for k in range(n):\n",
        "  #lista=[]\n",
        "  #for d in range(n+1):\n",
        "    #print(\"Ingrese el elemnto A\",k,d,\"de la matriz aumentada\")\n",
        "    #a=float(input(\"\"))\n",
        "    #lista.append(a)\n",
        "  #entradas.append(lista)\n",
        "\n",
        "matrix=array(entradas,dtype=float)#creacion de la matriz aumentada correspondiente al sistema de ecuaciones\n",
        "\n",
        "print(\"La matriz aumentada que representa el sistema de ecuaciones es: \\n\",matrix)"
      ],
      "metadata": {
        "colab": {
          "base_uri": "https://localhost:8080/"
        },
        "id": "kPcQGhLe6x-q",
        "outputId": "c5b343bb-bf9c-4f45-8c34-d019a2ddf440"
      },
      "execution_count": 92,
      "outputs": [
        {
          "output_type": "stream",
          "name": "stdout",
          "text": [
            "La matriz aumentada que representa el sistema de ecuaciones es: \n",
            " [[ 3.000e-03  5.914e+01  5.917e+01]\n",
            " [ 5.291e+00 -6.130e+00  4.678e+01]]\n"
          ]
        }
      ]
    },
    {
      "cell_type": "code",
      "source": [
        "i=0\n",
        "matrix2=matrix\n",
        "col0=list(matrix[:,i])#se obtiene la columna i\n",
        "a_NROW_J_i=list(zeros(n))#arreglo para guardar los valores absolutos de la columna i\n",
        "for j in range(i,n):#ciclo para añadir los valores absolutos de la columna i,a partir del elemnto i de la columna\n",
        "\n",
        "  a_NROW_J_i[j]=abs(col0[j])#valores absolutos de la columna i,a partir del elemnto i de la columna\n",
        "\n",
        "a_NROW_p_i=max(a_NROW_J_i)#se encuentra el maximo absoluto del arreglo con valores absolutos\n",
        "NROW_p_i=a_NROW_J_i.index(a_NROW_p_i)#se encuentra el indice del maximo valor absoluto de la columna i\n",
        "print(col0,\"col0\")\n",
        "print(\"ab\",a_NROW_J_i)\n",
        "print(a_NROW_p_i,NROW_p_i,\"MAXIMO,INDICE\")\n",
        "\n",
        "if a_NROW_p_i==0:\n",
        "  print(\"No existe solucion unica\")\n",
        "else:\n",
        "  print(NROW_p_i,\"indice del valor maximo\")\n",
        "  print(i,\"valor de i\")\n",
        "  NCOPY1=matrix[i]\n",
        "  NCOPY2=matrix[NROW_p_i]\n",
        "  print(\"fila i\",NCOPY1)\n",
        "  print(\"fila 2\",NCOPY2)\n",
        "  print(matrix,\"FILA P\")\n",
        "  matrix2[i]=NCOPY2\n",
        "  matrix2[NROW_p_i]=NCOPY1\n",
        "  print(matrix2)"
      ],
      "metadata": {
        "id": "ER0I0Qb1d7Db",
        "outputId": "9fac3c1c-4043-4238-dac7-cca87c6f736b",
        "colab": {
          "base_uri": "https://localhost:8080/"
        }
      },
      "execution_count": 93,
      "outputs": [
        {
          "output_type": "stream",
          "name": "stdout",
          "text": [
            "[0.003, 5.291] col0\n",
            "ab [0.003, 5.291]\n",
            "5.291 1 MAXIMO,INDICE\n",
            "1 indice del valor maximo\n",
            "0 valor de i\n",
            "fila i [3.000e-03 5.914e+01 5.917e+01]\n",
            "fila 2 [ 5.291 -6.13  46.78 ]\n",
            "[[ 3.000e-03  5.914e+01  5.917e+01]\n",
            " [ 5.291e+00 -6.130e+00  4.678e+01]] FILA P\n",
            "[[ 5.291 -6.13  46.78 ]\n",
            " [ 5.291 -6.13  46.78 ]]\n"
          ]
        }
      ]
    },
    {
      "cell_type": "code",
      "source": [
        "print(\"Las matrices equivalentes son: \\n\\n\")\n",
        "final=entradas\n",
        "#Ciclo iterativo\n",
        "#Eliminacion Gaussiana con sustitucion hacia atras\n",
        "\n",
        "for i in range(n):\n",
        "  #creacion de arreglos para almacenar las matrices equivalentes resultantes\n",
        "  entradas2=array(final)\n",
        "  entradas=array(final)\n",
        "  matrix=array(entradas2)\n",
        "\n",
        "\n",
        "  col0=list(entradas2[: , i])#se obtiene la columna i del arreglo \"entradas2\"\n",
        "\n",
        "  cero=[0.,0.,0.,0.]\n",
        "  if col0 == cero:#si todas las entradas de la columna i son 0 ,el sistema no tiene solucion unica\n",
        "    print(\"No existe solucion unica\")\n",
        "  else:\n",
        "    col=col0[i:]#se obtienen los elemntos de la lista \"col0\" desde el subindice i hasta el ultimo elemnto y se guardan en la lista \"col\"\n",
        "\n",
        "    for k in col:#ciclo para recorrer los elementos de la lista \"col\"\n",
        "      if k!=0:\n",
        "        a=k#el primer elemnto diferente de 0 ,de la lista \"col\" se guarda en la variable \"a\"\n",
        "        break\n",
        "    p=col.index(a)+i #se obtiene el subindice del valor de \"a\" ,dentro de  \"col0\" y se almacena en la variable \"p\"\n",
        "\n",
        "    if p!=i:#si el valor de p e i son distintos,se intercambian las filas p e i del arreglo \"entradas2\"\n",
        "      b=entradas[i]\n",
        "      c=entradas[p]\n",
        "      entradas2[i]=c\n",
        "      entradas2[p]=b\n",
        "\n",
        "\n",
        "\n",
        "\n",
        "\n",
        "    final=[]#lista vacia para guardar las filas de la matrices equivbalentes resultantes de las operaciones elemntales\n",
        "    for k in range(i+1):#ciclo para agregar a la lista vacia las fila 0,1,...,i del arreglo \"entradas2\"\n",
        "      final.append(entradas2[k])\n",
        "\n",
        "    for j in range(i+1,n):#ciclo iterativo para el calculo de los valores de m\n",
        "\n",
        "      m=-entradas2[j][i]/entradas2[i][i]\n",
        "\n",
        "\n",
        "      fila1=[]#creacion de una lista vacia\n",
        "      for f in entradas2[i]:#ciclo iterativo para guardar los valoes resultantes del producto de m con cada elemnto de la fila i del arreglo \"entradas2\"\n",
        "         fila1.append(f*m)\n",
        "\n",
        "\n",
        "      sum=list(array(fila1)+array(entradas2[j]))#creacion de una lista que alamacena la nueva fila j del arreglo \"entradas2\"\n",
        "      final.append(sum)#se agrega la nueva fila j del arreglo \"entradas2 \" a la lista \"final\"\n",
        "  print(\"La Matriz equivalente es: \\n\\n\",array(final),\"\\n\")#se imprime la matriz equivalente ,resultado de las operaciones elemntales\n",
        "\n",
        ""
      ],
      "metadata": {
        "id": "GlWMRj9BdcgK",
        "outputId": "f770bb99-a6c9-4da0-8cba-79ac531ed0ae",
        "colab": {
          "base_uri": "https://localhost:8080/"
        }
      },
      "execution_count": 8,
      "outputs": [
        {
          "output_type": "stream",
          "name": "stdout",
          "text": [
            "Las matrices equivalentes son: \n",
            "\n",
            "\n",
            "La Matriz equivalente es: \n",
            "\n",
            " [[ 3.00000000e-03  5.91400000e+01  5.91700000e+01]\n",
            " [ 0.00000000e+00 -1.04309377e+05 -1.04309377e+05]] \n",
            "\n",
            "La Matriz equivalente es: \n",
            "\n",
            " [[ 3.00000000e-03  5.91400000e+01  5.91700000e+01]\n",
            " [ 0.00000000e+00 -1.04309377e+05 -1.04309377e+05]] \n",
            "\n"
          ]
        }
      ]
    }
  ]
}