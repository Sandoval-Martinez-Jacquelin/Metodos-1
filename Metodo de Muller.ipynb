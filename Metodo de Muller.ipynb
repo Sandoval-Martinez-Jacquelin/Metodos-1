{
  "nbformat": 4,
  "nbformat_minor": 0,
  "metadata": {
    "colab": {
      "provenance": [],
      "authorship_tag": "ABX9TyOwItJI6Dd5h+b57tJjcA2w",
      "include_colab_link": true
    },
    "kernelspec": {
      "name": "python3",
      "display_name": "Python 3"
    },
    "language_info": {
      "name": "python"
    }
  },
  "cells": [
    {
      "cell_type": "markdown",
      "metadata": {
        "id": "view-in-github",
        "colab_type": "text"
      },
      "source": [
        "<a href=\"https://colab.research.google.com/github/Sandoval-Martinez-Jacquelin/Metodos-1/blob/main/Metodo%20de%20Muller.ipynb\" target=\"_parent\"><img src=\"https://colab.research.google.com/assets/colab-badge.svg\" alt=\"Open In Colab\"/></a>"
      ]
    },
    {
      "cell_type": "code",
      "execution_count": 177,
      "metadata": {
        "id": "vN2YZdXkQXxc"
      },
      "outputs": [],
      "source": [
        "from math import *\n",
        "import numpy as np\n",
        "\n",
        "\n",
        "from numpy.lib.scimath import *\n",
        "#para este programa ,los calculos se truncarán a 6 decimales"
      ]
    },
    {
      "cell_type": "code",
      "source": [
        "#Ingreso del polinomio\n",
        "\n",
        "#n=4 #int(input(\"Ingrese el grado del polinomio P(x)\"))\n",
        "#a=[]\n",
        "#ciclo para el ingreso de los coeficientes del polinomio\n",
        "#for x in range(0,n+1):\n",
        "  #print(\"Coeficiente a\",x)\n",
        "  #c=int(input(\"Ingrese el valor del coeficiente \"))\n",
        "  #a.append(c)\n",
        "#a=[1,1,1,-3,1]"
      ],
      "metadata": {
        "id": "pDPhqh-rqPgA"
      },
      "execution_count": 178,
      "outputs": []
    },
    {
      "cell_type": "code",
      "source": [
        "#Definicion de la funcion para la evaluacion de los valores en el polinomio\n",
        "#def funcion(x):\n",
        "  #f=0\n",
        "  #for i in range(0,n+1):\n",
        "    #f+=a[i]*(pow(x,i))\n",
        "  #return round(f,5)\n",
        "\n",
        "\n",
        "\n"
      ],
      "metadata": {
        "id": "CoCWWOjfrCK-"
      },
      "execution_count": 179,
      "outputs": []
    },
    {
      "cell_type": "code",
      "source": [
        "def funcion(x):#definicion de la funcion ,con la cual se probará el metodo\n",
        "  return (x**4)-3*(x**3)+x**2+x+1\n",
        "\n"
      ],
      "metadata": {
        "id": "l4SgY-jwkRmw"
      },
      "execution_count": 180,
      "outputs": []
    },
    {
      "cell_type": "code",
      "source": [
        "#Ingreso de las aproximaciones inciales\n",
        "p0=0.5#float(input(\"Ingrese la aproximacion inicial Po= \"))\n",
        "p1=-0.5#float(input(\"Ingrese la aproximacion inicial P1= \"))\n",
        "p2=0#float(input(\"Ingrese la aproximacion inicial P2= \"))\n",
        "#guarda los valores iniciales de error\n",
        "tol=0.00001#float(input(\"Ingrese el valor de la tolerancia= \"))\n",
        "nmax=100#int(input(\"Ingrese el numero maximo de iteraciones= \"))\n",
        "error=100\n",
        "niter=3\n"
      ],
      "metadata": {
        "id": "tBkw--6OVIgm"
      },
      "execution_count": 181,
      "outputs": []
    },
    {
      "cell_type": "code",
      "source": [
        "\n",
        "#Metodo de Muller\n",
        "#Calculo de raices complejas\n",
        "\n",
        "#calculos para la determinacion de los coeficientes a,b,c del polinomio cuadratico\n",
        "h1=p1-p0\n",
        "h2=p2-p1\n",
        "s1=(funcion(p1)-funcion(p0))/h1\n",
        "s2=(funcion(p2)-funcion(p1))/h2\n",
        "d=(s2-s1)/(h2+h1)\n",
        "print(\"# iter\\t\\t p \\t\\t  f(p) \\t\\t error \")#imprime el encabezado de la tabla\n",
        "\n",
        "\n",
        "#ciclo iterativo\n",
        "while niter<nmax and error>tol:#condiciones para la repeticion del ciclo\n",
        "  b=s2+(h2*d)#calculo de b\n",
        "  D=((b**2)+(-4)*(funcion(p2)*d))**0.5\n",
        "  if abs(b-D)<abs(b+D):\n",
        "    E=b+D\n",
        "  else:\n",
        "    E=b-D\n",
        "  h=(-2)*funcion(p2)/E\n",
        "  p=p2+h#calculo de la aproximacion p\n",
        "  error=abs(h) #calculo del error\n",
        "\n",
        "\n",
        "\n",
        "  print(\"{0} \\t\\t {1:6.6f} \\t {2:6.6f} \\t {3:6.6f} \\t\".format(niter,p,funcion(p), error))#se imprimen las aproximaciones p de cada iteracion\n",
        "  if abs(h)<tol:\n",
        "    print(\"El procedimeinto fue exitoso\")\n",
        "    break\n",
        "\n",
        "#actualizacion de los valores para la repeticion del ciclo\n",
        "  p0=p1\n",
        "  p1=p2\n",
        "  p2=p\n",
        "  h1=p1-p0\n",
        "  h2=p2-p1\n",
        "  s1=(funcion(p1)-funcion(p0))/h1\n",
        "  s2=(funcion(p2)-funcion(p1))/h2\n",
        "  d=(s2-s1)/(h2+h1)\n",
        "\n",
        "\n",
        "  niter+=1\n",
        "\n",
        "\n",
        "\n",
        "\n",
        "\n",
        "\n",
        "#determinacion de la raiz del polinomio\n",
        "print(\"La raiz del polinomio es  {0:.6f} con un error de  {1:.6f} \".format(p,error))"
      ],
      "metadata": {
        "id": "JOMz_7TgWu1g",
        "outputId": "131700dc-6ebf-4ff1-b956-5fefbc1f42f5",
        "colab": {
          "base_uri": "https://localhost:8080/"
        }
      },
      "execution_count": 182,
      "outputs": [
        {
          "output_type": "stream",
          "name": "stdout",
          "text": [
            "# iter\t\t p \t\t  f(p) \t\t error \n",
            "3 \t\t -0.100000-0.888819j \t -0.011200-3.014876j \t 0.894427 \t\n",
            "4 \t\t -0.492146-0.447031j \t -0.169121+0.736733j \t 0.590725 \t\n",
            "5 \t\t -0.352226-0.484132j \t -0.178601-0.018187j \t 0.144755 \t\n",
            "6 \t\t -0.340229-0.443036j \t 0.011976+0.010556j \t 0.042812 \t\n",
            "7 \t\t -0.339095-0.446656j \t -0.000106-0.000039j \t 0.003794 \t\n",
            "8 \t\t -0.339093-0.446630j \t 0.000000-0.000000j \t 0.000026 \t\n",
            "9 \t\t -0.339093-0.446630j \t 0.000000+0.000000j \t 0.000000 \t\n",
            "El procedimeinto fue exitoso\n",
            "La raiz del polinomio es  -0.339093-0.446630j con un error de  0.000000 \n"
          ]
        }
      ]
    },
    {
      "cell_type": "code",
      "source": [
        "#Ingreso de las aproximaciones inciales para el calculo de una raiz real\n",
        "p0=0.5#float(input(\"Ingrese la aproximacion inicial Po= \"))\n",
        "p1=1#float(input(\"Ingrese la aproximacion inicial P1= \"))\n",
        "p2=1.5#float(input(\"Ingrese la aproximacion inicial P2= \"))\n",
        "#guarda los valores iniciales de error\n",
        "tol=0.00001#float(input(\"Ingrese el valor de la tolerancia= \"))\n",
        "nmax=100#int(input(\"Ingrese el numero maximo de iteraciones= \"))\n",
        "error=100\n",
        "niter=3"
      ],
      "metadata": {
        "id": "UMsnB1kGxGtQ"
      },
      "execution_count": 183,
      "outputs": []
    },
    {
      "cell_type": "code",
      "source": [
        "#Metodo de Muller\n",
        "#Calculo de una raiz real\n",
        "\n",
        "#calculos para la determinacion de los coeficientes a,b,c del polinomio cuadratico\n",
        "h1=p1-p0\n",
        "h2=p2-p1\n",
        "s1=(funcion(p1)-funcion(p0))/h1\n",
        "s2=(funcion(p2)-funcion(p1))/h2\n",
        "d=(s2-s1)/(h2+h1)\n",
        "print(\"# iter\\t\\t p \\t\\t  f(p) \\t\\t error \")\n",
        "\n",
        "\n",
        "#ciclo iterativo\n",
        "while niter<nmax and error>tol:\n",
        "  b=s2+(h2*d)#calculo de b\n",
        "  D=((b**2)+(-4)*(funcion(p2)*d))**0.5\n",
        "  if abs(b-D)<abs(b+D):\n",
        "    E=b+D\n",
        "  else:\n",
        "    E=b-D\n",
        "  h=(-2)*funcion(p2)/E\n",
        "  p=p2+h#calculo de la aproximacion p\n",
        "  error=abs(h)\n",
        "\n",
        "\n",
        "\n",
        "  print(\"{0} \\t\\t {1:6.6f} \\t {2:6.6f} \\t {3:6.6f} \\t\".format(niter,p,funcion(p), error))\n",
        "  if abs(h)<tol:\n",
        "    print(\"El procedimeinto fue exitoso\")\n",
        "    break\n",
        "\n",
        "\n",
        "  p0=p1\n",
        "  p1=p2\n",
        "  p2=p\n",
        "  h1=p1-p0\n",
        "  h2=p2-p1\n",
        "  s1=(funcion(p1)-funcion(p0))/h1\n",
        "  s2=(funcion(p2)-funcion(p1))/h2\n",
        "  d=(s2-s1)/(h2+h1)\n",
        "\n",
        "\n",
        "  niter+=1\n",
        "\n",
        "\n",
        "\n",
        "\n",
        "\n",
        "\n",
        "#determinacion de la raiz del polinomio\n",
        "print(\"La raiz del polinomio es  {0:.6f} con un error de  {1:.6f} \".format(p,error))"
      ],
      "metadata": {
        "id": "fP1vLUD4xL4W",
        "outputId": "c264eb04-ddd7-4707-d3cc-cfcafd52dfaf",
        "colab": {
          "base_uri": "https://localhost:8080/"
        }
      },
      "execution_count": 184,
      "outputs": [
        {
          "output_type": "stream",
          "name": "stdout",
          "text": [
            "# iter\t\t p \t\t  f(p) \t\t error \n",
            "3 \t\t 1.406327 \t -0.048513 \t 0.093673 \t\n",
            "4 \t\t 1.388783 \t 0.001741 \t 0.017544 \t\n",
            "5 \t\t 1.389390 \t 0.000003 \t 0.000606 \t\n",
            "6 \t\t 1.389391 \t -0.000000 \t 0.000001 \t\n",
            "El procedimeinto fue exitoso\n",
            "La raiz del polinomio es  1.389391 con un error de  0.000001 \n"
          ]
        }
      ]
    },
    {
      "cell_type": "code",
      "source": [
        "#Ingreso de las aproximaciones inciales para el calculo de otra raiz real\n",
        "p0=1.5#float(input(\"Ingrese la aproximacion inicial Po= \"))\n",
        "p1=2#float(input(\"Ingrese la aproximacion inicial P1= \"))\n",
        "p2=2.5#float(input(\"Ingrese la aproximacion inicial P2= \"))\n",
        "#guarda los valores iniciales de error\n",
        "tol=0.00001#float(input(\"Ingrese el valor de la tolerancia= \"))\n",
        "nmax=100#int(input(\"Ingrese el numero maximo de iteraciones= \"))\n",
        "error=100\n",
        "niter=3"
      ],
      "metadata": {
        "id": "_1q_yB7xxtTf"
      },
      "execution_count": 185,
      "outputs": []
    },
    {
      "cell_type": "code",
      "source": [
        "#Metodo de Muller\n",
        "#Calculo de una raiz real\n",
        "\n",
        "#calculos para la determinacion de los coeficientes a,b,c del polinomio cuadratico\n",
        "h1=p1-p0\n",
        "h2=p2-p1\n",
        "s1=(funcion(p1)-funcion(p0))/h1\n",
        "s2=(funcion(p2)-funcion(p1))/h2\n",
        "d=(s2-s1)/(h2+h1)\n",
        "print(\"# iter\\t\\t p \\t\\t  f(p) \\t\\t error \")\n",
        "\n",
        "\n",
        "#ciclo iterativo\n",
        "while niter<nmax and error>tol:\n",
        "  b=s2+(h2*d)#calculo de b\n",
        "  D=((b**2)+(-4)*(funcion(p2)*d))**0.5\n",
        "  if abs(b-D)<abs(b+D):\n",
        "    E=b+D\n",
        "  else:\n",
        "    E=b-D\n",
        "  h=(-2)*funcion(p2)/E\n",
        "  p=p2+h#calculo de la aproximacion p\n",
        "  error=abs(h)\n",
        "\n",
        "\n",
        "\n",
        "  print(\"{0} \\t\\t {1:6.6f} \\t {2:6.6f} \\t {3:6.6f} \\t\".format(niter,p,funcion(p), error))\n",
        "  if abs(h)<tol:\n",
        "    print(\"El procedimeinto fue exitoso\")\n",
        "    break\n",
        "\n",
        "\n",
        "  p0=p1\n",
        "  p1=p2\n",
        "  p2=p\n",
        "  h1=p1-p0\n",
        "  h2=p2-p1\n",
        "  s1=(funcion(p1)-funcion(p0))/h1\n",
        "  s2=(funcion(p2)-funcion(p1))/h2\n",
        "  d=(s2-s1)/(h2+h1)\n",
        "\n",
        "\n",
        "  niter+=1\n",
        "\n",
        "\n",
        "\n",
        "\n",
        "\n",
        "\n",
        "#determinacion de la raiz del polinomio\n",
        "print(\"La raiz del polinomio es  {0:.6f} con un error de  {1:.6f} \".format(p,error))"
      ],
      "metadata": {
        "id": "Mw8uKe7MxxRd",
        "outputId": "75e9d058-632d-4615-d0d2-f4e5cf7e0b8b",
        "colab": {
          "base_uri": "https://localhost:8080/"
        }
      },
      "execution_count": 186,
      "outputs": [
        {
          "output_type": "stream",
          "name": "stdout",
          "text": [
            "# iter\t\t p \t\t  f(p) \t\t error \n",
            "3 \t\t 2.247332 \t -0.245066 \t 0.252668 \t\n",
            "4 \t\t 2.286522 \t -0.014464 \t 0.039190 \t\n",
            "5 \t\t 2.288775 \t -0.000125 \t 0.002253 \t\n",
            "6 \t\t 2.288795 \t 0.000000 \t 0.000020 \t\n",
            "7 \t\t 2.288795 \t 0.000000 \t 0.000000 \t\n",
            "El procedimeinto fue exitoso\n",
            "La raiz del polinomio es  2.288795 con un error de  0.000000 \n"
          ]
        }
      ]
    }
  ]
}