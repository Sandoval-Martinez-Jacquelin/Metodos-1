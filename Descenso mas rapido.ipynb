{
  "nbformat": 4,
  "nbformat_minor": 0,
  "metadata": {
    "colab": {
      "provenance": [],
      "authorship_tag": "ABX9TyOYmBcnQf65xKjB4n/Z0n5Z",
      "include_colab_link": true
    },
    "kernelspec": {
      "name": "python3",
      "display_name": "Python 3"
    },
    "language_info": {
      "name": "python"
    }
  },
  "cells": [
    {
      "cell_type": "markdown",
      "metadata": {
        "id": "view-in-github",
        "colab_type": "text"
      },
      "source": [
        "<a href=\"https://colab.research.google.com/github/Sandoval-Martinez-Jacquelin/Metodos-1/blob/main/Descenso%20mas%20rapido.ipynb\" target=\"_parent\"><img src=\"https://colab.research.google.com/assets/colab-badge.svg\" alt=\"Open In Colab\"/></a>"
      ]
    },
    {
      "cell_type": "code",
      "execution_count": 19,
      "metadata": {
        "id": "38HMRbno034i"
      },
      "outputs": [],
      "source": [
        "\n",
        "import numpy as np\n",
        "from numpy import array\n",
        "\n",
        "from math import *\n",
        "def g(x1,x2):\n",
        "    f1=(x1**2.0)+(x2**2.0)-2.0\n",
        "    f2=(x1*x2)-1.0\n",
        "\n",
        "    return (f1**2.0)+(f2**2)\n",
        "\n",
        "\n",
        "tol=0.0001\n",
        "\n",
        "def gradiente_xk(x1,x2):#funcion para evaluar el gradiente en xk\n",
        "    c1=(4*pow(x1,3))+(6*x1*pow(x2,2))-(8*x1)-(2*x2)\n",
        "    c2=(4*pow(x2,3))+(6*x2*pow(x1,2))-(8*x2)-(2*x1)\n",
        "    gradiente_xk=array([c1,c2])\n",
        "    return gradiente_xk#devuelve el verctor gradiente evaluado en xk\n",
        "\n"
      ]
    },
    {
      "cell_type": "code",
      "source": [
        "k=1#numero de iteraciones\n",
        "N=200#numero maximo de iteraciones\n",
        "x0=array([1,0])\n",
        "xk=x0\n",
        "while k<=N:\n",
        "  g1=g(xk[0],xk[1])\n",
        "  z=gradiente_xk(xk[0],xk[1])#se evalua el gradiente en xk\n",
        "  zo=sqrt(pow(z[0],2)+pow(z[1],2))\n",
        "  if zo==0:\n",
        "    print(xk,g1)\n",
        "    break\n",
        "  z=z/zo#convertimos z en vector unitario\n",
        "  alfa1=0\n",
        "  alfa3=1\n",
        "  l=xk-alfa3*z\n",
        "  g3=g(l[0],l[1])\n",
        "  while g3>=g1:\n",
        "    alfa3=alfa3/2\n",
        "    g3=g((xk-alfa3*z)[0],(xk-alfa3*z)[1])\n",
        "    if alfa3<tol/2:\n",
        "      print(\"sin probable mejora\")\n",
        "      print(xk,g1)\n",
        "      break\n",
        "  alfa2=alfa3/2\n",
        "  g2=g((xk-alfa2*z)[0],(xk-alfa2*z)[1])\n",
        "  h1=(g2-g1)/alfa2\n",
        "  h2=(g3-g2)/(alfa3-alfa2)\n",
        "  h3=(h2-h1)\n",
        "  alfa0=(0.5)*(alfa2-(h1/h3))\n",
        "  g0=g((xk-alfa0*z)[0],(xk-alfa0*z)[1])\n",
        "  g_min=min(g0,g3)\n",
        "  if g_min==g0:\n",
        "    alfa=alfa0\n",
        "  else:\n",
        "    alfa=alfa3\n",
        "  xk=xk-alfa*z\n",
        "  print(\"xk\",xk)\n",
        "  if abs(g_min-g1)<tol:\n",
        "    print(xk,g_min)\n",
        "    print(\"procedimiento exitoso\")\n",
        "    break\n",
        "  k=k+1"
      ],
      "metadata": {
        "id": "-EWdqvJCFBsk",
        "outputId": "9819f197-cb7b-4b24-e731-a2c54c89448c",
        "colab": {
          "base_uri": "https://localhost:8080/"
        }
      },
      "execution_count": 17,
      "outputs": [
        {
          "output_type": "stream",
          "name": "stdout",
          "text": [
            "xk [1.4472136 0.2236068]\n",
            "xk [1.30715636 0.7035901 ]\n",
            "xk [1.24876441 0.68130489]\n",
            "xk [1.25711276 0.71141913]\n",
            "xk [1.22593718 0.71357454]\n",
            "xk [1.23847286 0.74220004]\n",
            "xk [1.20767024 0.73693114]\n",
            "xk [1.22359762 0.76381759]\n",
            "xk [1.19360621 0.75503819]\n",
            "xk [1.21138885 0.78073528]\n",
            "xk [1.18215997 0.76967927]\n",
            "xk [1.20112681 0.79451517]\n",
            "xk [1.17255651 0.78185418]\n",
            "xk [1.19233895 0.80604545]\n",
            "xk [1.16432718 0.79219252]\n",
            "xk [1.18469991 0.81588882]\n",
            "xk [1.15716163 0.80111703]\n",
            "xk [1.17797715 0.82442533]\n",
            "xk [1.15084248 0.80892461]\n",
            "xk [1.17199938 0.83192348]\n",
            "xk [1.14521135 0.81583112]\n",
            "[1.14521135 0.81583112] 0.0048415059153369975\n",
            "procedimiento exitoso\n"
          ]
        }
      ]
    }
  ]
}