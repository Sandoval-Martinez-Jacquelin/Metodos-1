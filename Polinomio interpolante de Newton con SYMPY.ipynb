{
  "nbformat": 4,
  "nbformat_minor": 0,
  "metadata": {
    "colab": {
      "provenance": [],
      "authorship_tag": "ABX9TyPcpPaVpUTKR+Q+EgiLAmIY",
      "include_colab_link": true
    },
    "kernelspec": {
      "name": "python3",
      "display_name": "Python 3"
    },
    "language_info": {
      "name": "python"
    }
  },
  "cells": [
    {
      "cell_type": "markdown",
      "metadata": {
        "id": "view-in-github",
        "colab_type": "text"
      },
      "source": [
        "<a href=\"https://colab.research.google.com/github/Sandoval-Martinez-Jacquelin/Metodos-1/blob/main/Polinomio%20interpolante%20de%20Newton%20con%20SYMPY.ipynb\" target=\"_parent\"><img src=\"https://colab.research.google.com/assets/colab-badge.svg\" alt=\"Open In Colab\"/></a>"
      ]
    },
    {
      "cell_type": "markdown",
      "source": [
        "# **POLINOMIO INTERPOLANTE DE NEWTON CON SYMPY**"
      ],
      "metadata": {
        "id": "rg21e1yFq9Rv"
      }
    },
    {
      "cell_type": "code",
      "source": [
        "import numpy as np\n",
        "from numpy import array\n",
        "\n",
        "from numpy import zeros\n",
        "from tabulate import tabulate\n",
        "from math import *"
      ],
      "metadata": {
        "id": "MiWake3MrL5o"
      },
      "execution_count": 3,
      "outputs": []
    },
    {
      "cell_type": "code",
      "source": [
        "#Ingreso de los datos de la columna  X\n",
        "n=6#int(input(\"Ingrese el numero de datos \"))\n",
        "#datx=zeros(n) #creacion de un arreglo inicializado en ceros ,para añadir los datos de la columna x\n",
        "#for i in range(n):\n",
        "  #a=input(\"Ingrese dato para x \")\n",
        "  #datx[i]=a\n",
        "datx=array([0,1,2,3,4,5])#ingreso de los datos de x para el ejemplo"
      ],
      "metadata": {
        "id": "scG2Qfw-rRT_"
      },
      "execution_count": 4,
      "outputs": []
    },
    {
      "cell_type": "code",
      "source": [
        "#Ingreso de los datos de la columna  y\n",
        "#daty=zeros(n)\n",
        "#for i in range(n):\n",
        "  #a=input(\"Ingrese dato para y \")\n",
        "  #daty[i]=a\n",
        "daty=array([-5,1,9,25,55,105])#ingreso de los datos de y para el ejemplo"
      ],
      "metadata": {
        "id": "WLpdfWPItqlK"
      },
      "execution_count": 5,
      "outputs": []
    },
    {
      "cell_type": "code",
      "source": [
        "#Imprimimos la tabla con los valores x y y dados\n",
        "dic={\"datox\":datx,\"datoy\":daty}\n",
        "print(tabulate(dic,headers=['X',\"Y\"]))"
      ],
      "metadata": {
        "colab": {
          "base_uri": "https://localhost:8080/"
        },
        "id": "iBT8YY0iuBCS",
        "outputId": "24c8ee70-704c-4bc5-ab25-c848c9fbbf75"
      },
      "execution_count": 6,
      "outputs": [
        {
          "output_type": "stream",
          "name": "stdout",
          "text": [
            "  X    Y\n",
            "---  ---\n",
            "  0   -5\n",
            "  1    1\n",
            "  2    9\n",
            "  3   25\n",
            "  4   55\n",
            "  5  105\n"
          ]
        }
      ]
    },
    {
      "cell_type": "code",
      "source": [
        "def igual(l):#definimos una funcion que devuelve True si todos los elementos de una lista son iguales\n",
        "  if l.count(l[0])==len(l):\n",
        "    return True\n",
        "  else:\n",
        "    return False\n"
      ],
      "metadata": {
        "id": "IELol7SnMmHh"
      },
      "execution_count": 7,
      "outputs": []
    },
    {
      "cell_type": "code",
      "source": [
        "#Calculo de las diferencias\n",
        "d=daty#guardamos los datos de la columna \"y\" en la variable d ,para realizar el calculo de diferencias\n",
        "for i in range(1,n):#ciclo iterativo que calcula las diferencias y las guarda en una lista dentro de un diccionario,cuya clave es el numero de diferencia\n",
        "  lista=np.diff(d)\n",
        "  dic.update({i:lista})\n",
        "  d=lista\n",
        "\n",
        "  if igual(list(lista)) is True:#definimos un  condicional para conocer el grado del polinomio con ayuda de ka funcion \"igual\" definida anteriormente\n",
        "    grad=i\n",
        "    break#se rompe el ciclo una vez que los datos de la diferencia i son iguales,el grado del polinomio es igual a i\n",
        "lista=np.diff(d)\n",
        "dic.update({i+1:lista})\n",
        "\n",
        "\n",
        "print(dic)#imprimimos es diccionario que contiene los datos de x,y y las diferencias\n"
      ],
      "metadata": {
        "colab": {
          "base_uri": "https://localhost:8080/"
        },
        "id": "mb9NokQc5vVv",
        "outputId": "4ce74683-3f6e-474e-c5b5-eb3db5abf6be"
      },
      "execution_count": 8,
      "outputs": [
        {
          "output_type": "stream",
          "name": "stdout",
          "text": [
            "{'datox': array([0, 1, 2, 3, 4, 5]), 'datoy': array([ -5,   1,   9,  25,  55, 105]), 1: array([ 6,  8, 16, 30, 50]), 2: array([ 2,  8, 14, 20]), 3: array([6, 6, 6]), 4: array([0, 0])}\n"
          ]
        }
      ]
    },
    {
      "cell_type": "code",
      "source": [
        "titulos=[\"X\",\"Y\"]\n",
        "for z in range(1,grad+2):#Definimos los titulos para cada columna de la tabla\n",
        "  titulos.append(\"Diferencia \"+str(z))\n",
        "\n",
        "\n",
        "print(tabulate(dic,headers=titulos))#Imprimimos la tabla de diferencias"
      ],
      "metadata": {
        "colab": {
          "base_uri": "https://localhost:8080/"
        },
        "id": "JdGoweScwoe_",
        "outputId": "b9490e91-ce96-41c4-e986-bf1626a509f4"
      },
      "execution_count": 9,
      "outputs": [
        {
          "output_type": "stream",
          "name": "stdout",
          "text": [
            "  X    Y    Diferencia 1    Diferencia 2    Diferencia 3    Diferencia 4\n",
            "---  ---  --------------  --------------  --------------  --------------\n",
            "  0   -5               6               2               6               0\n",
            "  1    1               8               8               6               0\n",
            "  2    9              16              14               6\n",
            "  3   25              30              20\n",
            "  4   55              50\n",
            "  5  105\n"
          ]
        }
      ]
    },
    {
      "cell_type": "code",
      "source": [
        "#Ingreso del valor de Xk,donde deseamos evaluar el polinomio interpolante de Newton\n",
        "xk=1.5#float(input(\"Ingrese el valor de Xk= \")) ,para esta prueba tomaremos xk=1.5\n",
        "#Ingreso del valor de X0\n",
        "xo=1#float(input(\"Ingrese el valor de x0= \")),para esta prueba elegimos xo=1\n",
        "#Calculamos h\n",
        "h=datx[1]-datx[0]\n",
        "\n",
        "#Calculamos K\n",
        "k=(xk-xo)/h\n"
      ],
      "metadata": {
        "id": "AVtCAOYU8JKk"
      },
      "execution_count": 10,
      "outputs": []
    },
    {
      "cell_type": "code",
      "source": [
        "print(comb(3,1))"
      ],
      "metadata": {
        "id": "F2PVlsKfyRHE",
        "outputId": "d67a2414-3d28-4d41-c80a-956a34d009b7",
        "colab": {
          "base_uri": "https://localhost:8080/"
        }
      },
      "execution_count": 15,
      "outputs": [
        {
          "output_type": "stream",
          "name": "stdout",
          "text": [
            "3.0\n"
          ]
        }
      ]
    },
    {
      "cell_type": "code",
      "source": [
        "#CALCULO DE COEFICIENTES BINOMIALES\n",
        "import sympy as sp\n",
        "x=sp.Symbol(\"x\")\n",
        "k=sp.Symbol(\"k\")\n",
        "print(comb(x-1,1))"
      ],
      "metadata": {
        "id": "kR61XK0VyAu0",
        "outputId": "b5aacbe8-e2b8-43af-8c97-d9035b592e63",
        "colab": {
          "base_uri": "https://localhost:8080/"
        }
      },
      "execution_count": 16,
      "outputs": [
        {
          "output_type": "stream",
          "name": "stdout",
          "text": [
            "x - 1\n"
          ]
        }
      ]
    },
    {
      "cell_type": "code",
      "source": [
        "#funcion para realizar el calculo de los coeficientes binomiales\n",
        "def comb(k,j):\n",
        "  c=1\n",
        "  for v in range(j):\n",
        "    c=c*(k-v)\n",
        "\n",
        "  f=factorial(j)\n",
        "  return c/f\n"
      ],
      "metadata": {
        "id": "7uPKAfd3UEhI"
      },
      "execution_count": 11,
      "outputs": []
    },
    {
      "cell_type": "code",
      "source": [
        "#Calculo de los coeficientes binomiales\n",
        "\n",
        "ind=list(daty).index(xo)#encontramos el indice de xo en el arreglo de datx(que contiene los datos de x)\n",
        "yk=daty[ind]#definimos el primer sumando de Yk como Yo\n",
        "\n",
        "for s in range(1,grad+1):\n",
        "  yk+=comb(k,s)*dic.get(s)[ind]#sumamos a Yk el producto de los coeficientes binomiales con las respectivas diferencias\n",
        "\n",
        "print(\"El valor de F(xk)= \",yk)#imprimimos el valor de F(xk)\n",
        "\n",
        "def g(x):#Definimos la funcion del polinomio resultante para graficar\n",
        "  return -5+7*x-2*(x**2)+x**3\n",
        "x1=np.linspace(0,5,100)"
      ],
      "metadata": {
        "colab": {
          "base_uri": "https://localhost:8080/"
        },
        "id": "wIKo2TwKO7OM",
        "outputId": "e6cb89c9-ba3e-4e70-ac83-5c444bb7fd2e"
      },
      "execution_count": 12,
      "outputs": [
        {
          "output_type": "stream",
          "name": "stdout",
          "text": [
            "El valor de F(xk)=  4.375\n"
          ]
        }
      ]
    },
    {
      "cell_type": "markdown",
      "source": [
        "**Tabla de Diferencias y Grafica del Polinomio de Newton**"
      ],
      "metadata": {
        "id": "6HYvPszUhIoc"
      }
    },
    {
      "cell_type": "code",
      "source": [
        "\n",
        "print(\"Tabla de diferencias y Grafica del Polinomio de Newton\".center(150,\"-\"))\n",
        "print(tabulate(dic,headers=titulos))#Imprimimos la tabla con los datos de x y las  diferencias\n",
        "print(\"\\nSi Xk= \",xk,\"\\nEl valor de F(xk)= \",yk,\"\\n\")#imprimimos el valor de F(xk)\n",
        "\n",
        "import matplotlib.pyplot as plt\n",
        "plt.scatter(datx,daty,color=\"blue\",marker=\"x\")#se trazan los puntos para cada pareja ordenada (x,y) de la tabla\n",
        "plt.plot(x1,g(x1))#se grafica la funcion g(x) en los datos de x dados\n",
        "plt.title(\"Polinomio de Newton \")\n",
        "plt.xlabel(\"Eje x\")\n",
        "plt.ylabel(\"Eje y\")\n",
        "plt.grid(color=\"black\",linestyle=\"dotted\")\n",
        "plt.show()"
      ],
      "metadata": {
        "colab": {
          "base_uri": "https://localhost:8080/",
          "height": 698
        },
        "id": "xVTsMVuLhexS",
        "outputId": "e222bcf2-a82d-46a2-a650-7c6bf2399feb"
      },
      "execution_count": 13,
      "outputs": [
        {
          "output_type": "stream",
          "name": "stdout",
          "text": [
            "------------------------------------------------Tabla de diferencias y Grafica del Polinomio de Newton------------------------------------------------\n",
            "  X    Y    Diferencia 1    Diferencia 2    Diferencia 3    Diferencia 4\n",
            "---  ---  --------------  --------------  --------------  --------------\n",
            "  0   -5               6               2               6               0\n",
            "  1    1               8               8               6               0\n",
            "  2    9              16              14               6\n",
            "  3   25              30              20\n",
            "  4   55              50\n",
            "  5  105\n",
            "\n",
            "Si Xk=  1.5 \n",
            "El valor de F(xk)=  4.375 \n",
            "\n"
          ]
        },
        {
          "output_type": "display_data",
          "data": {
            "text/plain": [
              "<Figure size 640x480 with 1 Axes>"
            ],
            "image/png": "[encoded data removed]"
          },
          "metadata": {}
        }
      ]
    }
  ]
}