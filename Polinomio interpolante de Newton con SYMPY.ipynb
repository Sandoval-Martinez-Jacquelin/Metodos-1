{
  "nbformat": 4,
  "nbformat_minor": 0,
  "metadata": {
    "colab": {
      "provenance": [],
      "authorship_tag": "ABX9TyNkai6ZYeuoglUl+tVdGsje",
      "include_colab_link": true
    },
    "kernelspec": {
      "name": "python3",
      "display_name": "Python 3"
    },
    "language_info": {
      "name": "python"
    }
  },
  "cells": [
    {
      "cell_type": "markdown",
      "metadata": {
        "id": "view-in-github",
        "colab_type": "text"
      },
      "source": [
        "<a href=\"https://colab.research.google.com/github/Sandoval-Martinez-Jacquelin/Metodos-1/blob/main/Polinomio%20interpolante%20de%20Newton%20con%20SYMPY.ipynb\" target=\"_parent\"><img src=\"https://colab.research.google.com/assets/colab-badge.svg\" alt=\"Open In Colab\"/></a>"
      ]
    },
    {
      "cell_type": "markdown",
      "source": [
        "# **POLINOMIO INTERPOLANTE DE NEWTON CON SYMPY**"
      ],
      "metadata": {
        "id": "rg21e1yFq9Rv"
      }
    },
    {
      "cell_type": "code",
      "source": [
        "import numpy as np\n",
        "from numpy import array\n",
        "\n",
        "from numpy import zeros\n",
        "from tabulate import tabulate\n",
        "from math import *"
      ],
      "metadata": {
        "id": "MiWake3MrL5o"
      },
      "execution_count": 191,
      "outputs": []
    },
    {
      "cell_type": "code",
      "source": [
        "#Ingreso de los datos de la columna  X\n",
        "n=6#int(input(\"Ingrese el numero de datos \"))\n",
        "#datx=zeros(n) #creacion de un arreglo inicializado en ceros ,para añadir los datos de la columna x\n",
        "#for i in range(n):\n",
        "  #a=input(\"Ingrese dato para x \")\n",
        "  #datx[i]=a\n",
        "datx=array([0,1,2,3,4,5])#ingreso de los datos de x para el ejemplo"
      ],
      "metadata": {
        "id": "scG2Qfw-rRT_"
      },
      "execution_count": 192,
      "outputs": []
    },
    {
      "cell_type": "code",
      "source": [
        "#Ingreso de los datos de la columna  y\n",
        "#daty=zeros(n)\n",
        "#for i in range(n):\n",
        "  #a=input(\"Ingrese dato para y \")\n",
        "  #daty[i]=a\n",
        "daty=array([-5,1,9,25,55,105])#ingreso de los datos de y para el ejemplo"
      ],
      "metadata": {
        "id": "WLpdfWPItqlK"
      },
      "execution_count": 193,
      "outputs": []
    },
    {
      "cell_type": "code",
      "source": [
        "#Imprimimos la tabla con los valores x y y dados\n",
        "dic={\"datox\":datx,\"datoy\":daty}\n",
        "print(tabulate(dic,headers=['X',\"Y\"]))"
      ],
      "metadata": {
        "colab": {
          "base_uri": "https://localhost:8080/"
        },
        "id": "iBT8YY0iuBCS",
        "outputId": "999318ce-f6d2-4b99-e367-a047eb420ce3"
      },
      "execution_count": 194,
      "outputs": [
        {
          "output_type": "stream",
          "name": "stdout",
          "text": [
            "  X    Y\n",
            "---  ---\n",
            "  0   -5\n",
            "  1    1\n",
            "  2    9\n",
            "  3   25\n",
            "  4   55\n",
            "  5  105\n"
          ]
        }
      ]
    },
    {
      "cell_type": "code",
      "source": [
        "def igual(l):#definimos una funcion que devuelve True si todos los elementos de una lista son iguales\n",
        "  if l.count(l[0])==len(l):\n",
        "    return True\n",
        "  else:\n",
        "    return False\n"
      ],
      "metadata": {
        "id": "IELol7SnMmHh"
      },
      "execution_count": 195,
      "outputs": []
    },
    {
      "cell_type": "code",
      "source": [
        "#Calculo de las diferencias\n",
        "d=daty#guardamos los datos de la columna \"y\" en la variable d ,para realizar el calculo de diferencias\n",
        "for i in range(1,n):#ciclo iterativo que calcula las diferencias y las guarda en una lista dentro de un diccionario,cuya clave es el numero de diferencia\n",
        "  lista=np.diff(d)\n",
        "  dic.update({i:lista})\n",
        "  d=lista\n",
        "\n",
        "  if igual(list(lista)) is True:#definimos un  condicional para conocer el grado del polinomio con ayuda de ka funcion \"igual\" definida anteriormente\n",
        "    grad=i\n",
        "    break#se rompe el ciclo una vez que los datos de la diferencia i son iguales,el grado del polinomio es igual a i\n",
        "lista=np.diff(d)\n",
        "dic.update({i+1:lista})\n",
        "\n",
        "\n",
        "print(dic)#imprimimos es diccionario que contiene los datos de x,y y las diferencias\n"
      ],
      "metadata": {
        "colab": {
          "base_uri": "https://localhost:8080/"
        },
        "id": "mb9NokQc5vVv",
        "outputId": "f1ac0a40-d9f6-4176-97c1-0f88fb8a5ca7"
      },
      "execution_count": 196,
      "outputs": [
        {
          "output_type": "stream",
          "name": "stdout",
          "text": [
            "{'datox': array([0, 1, 2, 3, 4, 5]), 'datoy': array([ -5,   1,   9,  25,  55, 105]), 1: array([ 6,  8, 16, 30, 50]), 2: array([ 2,  8, 14, 20]), 3: array([6, 6, 6]), 4: array([0, 0])}\n"
          ]
        }
      ]
    },
    {
      "cell_type": "code",
      "source": [
        "titulos=[\"X\",\"Y\"]\n",
        "for z in range(1,grad+2):#Definimos los titulos para cada columna de la tabla\n",
        "  titulos.append(\"Diferencia \"+str(z))\n",
        "\n",
        "\n",
        "print(tabulate(dic,headers=titulos))#Imprimimos la tabla de diferencias"
      ],
      "metadata": {
        "colab": {
          "base_uri": "https://localhost:8080/"
        },
        "id": "JdGoweScwoe_",
        "outputId": "404b95a2-6953-4181-ee8c-8447882d82e1"
      },
      "execution_count": 197,
      "outputs": [
        {
          "output_type": "stream",
          "name": "stdout",
          "text": [
            "  X    Y    Diferencia 1    Diferencia 2    Diferencia 3    Diferencia 4\n",
            "---  ---  --------------  --------------  --------------  --------------\n",
            "  0   -5               6               2               6               0\n",
            "  1    1               8               8               6               0\n",
            "  2    9              16              14               6\n",
            "  3   25              30              20\n",
            "  4   55              50\n",
            "  5  105\n"
          ]
        }
      ]
    },
    {
      "cell_type": "code",
      "source": [
        "#Ingreso del valor de X0\n",
        "xo=1#float(input(\"Ingrese el valor de x0= \")),para esta prueba elegimos xo=1\n",
        "\n",
        "#Calculamos h\n",
        "h=datx[1]-datx[0]\n"
      ],
      "metadata": {
        "id": "AVtCAOYU8JKk"
      },
      "execution_count": 198,
      "outputs": []
    },
    {
      "cell_type": "code",
      "source": [
        "\n",
        "import sympy as sp\n",
        "x=sp.Symbol(\"x\")\n",
        "yk=sp.Symbol(\"yk\")\n",
        "k=sp.Symbol(\"k\")\n",
        "\n",
        "#Calculamos K\n",
        "k=(x-xo)/h\n",
        "\n",
        "\n",
        "\n"
      ],
      "metadata": {
        "id": "kR61XK0VyAu0"
      },
      "execution_count": 199,
      "outputs": []
    },
    {
      "cell_type": "code",
      "source": [
        "#funcion para realizar el calculo de los coeficientes binomiales\n",
        "def comb(k,j):\n",
        "  c=1\n",
        "  for v in range(j):\n",
        "    c=c*(k-v)\n",
        "\n",
        "  f=factorial(j)\n",
        "  return c/f\n",
        "\n"
      ],
      "metadata": {
        "id": "D5HJNL0cFgcV"
      },
      "execution_count": 200,
      "outputs": []
    },
    {
      "cell_type": "markdown",
      "source": [
        "**CÁLCULO DEL POLINOMIO DE NEWTON**"
      ],
      "metadata": {
        "id": "I_HX19Mogp9Y"
      }
    },
    {
      "cell_type": "code",
      "source": [
        "#CALCULO DEL POLINOMIO DE NEWTON\n",
        "\n",
        "ind=list(daty).index(xo)#encontramos el indice de xo en el arreglo de datx(que contiene los datos de x)\n",
        "yk=daty[ind]#definimos el primer sumando de Yk como Yo\n",
        "for s in range(1,grad+1):#Ciclo para realizar el calculo del POLINOMIO DE NEWTON\n",
        "  yk+=(comb(k,s)*dic.get(s)[ind]).expand()"
      ],
      "metadata": {
        "id": "kj17X9-6E3TF"
      },
      "execution_count": 201,
      "outputs": []
    },
    {
      "cell_type": "code",
      "source": [
        "\n",
        "g=sp.lambdify(x,yk)#Convertimos el polinomio de Newton en una funcion,llamada \"g\"\n",
        "\n",
        "x1=np.linspace(0,5,100)"
      ],
      "metadata": {
        "id": "wIKo2TwKO7OM"
      },
      "execution_count": 202,
      "outputs": []
    },
    {
      "cell_type": "code",
      "source": [
        "xk=float(input(\"Ingrese el valor de xk,donde desea evaluar el polinomio de Newton\"))\n",
        "\n",
        "print(\"El valor del Polinomio de Newton evaluado en \",xk,\"=\",g(xk))"
      ],
      "metadata": {
        "id": "zguhQKq2fIlq",
        "outputId": "e1b7f73a-253b-4a33-d581-2f42160ea288",
        "colab": {
          "base_uri": "https://localhost:8080/"
        }
      },
      "execution_count": 204,
      "outputs": [
        {
          "output_type": "stream",
          "name": "stdout",
          "text": [
            "Ingrese el valor de xk,donde desea evaluar el polinomio de Newton1.5\n",
            "El valor del Polinomio de Newton evaluado en  1.5 = 4.375\n"
          ]
        }
      ]
    },
    {
      "cell_type": "markdown",
      "source": [
        "**Tabla de Diferencias y Grafica del Polinomio de Newton**"
      ],
      "metadata": {
        "id": "6HYvPszUhIoc"
      }
    },
    {
      "cell_type": "code",
      "source": [
        "\n",
        "print(\"Tabla de diferencias y Grafica del Polinomio de Newton\".center(150,\"-\"))\n",
        "print(\"\\n\")\n",
        "print(tabulate(dic,headers=titulos))#Imprimimos la tabla con los datos de x y las  diferencias\n",
        "print(\"\\nEl polinomio interpolante de Newton es=  \",yk,\"\\n\")#imprimimos el valor de F(xk)\n",
        "\n",
        "print(\"El valor del Polinomio de Newton evaluado en \",xk,\"=\",g(xk),)\n",
        "\n",
        "\n"
      ],
      "metadata": {
        "colab": {
          "base_uri": "https://localhost:8080/"
        },
        "id": "xVTsMVuLhexS",
        "outputId": "9308f96f-25fe-4230-931f-0366f5fb8ffa"
      },
      "execution_count": 205,
      "outputs": [
        {
          "output_type": "stream",
          "name": "stdout",
          "text": [
            "------------------------------------------------Tabla de diferencias y Grafica del Polinomio de Newton------------------------------------------------\n",
            "\n",
            "\n",
            "  X    Y    Diferencia 1    Diferencia 2    Diferencia 3    Diferencia 4\n",
            "---  ---  --------------  --------------  --------------  --------------\n",
            "  0   -5               6               2               6               0\n",
            "  1    1               8               8               6               0\n",
            "  2    9              16              14               6\n",
            "  3   25              30              20\n",
            "  4   55              50\n",
            "  5  105\n",
            "\n",
            "El polinomio interpolante de Newton es=   x**3 - 2*x**2 + 7*x - 5 \n",
            "\n",
            "El valor del Polinomio de Newton evaluado en  1.5 = 4.375\n"
          ]
        }
      ]
    },
    {
      "cell_type": "markdown",
      "source": [
        "**POLINOMIO DE NEWTON**"
      ],
      "metadata": {
        "id": "lGIMv0-OiNsv"
      }
    },
    {
      "cell_type": "code",
      "source": [
        "\n",
        "print(\"El polinomio de Newton es \")\n",
        "yk"
      ],
      "metadata": {
        "id": "A8flkDGDiCAH",
        "outputId": "331ef6d6-41ea-4f8f-c10a-6704b988b16d",
        "colab": {
          "base_uri": "https://localhost:8080/",
          "height": 56
        }
      },
      "execution_count": 206,
      "outputs": [
        {
          "output_type": "stream",
          "name": "stdout",
          "text": [
            "El polinomio de Newton es \n"
          ]
        },
        {
          "output_type": "execute_result",
          "data": {
            "text/plain": [
              "x**3 - 2*x**2 + 7*x - 5"
            ],
            "text/latex": "$\\displaystyle x^{3} - 2 x^{2} + 7 x - 5$"
          },
          "metadata": {},
          "execution_count": 206
        }
      ]
    },
    {
      "cell_type": "code",
      "source": [
        "import matplotlib.pyplot as plt\n",
        "plt.figure(figsize=(8,8))\n",
        "plt.scatter(datx,daty,color=\"red\",marker=\"x\")#se trazan los puntos para cada pareja ordenada (x,y) de la tabla\n",
        "plt.plot(x1,g(x1))#se grafica la funcion g(x)(Polinomio de Newton) en los datos de x dados\n",
        "plt.title(\"Polinomio de Newton \", loc = \"left\", fontdict = {'fontsize':14, 'fontweight':'bold', 'color':'tab:blue'})\n",
        "plt.xlabel(\"Eje x\",fontdict = {'fontsize':14, 'fontweight':'bold', 'color':'tab:blue'})\n",
        "plt.ylabel(\"Eje y\",fontdict = {'fontsize':14, 'fontweight':'bold', 'color':'tab:blue'})\n",
        "plt.text(0.9, 11, \"x Datos de la tabla\", fontsize=10, color=\"r\")\n",
        "plt.text(3.5,30, \"Polinomio de Newton\", fontsize=10, color=\"b\")\n",
        "plt.grid(color=\"black\",linestyle=\"dotted\")\n",
        "plt.show()"
      ],
      "metadata": {
        "id": "sPFAXls7h2t_",
        "outputId": "06ad5398-062d-4af9-8e25-529abc70ce0c",
        "colab": {
          "base_uri": "https://localhost:8080/",
          "height": 724
        }
      },
      "execution_count": 207,
      "outputs": [
        {
          "output_type": "display_data",
          "data": {
            "text/plain": [
              "<Figure size 800x800 with 1 Axes>"
            ],
            "image/png": "[encoded data removed]"
          },
          "metadata": {}
        }
      ]
    }
  ]
}