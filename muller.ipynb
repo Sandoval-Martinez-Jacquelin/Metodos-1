{
  "nbformat": 4,
  "nbformat_minor": 0,
  "metadata": {
    "colab": {
      "provenance": [],
      "authorship_tag": "ABX9TyOQ4/M5HHbKl+gGAIDYN1CI",
      "include_colab_link": true
    },
    "kernelspec": {
      "name": "python3",
      "display_name": "Python 3"
    },
    "language_info": {
      "name": "python"
    }
  },
  "cells": [
    {
      "cell_type": "markdown",
      "metadata": {
        "id": "view-in-github",
        "colab_type": "text"
      },
      "source": [
        "<a href=\"https://colab.research.google.com/github/Sandoval-Martinez-Jacquelin/Metodos-1/blob/main/muller.ipynb\" target=\"_parent\"><img src=\"https://colab.research.google.com/assets/colab-badge.svg\" alt=\"Open In Colab\"/></a>"
      ]
    },
    {
      "cell_type": "code",
      "execution_count": null,
      "metadata": {
        "id": "vN2YZdXkQXxc"
      },
      "outputs": [],
      "source": [
        "from math import *\n",
        "import numpy as np\n",
        "import matplotlib . pyplot as plt\n",
        "#para este programa ,los calculos se redondearan a 3 decimales"
      ]
    },
    {
      "cell_type": "code",
      "source": [
        "#Ingreso de la aproximacion incial\n",
        "p0=1.5#float(input(\"Ingrese la aproximacion inicial Po= \"))\n",
        "p=p0\n",
        "#guarda los valores iniciales de error y numero de iteraciones\n",
        "tol=0.01#float(input(\"Ingrese el valor de la tolerancia= \"))\n",
        "nmax=100#int(input(\"Ingrese el numero maximo de iteraciones= \"))\n",
        "error=100\n",
        "niter=0"
      ],
      "metadata": {
        "id": "tBkw--6OVIgm"
      },
      "execution_count": null,
      "outputs": []
    },
    {
      "cell_type": "code",
      "source": [
        "#Metodo de punto fijo\n",
        "#evaluacion de la aproximacion incial en la funcion g\n",
        "g(p0)\n",
        "print(\"# iter\\t\\t p \\t\\t g(p) \\t\\t error\")\n",
        "print(\"{0} \\t\\t {1:6.3f} \\t {2:6.3f} \\t {3:6.3f}\".format(niter, p, round(g(p0),3), round(error,3 )))\n",
        "\n",
        "#ciclo iterativo\n",
        "while error>tol and niter<nmax:\n",
        "  p=round(g(p0),3)\n",
        "  error=round(abs(p-p0),3)\n",
        "  niter+=1\n",
        "  p0=p\n",
        "  print(\"{0} \\t\\t {1:6.3f} \\t {2:6.3f} \\t {3:6.3f}\".format(niter, p, round(g(p0),3), round(error,3)))\n",
        "\n",
        "print(\"La raiz de la funcion en el intervalo [1,2] es  {0:.3f}\".format(p))"
      ],
      "metadata": {
        "colab": {
          "base_uri": "https://localhost:8080/"
        },
        "id": "JOMz_7TgWu1g",
        "outputId": "08bf1d10-3f18-496e-c605-df4e258ab5af"
      },
      "execution_count": null,
      "outputs": [
        {
          "output_type": "stream",
          "name": "stdout",
          "text": [
            "# iter\t\t p \t\t g(p) \t\t error\n",
            "0 \t\t  1.500 \t  1.291 \t 100.000\n",
            "1 \t\t  1.291 \t  1.332 \t  0.209\n",
            "2 \t\t  1.332 \t  1.323 \t  0.041\n",
            "3 \t\t  1.323 \t  1.325 \t  0.009\n",
            "La raiz de la funcion en el intervalo [1,2] es  1.323\n"
          ]
        }
      ]
    }
  ]
}