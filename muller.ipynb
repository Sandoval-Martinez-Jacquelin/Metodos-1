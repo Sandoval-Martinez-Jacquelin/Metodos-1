{
  "nbformat": 4,
  "nbformat_minor": 0,
  "metadata": {
    "colab": {
      "provenance": [],
      "authorship_tag": "ABX9TyOb8nFgBLDB6WF5KuMZ1pPh",
      "include_colab_link": true
    },
    "kernelspec": {
      "name": "python3",
      "display_name": "Python 3"
    },
    "language_info": {
      "name": "python"
    }
  },
  "cells": [
    {
      "cell_type": "markdown",
      "metadata": {
        "id": "view-in-github",
        "colab_type": "text"
      },
      "source": [
        "<a href=\"https://colab.research.google.com/github/Sandoval-Martinez-Jacquelin/Metodos-1/blob/main/muller.ipynb\" target=\"_parent\"><img src=\"https://colab.research.google.com/assets/colab-badge.svg\" alt=\"Open In Colab\"/></a>"
      ]
    },
    {
      "cell_type": "code",
      "execution_count": 31,
      "metadata": {
        "id": "vN2YZdXkQXxc"
      },
      "outputs": [],
      "source": [
        "from math import *\n",
        "import numpy as np\n",
        "import matplotlib . pyplot as plt\n",
        "#para este programa ,los calculos se redondearan a 4 decimales"
      ]
    },
    {
      "cell_type": "code",
      "source": [
        "#Ingreso del polinomio\n",
        "\n",
        "n=4 #int(input(\"Ingrese el grado del polinomio P(x)\"))\n",
        "a=[]\n",
        "#ciclo para el ingreso de los coeficientes\n",
        "#for x in range(0,n+1):\n",
        "  #print(\"Coeficiente a\",x)\n",
        "  #c=int(input(\"Ingrese el valor del coeficiente \"))\n",
        "  #a.append(c)\n",
        "a=[1,1,1,-3,1]"
      ],
      "metadata": {
        "id": "pDPhqh-rqPgA"
      },
      "execution_count": 32,
      "outputs": []
    },
    {
      "cell_type": "code",
      "source": [
        "\n",
        "def funcion(x):\n",
        "  f=0\n",
        "  for i in range(0,n+1):\n",
        "    f+=a[i]*(pow(x,i))\n",
        "  return f\n",
        "\n",
        "\n",
        "\n"
      ],
      "metadata": {
        "id": "CoCWWOjfrCK-"
      },
      "execution_count": 34,
      "outputs": []
    },
    {
      "cell_type": "code",
      "source": [
        "#Ingreso de las aproximaciones inciales\n",
        "p0=0.5#float(input(\"Ingrese la aproximacion inicial Po= \"))\n",
        "p1=1#float(input(\"Ingrese la aproximacion inicial P1= \"))\n",
        "p2=1.5#float(input(\"Ingrese la aproximacion inicial P2= \"))\n",
        "#guarda los valores iniciales de error y numero de iteraciones\n",
        "tol=0.001#float(input(\"Ingrese el valor de la tolerancia= \"))\n",
        "nmax=100#int(input(\"Ingrese el numero maximo de iteraciones= \"))\n",
        "error=100\n",
        "niter=3"
      ],
      "metadata": {
        "id": "tBkw--6OVIgm"
      },
      "execution_count": 40,
      "outputs": []
    },
    {
      "cell_type": "code",
      "source": [
        "from re import S\n",
        "#Metodo de Muller\n",
        "h1=p1-p0\n",
        "h2=p2-p1\n",
        "s1=((funcion(p1)-funcion(p0))/h1)\n",
        "s2=((funcion(p2)-funcion(p1))/h2)\n",
        "d=(s2-s1)/(h2+h1)\n",
        "#print(\"# iter\\t\\t p \\t\\t g(p) \\t\\t error\")\n",
        "#print(\"{0} \\t\\t {1:6.3f} \\t {2:6.3f} \\t {3:6.3f}\".format(niter, p, round(g(p0),3), round(error,3 )))\n",
        "\n",
        "#ciclo iterativo\n",
        "while error>tol and niter<nmax:\n",
        "  b=s2+(h2*d)\n",
        "  D2=sqrt((pow(b,2))-4*d*funcion(p2))\n",
        "  if abs(b-D2)<abs(b+D2):\n",
        "    E=b+D2\n",
        "  else:\n",
        "    E=b-D2\n",
        "  h=(-2*funcion(p2))/E\n",
        "  p=p2+h\n",
        "  error=abs(p-p2)\n",
        "  p0=p1\n",
        "  p1=p2\n",
        "  p2=p\n",
        "  h1=p1-p0\n",
        "  h2=p2-p1\n",
        "  s1=((funcion(p1)-funcion(p0))/h1)\n",
        "  s2=((funcion(p2)-funcion(p1))/h2)\n",
        "  d=(s2-s1)/(h2+h1)\n",
        "  niter=niter+1\n",
        "\n",
        "  #print(\"{0} \\t\\t {1:6.3f} \\t {2:6.3f} \\t {3:6.3f}\".format(niter, p, round(g(p0),3), round(error,3)))\n",
        "\n",
        "#print(\"La raiz de la funcion en el intervalo [1,2] es  {0:.3f}\".format(p))"
      ],
      "metadata": {
        "id": "JOMz_7TgWu1g"
      },
      "execution_count": 43,
      "outputs": []
    }
  ]
}