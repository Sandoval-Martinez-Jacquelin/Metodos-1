{
  "nbformat": 4,
  "nbformat_minor": 0,
  "metadata": {
    "colab": {
      "provenance": [],
      "authorship_tag": "ABX9TyMGJ0PcZkBuH+9fbKjHUFIX",
      "include_colab_link": true
    },
    "kernelspec": {
      "name": "python3",
      "display_name": "Python 3"
    },
    "language_info": {
      "name": "python"
    }
  },
  "cells": [
    {
      "cell_type": "markdown",
      "metadata": {
        "id": "view-in-github",
        "colab_type": "text"
      },
      "source": [
        "<a href=\"https://colab.research.google.com/github/Sandoval-Martinez-Jacquelin/Metodos-1/blob/main/Polinomio_de_Hermite%20con%20SYMPY.ipynb\" target=\"_parent\"><img src=\"https://colab.research.google.com/assets/colab-badge.svg\" alt=\"Open In Colab\"/></a>"
      ]
    },
    {
      "cell_type": "markdown",
      "source": [
        "# **Polinomio de Hermite con Sympy**"
      ],
      "metadata": {
        "id": "xgXsrjSb18lH"
      }
    },
    {
      "cell_type": "code",
      "source": [
        "import numpy as np\n",
        "from numpy import array\n",
        "\n",
        "from numpy import zeros\n",
        "from tabulate import tabulate\n",
        "from math import *"
      ],
      "metadata": {
        "id": "1H5MCfJb2NAH"
      },
      "execution_count": 395,
      "outputs": []
    },
    {
      "cell_type": "code",
      "source": [
        "#Ingreso de los datos de la columna  X\n",
        "n=3#int(input(\"Ingrese el numero de datos \"))\n",
        "datx=zeros(n) #creacion de un arreglo inicializado en ceros ,para añadir los datos de la columna x\n",
        "#for i in range(n):\n",
        "  #a=input(\"Ingrese dato para x \")\n",
        "  #datx[i]=a\n",
        "\n",
        "datx=array([1.3,1.6,1.9])#ingreso de los datos de x para el ejemplo"
      ],
      "metadata": {
        "id": "bn-3rTrR2CEu"
      },
      "execution_count": 396,
      "outputs": []
    },
    {
      "cell_type": "code",
      "source": [
        "#Ingreso de los datos de la columna f(x)\n",
        "#daty=zeros(n)\n",
        "#for i in range(n):\n",
        "  #a=input(\"Ingrese f(x) \")\n",
        "  #daty[i]=a\n",
        "\n",
        "daty=array([0.6200860,0.4554022,0.2818186])#ingreso de los datos de f(x) para el ejemplo"
      ],
      "metadata": {
        "id": "9iiusXIa2I5G"
      },
      "execution_count": 397,
      "outputs": []
    },
    {
      "cell_type": "code",
      "source": [
        "#Ingreso de los datos de la columna f´(x)\n",
        "#der=zeros(n)\n",
        "#for i in range(n):\n",
        "  #a=input(\"Ingrese f´(x) \")\n",
        "  #der[i]=a\n",
        "\n",
        "der=array([-0.5220232,-0.5698959,-0.5811571])#ingreso de los datos de f´(x) para el ejemplo"
      ],
      "metadata": {
        "id": "IlIv3acf2_3P"
      },
      "execution_count": 398,
      "outputs": []
    },
    {
      "cell_type": "code",
      "source": [
        "x0=1.5#float(input(\"Ingrese el valor que desea aproximar\"))"
      ],
      "metadata": {
        "id": "vTxV7M8I3h31"
      },
      "execution_count": 399,
      "outputs": []
    },
    {
      "cell_type": "code",
      "source": [
        "#Imprimimos la tabla con los valores x , f(x),f´(x) dados\n",
        "dic={\"datox\":datx,\"datoy\":daty,\"derivada\":der}\n",
        "print(tabulate(dic,headers=['X',\"f(x)\",\"f´(x)\"],floatfmt='.7f'))"
      ],
      "metadata": {
        "colab": {
          "base_uri": "https://localhost:8080/"
        },
        "id": "Iq5V4klJ3kol",
        "outputId": "de10c448-96d9-4272-d67b-e9d808874d53"
      },
      "execution_count": 400,
      "outputs": [
        {
          "output_type": "stream",
          "name": "stdout",
          "text": [
            "        X       f(x)       f´(x)\n",
            "---------  ---------  ----------\n",
            "1.3000000  0.6200860  -0.5220232\n",
            "1.6000000  0.4554022  -0.5698959\n",
            "1.9000000  0.2818186  -0.5811571\n"
          ]
        }
      ]
    },
    {
      "cell_type": "code",
      "source": [
        "#creacion de un arreglo inicializado en 0 ,para los valores de z\n",
        "z=zeros(2*n)\n",
        "\n",
        "Q=list(zeros(2*(n)))#creacion de lista vacia para los valores de Qi,0\n",
        "Q1=list(zeros(2*(n)))#creacion de lista vacia para los valores de Qi,1\n",
        "\n",
        "for i in range(n):\n",
        "  #Asignacion de los valores de z\n",
        "  z[2*i]=datx[i]\n",
        "  z[2*(i)+1]=datx[i]\n",
        "  #Asignacion de los valores de Qi,0\n",
        "  Q[2*i]=daty[i]\n",
        "  Q[2*(i)+1]=daty[i]\n",
        "  #Asignacion de los valores de Qi,1\n",
        "  Q1[2*(i)+1]=der[i]\n",
        "  if i!=0:\n",
        "    Q1[2*(i)]=(Q[2*i]-Q[2*(i)-1])/(z[2*i]-z[2*(i)-1])\n",
        "\n",
        "Q1.pop(0)#Eliminamos el primer elemento de Qi,1\n",
        "\n",
        "\n"
      ],
      "metadata": {
        "colab": {
          "base_uri": "https://localhost:8080/"
        },
        "id": "ilBfLkbk39-O",
        "outputId": "314d29d8-9f0b-4d69-9597-1114645278c8"
      },
      "execution_count": 434,
      "outputs": [
        {
          "output_type": "execute_result",
          "data": {
            "text/plain": [
              "0.0"
            ]
          },
          "metadata": {},
          "execution_count": 434
        }
      ]
    },
    {
      "cell_type": "code",
      "source": [
        "sub=[]#creamos una lista vacia para guardar los subindices de z\n",
        "for s in range(2*n):#cilco iterativo para guardar los subindices de z y tabularlos\n",
        "  sub.append(s)\n"
      ],
      "metadata": {
        "id": "6ONae3uHXDIy"
      },
      "execution_count": 435,
      "outputs": []
    },
    {
      "cell_type": "code",
      "source": [
        "dic2={\"sub\":sub,\"z\":z,0:Q,1:Q1}#Creamos un nuevo diccionario para tabular los datos de z,y los Qi,j"
      ],
      "metadata": {
        "id": "KF6xiARUTB5V"
      },
      "execution_count": 436,
      "outputs": []
    },
    {
      "cell_type": "code",
      "source": [
        "lista1=Q1#Guardamos los datos de Q1 en una nueva lista ,para trabajar con estos datos\n",
        "lista2=[]#creacion de una lista vacia para ir almacenando los valores de Qi,j\n",
        "\n",
        "\n",
        "#ciclo iterativo para obtener los coeficientes del polinomio de Hermite H(x)\n",
        "for j in range(2,2*n):\n",
        "  for i in range(j,2*n):\n",
        "    val=(lista1[i-(j-1)]-lista1[i-j])/(z[i]-z[i-j])\n",
        "    lista2.append(round(val,7))#se guardan los valores de Qi,j en la lista 2\n",
        "  dic2.update({j:lista2})#se agregan los valores de Qi,j al diccionario 2 para poder tabularlos\n",
        "\n",
        "  lista1=lista2#actualizacion de la lista 1,para trabajar con los datos de Qi,j ya calculados\n",
        "  lista2=[]#se convierte la lista 2 a lista vacia para almacenar nuevos datos de Qi,j\n",
        "\n"
      ],
      "metadata": {
        "id": "qN6miSdOS3z-"
      },
      "execution_count": 437,
      "outputs": []
    },
    {
      "cell_type": "code",
      "source": [
        "#Ciclo iterativo para asignar espacios vacios al principio de las columnas de Qi,j\n",
        "for i in range(1,2*n):\n",
        "  for k in range(0,i):\n",
        "    dic2[i]=[0]+dic2.get(i)"
      ],
      "metadata": {
        "id": "omnhYJwJwKe8"
      },
      "execution_count": 438,
      "outputs": []
    },
    {
      "cell_type": "code",
      "source": [
        "\n",
        "titulos=[\"i\",\"z\",\"f(z)\"]#se asignan los nombres a la columna de z, f(z) y los subindices i de z\n",
        "for k in range(1,2*n):#Definimos los titulos para cada columna de la tabla\n",
        "  titulos.append(\"Qi\"+str(k))"
      ],
      "metadata": {
        "id": "Zs2XEJoCUaD0"
      },
      "execution_count": 439,
      "outputs": []
    },
    {
      "cell_type": "code",
      "source": [
        "#Creamos una lista vacia para guardar los coeficientes del polinomio de Hermite(Q0,0,Q1,1,...Q2n+1,2n+1)\n",
        "cof=[]\n",
        "#ciclo iterativo para obtener los coeficientes del diccionario 2\n",
        "for m in range(2*n):\n",
        "  a=dic2.get(m)\n",
        "  cof.append(a[m])"
      ],
      "metadata": {
        "id": "KqMep_7fwpMk"
      },
      "execution_count": 440,
      "outputs": []
    },
    {
      "cell_type": "code",
      "source": [
        "import sympy as sp\n",
        "x=sp.Symbol(\"x\")\n",
        "H=sp.Symbol(\"H\") #creamos una variable para calcular el polinomio de Hermite\n",
        "\n",
        "H=0\n"
      ],
      "metadata": {
        "id": "z7RJmGP8tK0E"
      },
      "execution_count": 441,
      "outputs": []
    },
    {
      "cell_type": "code",
      "source": [
        "#Obtencion  de la expresion del  polinomio de hermite\n",
        "mul=1#Creamos una variable para guardar la expresion (X-Z0)...(X-Zk-1)\n",
        "mul2=[1] #Creamos una lista vacia para guardar la expresion  que va a ir tomando mul en el ciclo iterativo\n",
        "\n",
        "#Ciclo iterativo para obtener la expresion de  (X-Z0)...(X-Zk-1)\n",
        "for m in range(0,2*(n)-1):\n",
        "  mul*=x-z[m]\n",
        "  mul2.append(mul) #se guarda la expresion  que va   tomando mul en el ciclo iterativo\n",
        "\n",
        "#Ciclo iterativo para el realizar la multiplicacion de los coeficientes Qi,j del polinomio por las expresiones de la lista mul2 obtenidos en el ciclo anterior\n",
        "for m in range(2*n):\n",
        "  H+=mul2[m]*cof[m]\n",
        "\n",
        "#Al terminar este ciclo se obtiene el polinomio H(x) de hermite"
      ],
      "metadata": {
        "id": "BXbxZdRU8_G3"
      },
      "execution_count": 442,
      "outputs": []
    },
    {
      "cell_type": "code",
      "source": [
        "(H).simplify()#se muestra el polinomio de Hermite obtenido"
      ],
      "metadata": {
        "colab": {
          "base_uri": "https://localhost:8080/",
          "height": 38
        },
        "id": "HayPqSvF-NjF",
        "outputId": "ed07135d-124e-4405-9c12-53d5fd5bd4e4"
      },
      "execution_count": 443,
      "outputs": [
        {
          "output_type": "execute_result",
          "data": {
            "text/plain": [
              "-0.0027738*x**5 + 0.02402456*x**4 - 0.014532782*x**3 - 0.2352534604*x**2 - 0.00819958060000008*x + 1.001934704328"
            ],
            "text/latex": "$\\displaystyle - 0.0027738 x^{5} + 0.02402456 x^{4} - 0.014532782 x^{3} - 0.2352534604 x^{2} - 0.00819958060000008 x + 1.001934704328$"
          },
          "metadata": {},
          "execution_count": 443
        }
      ]
    },
    {
      "cell_type": "code",
      "source": [
        "Evaluacion=sp.lambdify(x,sp.simplify(H.simplify()))#creacion de la funcion \"Evaluacion\",para el calculo de H(x)"
      ],
      "metadata": {
        "id": "KyG68sm0yvNH"
      },
      "execution_count": 444,
      "outputs": []
    },
    {
      "cell_type": "code",
      "source": [
        "print(tabulate(dic2,headers=titulos,floatfmt='.7f'))#Imprimimos la tabla con los Qi,j\n",
        "\n",
        "print(\"\\n Los coeficientes del polinomio de Hermite son \")#Imprimimos los coeficientes de Hermite calculados\n",
        "for m in range(2*n):#Ciclo iterativo para imprimir los coefcientes del polinomio de Hermite\n",
        "  print(\"Q\",str(m),str(m),\"=\",cof[m])\n",
        "\n",
        "print(\"\\n El polinomio de Hermite tiene la forma H(x)= \",(H).simplify())#Imprimimos la forma del polinomio de Hermite\n",
        "\n",
        "\n",
        "print(\"\\n El polinomio de Hermite evaluado en x= \",x0,\"es igual a \",round(Evaluacion(x0),7))#imprimimos la evaluacion del polinomio H(x) de hermite en el punto dado x"
      ],
      "metadata": {
        "colab": {
          "base_uri": "https://localhost:8080/"
        },
        "id": "f6HlY1p9Uc8E",
        "outputId": "01aa56d9-e8ab-485a-c96f-70e29affba5f"
      },
      "execution_count": 445,
      "outputs": [
        {
          "output_type": "stream",
          "name": "stdout",
          "text": [
            "  i          z       f(z)         Qi1         Qi2        Qi3        Qi4         Qi5\n",
            "---  ---------  ---------  ----------  ----------  ---------  ---------  ----------\n",
            "  0  1.3000000  0.6200860   0.0000000   0.0000000  0.0000000  0.0000000   0.0000000\n",
            "  1  1.3000000  0.6200860  -0.5220232   0.0000000  0.0000000  0.0000000   0.0000000\n",
            "  2  1.6000000  0.4554022  -0.5489460  -0.0897427  0.0000000  0.0000000   0.0000000\n",
            "  3  1.6000000  0.4554022  -0.5698959  -0.0698330  0.0663657  0.0000000   0.0000000\n",
            "  4  1.9000000  0.2818186  -0.5786120  -0.0290537  0.0679655  0.0026663   0.0000000\n",
            "  5  1.9000000  0.2818186  -0.5811571  -0.0084837  0.0685667  0.0010020  -0.0027738\n",
            "\n",
            " Los coeficientes del polinomio de Hermite son \n",
            "Q 0 0 = 0.620086\n",
            "Q 1 1 = -0.5220232\n",
            "Q 2 2 = -0.0897427\n",
            "Q 3 3 = 0.0663657\n",
            "Q 4 4 = 0.0026663\n",
            "Q 5 5 = -0.0027738\n",
            "\n",
            " El polinomio de Hermite tiene la forma H(x)=  -0.0027738*x**5 + 0.02402456*x**4 - 0.014532782*x**3 - 0.2352534604*x**2 - 0.00819958060000008*x + 1.001934704328\n",
            "\n",
            " El polinomio de Hermite evaluado en x=  1.5 es igual a  0.5118277\n"
          ]
        }
      ]
    },
    {
      "cell_type": "code",
      "source": [
        "from math import *\n",
        "import numpy as np\n",
        "import matplotlib . pyplot as plt"
      ],
      "metadata": {
        "id": "iWT1QUSv_D40"
      },
      "execution_count": 446,
      "outputs": []
    },
    {
      "cell_type": "code",
      "source": [
        "import matplotlib.pyplot as plt\n",
        "plt.figure(figsize=(10,10))\n",
        "\n",
        "x=np.linspace(0, 3.6,200)\n",
        "\n",
        "plt.plot(x,Evaluacion(x) , label='Open Price')#se grafica la funcion g(x) en los datos de x dados\n",
        "plt.scatter(datx,daty,color=\"red\",marker=\"X\",label=\"x\")#se trazan los puntos para cada pareja ordenada (x,y) de la tabla\n",
        "plt.xlim(0, 3.6)\n",
        "plt.ylim(-0.4, 1.2)\n",
        "\n",
        "plt.title(\"Polinomio de Hermite \", loc = \"left\", fontdict = {'fontsize':14, 'fontweight':'bold', 'color':'tab:blue'})\n",
        "plt.xlabel(\"Eje x\",fontdict = {'fontsize':14, 'fontweight':'bold', 'color':'tab:blue'})\n",
        "plt.ylabel(\"Eje y\",fontdict = {'fontsize':14, 'fontweight':'bold', 'color':'tab:blue'})\n",
        "plt.grid(color=\"black\",linestyle=\"dotted\")\n",
        "plt.show()"
      ],
      "metadata": {
        "id": "jPcQ1u_uBtwx",
        "outputId": "35148484-52f5-47e5-aed9-8617b8afaaa4",
        "colab": {
          "base_uri": "https://localhost:8080/",
          "height": 878
        }
      },
      "execution_count": 476,
      "outputs": [
        {
          "output_type": "display_data",
          "data": {
            "text/plain": [
              "<Figure size 1000x1000 with 1 Axes>"
            ],
            "image/png": "[encoded data removed]"
          },
          "metadata": {}
        }
      ]
    }
  ]
}