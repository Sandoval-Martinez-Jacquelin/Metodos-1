{
  "nbformat": 4,
  "nbformat_minor": 0,
  "metadata": {
    "colab": {
      "provenance": [],
      "authorship_tag": "ABX9TyNJe6BMycp9kViF1d3vfl6R",
      "include_colab_link": true
    },
    "kernelspec": {
      "name": "python3",
      "display_name": "Python 3"
    },
    "language_info": {
      "name": "python"
    }
  },
  "cells": [
    {
      "cell_type": "markdown",
      "metadata": {
        "id": "view-in-github",
        "colab_type": "text"
      },
      "source": [
        "<a href=\"https://colab.research.google.com/github/Sandoval-Martinez-Jacquelin/Metodos-1/blob/main/Tutorial_Numpy.ipynb\" target=\"_parent\"><img src=\"https://colab.research.google.com/assets/colab-badge.svg\" alt=\"Open In Colab\"/></a>"
      ]
    },
    {
      "cell_type": "markdown",
      "source": [
        "## **TUTORIAL DE NUMPY**"
      ],
      "metadata": {
        "id": "7eCdvQXQqMiL"
      }
    },
    {
      "cell_type": "markdown",
      "source": [
        "NumPy es una librería de Python especializada en eL cálculo numérico y el análisis de datos, especialmente para un gran volumen de datos.\n",
        "\n",
        "Incorpora una nueva clase de objetos llamados arrays que permite representar colecciones de datos de un mismo tipo en varias dimensiones, y funciones muy eficientes para su manipulación.\n",
        "\n",
        "Caracteristicas de los Arreglos.\n",
        "\n",
        "\n",
        "*   Son del mismo tipo de dato\n",
        "*   Tienen una posicion numerica ,la cual inicia en 0\n",
        "*   Una vez creado el arreglo no se puede modificar su tamaño\n",
        "\n",
        "\n",
        "\n",
        "\n"
      ],
      "metadata": {
        "id": "ScdolVQhriKv"
      }
    },
    {
      "cell_type": "code",
      "source": [
        "#Para usar NumPy debemos importar el módulo numpy, típicamente usando el alias np\n",
        "import numpy as np #Importa todo el paquete numpy y se usa de la  #siguiente forma:  np.array(A)\n",
        "from numpy import array #Importa la función array del paquete numpy\n",
        "from numpy import *  #Importa todas las funciones dentro del paquete numpy\n",
        "#Los arreglos pueden ser de tipo flotante,entero,complejo o cadena\n"
      ],
      "metadata": {
        "id": "uAOorS_1s23S"
      },
      "execution_count": 77,
      "outputs": []
    },
    {
      "cell_type": "markdown",
      "source": [
        "**Creacion de Arreglos.**"
      ],
      "metadata": {
        "id": "oEy0hv-ztvgL"
      }
    },
    {
      "cell_type": "code",
      "source": [
        "#Apartir de Listas.\n",
        "A=[1, 3, 5, 7, 9, 2, 4, 6, 8]#lista\n",
        "B=array(A)#Creamos el arreglo \"B\" con los elementos de la lista A,el arreglo es de tipo entero\n",
        "\n",
        "\n",
        "print(\"Lista\",A)\n",
        "print(\"Arreglo\",B)\n",
        "\n",
        "C=array([[1, 3, 5], [7., 9., 2.], [4, 6, 8]])#La segunda lista contiene datos flotantes\n",
        "\n",
        "print(\"Arreglo de tipo flotante\\n\",C)"
      ],
      "metadata": {
        "colab": {
          "base_uri": "https://localhost:8080/"
        },
        "id": "YfCGLbIkt1PD",
        "outputId": "e9717533-1475-45c5-af8a-e68a71e04a6b"
      },
      "execution_count": 78,
      "outputs": [
        {
          "output_type": "stream",
          "name": "stdout",
          "text": [
            "Lista [1, 3, 5, 7, 9, 2, 4, 6, 8]\n",
            "Arreglo [1 3 5 7 9 2 4 6 8]\n",
            "Arreglo de tipo flotante\n",
            " [[1. 3. 5.]\n",
            " [7. 9. 2.]\n",
            " [4. 6. 8.]]\n"
          ]
        }
      ]
    },
    {
      "cell_type": "code",
      "source": [
        "#Arreglos con arange\n",
        "#Crea un arreglo con numeros de coma flotante.Podemos crear un arreglo de 3 distintas formas\n",
        "#1.arange(fin-1)\n",
        "a=arange(10.0)\n",
        "print(\"arange(fin-1),parametro flotante\\n\",a,\"\\n\")\n",
        "#2 arange(inicio, fin-1)\n",
        "a=arange(13,18)\n",
        "print(\"arange(inicio,fin-1),parametro entero\\n\",a,\"\\n\")\n",
        "#3.arange(inicio, fin-1, paso)\n",
        "a=arange(4,20,2)\n",
        "print(\"arange(inicio,fin-1,paso),parametro entero\\n\",a,\"\\n\")"
      ],
      "metadata": {
        "colab": {
          "base_uri": "https://localhost:8080/"
        },
        "id": "iX0wc2NSvtIZ",
        "outputId": "5d6cd380-5aeb-4f06-8942-48c45afd86a6"
      },
      "execution_count": 79,
      "outputs": [
        {
          "output_type": "stream",
          "name": "stdout",
          "text": [
            "arange(fin-1),parametro flotante\n",
            " [0. 1. 2. 3. 4. 5. 6. 7. 8. 9.] \n",
            "\n",
            "arange(inicio,fin-1),parametro entero\n",
            " [13 14 15 16 17] \n",
            "\n",
            "arange(inicio,fin-1,paso),parametro entero\n",
            " [ 4  6  8 10 12 14 16 18] \n",
            "\n"
          ]
        }
      ]
    },
    {
      "cell_type": "markdown",
      "source": [
        "**Arreglos inicializados en cero o uno**"
      ],
      "metadata": {
        "id": "tEy0j6bfyaLu"
      }
    },
    {
      "cell_type": "code",
      "source": [
        "#ARREGLOS INICIALIZADOS EN CERO\n",
        "#importamos el modulo numpy\n",
        "from numpy import zeros #inicializa lo arreglos en 0\n",
        "from numpy import ones #inicializa lo arreglos en 1\n",
        "\n",
        "\n",
        "G=zeros(3,dtype=int)#crea arreglo de tipo entero\n",
        "H=zeros(3,dtype=float)#crea arreglo de tipo flotante\n",
        "J=zeros(3,dtype=complex)#crea arreglo de tipo complejo\n",
        "K=zeros(3,dtype=str)#crea arreglo de tipo cadena\n",
        "print(\"Arreglo de tipo entero\",G)\n",
        "print(\"Arreglo de tipo flotante\",H)\n",
        "print(\"Arreglo de tipo complejo\",J)\n",
        "print(\"Arreglo de tipo cadena\",K)\n",
        "\n",
        "#Para arreglos de dimension 2 o supeior ,las dimensiones del array son tuplas\n",
        "dimen=(2,3)\n",
        "M=zeros(dimen,dtype=int)\n",
        "print(\"Array de dimension 2x3 \\n\",M)\n"
      ],
      "metadata": {
        "colab": {
          "base_uri": "https://localhost:8080/"
        },
        "id": "aUaODn2AypeE",
        "outputId": "d9fb2e49-687a-408f-d7ac-11303f885075"
      },
      "execution_count": 80,
      "outputs": [
        {
          "output_type": "stream",
          "name": "stdout",
          "text": [
            "Arreglo de tipo entero [0 0 0]\n",
            "Arreglo de tipo flotante [0. 0. 0.]\n",
            "Arreglo de tipo complejo [0.+0.j 0.+0.j 0.+0.j]\n",
            "Arreglo de tipo cadena ['' '' '']\n",
            "Array de dimension 2x3 \n",
            " [[0 0 0]\n",
            " [0 0 0]]\n"
          ]
        }
      ]
    },
    {
      "cell_type": "code",
      "source": [
        "#ARREGLOS INICIALIZADOS EN UNO\n",
        "#importamos el modulo numpy\n",
        "from numpy import ones #inicializa lo arreglos en 1\n",
        "G=ones(3,dtype=int)#crea arreglo de tipo entero\n",
        "H=ones(3,dtype=float)#crea arreglo de tipo flotante\n",
        "J=ones(3,dtype=complex)#crea arreglo de tipo complejo\n",
        "K=ones(3,dtype=str)#crea arreglo de tipo cadena\n",
        "print(\"Arreglo de tipo entero\",G)\n",
        "print(\"Arreglo de tipo flotante\",H)\n",
        "print(\"Arreglo de tipo complejo\",J)\n",
        "print(\"Arreglo de tipo cadena\",K)\n",
        "#Para arreglos de dimension 2 o supeior ,las dimensiones del array son tuplas\n",
        "dimen=(2,3)\n",
        "M=ones(dimen,dtype=int)\n",
        "print(\"Array de dimension 2x3 \\n\",M)\n"
      ],
      "metadata": {
        "colab": {
          "base_uri": "https://localhost:8080/"
        },
        "id": "yqwvI1mE0A_2",
        "outputId": "f4eabdd9-6e98-4bd8-cc2f-505a3e1d3757"
      },
      "execution_count": 81,
      "outputs": [
        {
          "output_type": "stream",
          "name": "stdout",
          "text": [
            "Arreglo de tipo entero [1 1 1]\n",
            "Arreglo de tipo flotante [1. 1. 1.]\n",
            "Arreglo de tipo complejo [1.+0.j 1.+0.j 1.+0.j]\n",
            "Arreglo de tipo cadena ['1' '1' '1']\n",
            "Array de dimension 2x3 \n",
            " [[1 1 1]\n",
            " [1 1 1]]\n"
          ]
        }
      ]
    },
    {
      "cell_type": "code",
      "source": [
        "#inicialización con todos los valores a un valor predeterminado\n",
        "# El tipo de dato coincide con el del dato de inicialización\n",
        "a=full(10, 3)#arreglo con 10 numeros 3\n",
        "print(a)"
      ],
      "metadata": {
        "colab": {
          "base_uri": "https://localhost:8080/"
        },
        "id": "lCZsDVL35Oce",
        "outputId": "fdefcfe8-2c2a-4a5b-a2fa-44f44f221210"
      },
      "execution_count": 82,
      "outputs": [
        {
          "output_type": "stream",
          "name": "stdout",
          "text": [
            "[3 3 3 3 3 3 3 3 3 3]\n"
          ]
        }
      ]
    },
    {
      "cell_type": "markdown",
      "source": [
        "**Arreglos con Linspace**"
      ],
      "metadata": {
        "id": "TvBHup4-0fSw"
      }
    },
    {
      "cell_type": "code",
      "source": [
        "#crea una secuencia de valores equidistantes entre dos valores límite.Sus argumentos son:inicio,fin ,numero de elementos\n",
        "j=linspace(2,15,13)#arreglo con 13 valores equidistantes ,se empieza en 2 y acaba en 15\n",
        "print(\"Arreglo con 13 valores equidistantes ,se empieza en 2 y acaba en 15\\n\",j)\n",
        "#NOTA:\"SE GENERAN MENOS DECIMALES CUANDO EL NUMERO DE ELEMENTOS ES IMPAR\""
      ],
      "metadata": {
        "colab": {
          "base_uri": "https://localhost:8080/"
        },
        "id": "ajUi9zAU0jru",
        "outputId": "33758425-4ab0-4cf4-f6b4-fab969567b3e"
      },
      "execution_count": 83,
      "outputs": [
        {
          "output_type": "stream",
          "name": "stdout",
          "text": [
            "Arreglo con 13 valores equidistantes ,se empieza en 2 y acaba en 15\n",
            " [ 2.          3.08333333  4.16666667  5.25        6.33333333  7.41666667\n",
            "  8.5         9.58333333 10.66666667 11.75       12.83333333 13.91666667\n",
            " 15.        ]\n"
          ]
        }
      ]
    },
    {
      "cell_type": "markdown",
      "source": [
        "**inicialización de valores aleatorios enteros pertenecientes a un rango de valores**"
      ],
      "metadata": {
        "id": "5Wp_2EdN7I8q"
      }
    },
    {
      "cell_type": "code",
      "source": [
        "a=random.randint(-9, 10, (5, 5))#Matriz 5x5 de enteros aleatorios en el intervalo abierto [-9, 10)\n",
        "print(a)"
      ],
      "metadata": {
        "colab": {
          "base_uri": "https://localhost:8080/"
        },
        "id": "DPwBekbX7Ln6",
        "outputId": "94538dd2-388d-4c38-becd-196789b267ce"
      },
      "execution_count": 84,
      "outputs": [
        {
          "output_type": "stream",
          "name": "stdout",
          "text": [
            "[[-9  2 -3  2 -9]\n",
            " [-6 -9 -5  8  9]\n",
            " [ 2  4  8  9 -9]\n",
            " [-4 -3  4 -6 -6]\n",
            " [ 7 -6 -9  1 -6]]\n"
          ]
        }
      ]
    },
    {
      "cell_type": "markdown",
      "source": [
        "**Modificar los elementos de un arreglo.**"
      ],
      "metadata": {
        "id": "FceaHCk02wim"
      }
    },
    {
      "cell_type": "code",
      "source": [
        "from numpy import zeros #inicializa lo arreglos en 0\n",
        "a=zeros(10,dtype=int)#creacion del arreglo inicicalizado en 0\n",
        "print(\"Arreglo inicializado en 0\\n\",a)\n",
        "#Modificacion del arreglo a\n",
        "for x in range(len(a)):#creacion de un bucle para la modificacion del arreglo\n",
        "  a[x]=x+1 #modifica el dato del arreglo de la posicion x y le asigna el nuevo valor = x+1\n",
        "\n",
        "print(\"Arreglo modificado\\n\",a)"
      ],
      "metadata": {
        "colab": {
          "base_uri": "https://localhost:8080/"
        },
        "id": "HiGMTAhp21ms",
        "outputId": "225ac00c-7087-417e-982b-087c2d771dac"
      },
      "execution_count": 85,
      "outputs": [
        {
          "output_type": "stream",
          "name": "stdout",
          "text": [
            "Arreglo inicializado en 0\n",
            " [0 0 0 0 0 0 0 0 0 0]\n",
            "Arreglo modificado\n",
            " [ 1  2  3  4  5  6  7  8  9 10]\n"
          ]
        }
      ]
    },
    {
      "cell_type": "markdown",
      "source": [
        "**Indexado**"
      ],
      "metadata": {
        "id": "Oa9Yj7f27mQ6"
      }
    },
    {
      "cell_type": "code",
      "source": [
        "#Para arreglos unidimensionales\n",
        "v = np.random.randint(-9, 10, 5)#Arreglo de enteros aleatorios en el intervalo abierto [-9, 10)\n",
        "print(v)\n",
        "print(\"Elemento 0 del arreglo V es \",v[0],\"\\n\")\n",
        "\n",
        "#Indexado para Arreglos multidimensionales\n",
        "#accedemos individualmente a los elementos, que son valores escalares, separando los índices por comas\n",
        "M = np.random.randint(-9, 10, (5, 3))#Matriz 5x3 de enteros aleatorios en el intervalo abierto [-9, 10)\n",
        "print(\"La matriz M es \\n\",M)\n",
        "print(\"El escalar de la fila 1 ,columna 2 es= \",  M[1, 2])#RECORDEMOS QUE LA PRIMERA POSICION DE UN ELEMNTO TIENE EL INDICE 0"
      ],
      "metadata": {
        "colab": {
          "base_uri": "https://localhost:8080/"
        },
        "id": "B_BTxuZ57pwq",
        "outputId": "006f0c22-81b0-4f81-ab90-95a371b66f47"
      },
      "execution_count": 86,
      "outputs": [
        {
          "output_type": "stream",
          "name": "stdout",
          "text": [
            "[6 5 2 7 3]\n",
            "Elemento 0 del arreglo V es  6 \n",
            "\n",
            "La matriz M es \n",
            " [[-6  9 -5]\n",
            " [-6 -8  7]\n",
            " [-4  0  8]\n",
            " [ 6 -3  0]\n",
            " [ 6  1  9]]\n",
            "El escalar de la fila 1 ,columna 2 es=  7\n"
          ]
        }
      ]
    },
    {
      "cell_type": "code",
      "source": [
        "#Si queremos acceder, por ejemplo, a toda una fila de una matriz de dos dimensiones, indicamos simplemente el índice de la fila\n",
        "print(\"fila 1\",M[1],\"\\n\")\n",
        "\n",
        "#Lo mismo se puede conseguir usando la notación :\n",
        "print(\"fila 2\",M[2, :],\"\\n\") #fila 2\n",
        "\n",
        "# acceder a toda una columna\n",
        "print(\"Columna 1\",M[:, 1],\"\\n\")\n",
        "\n",
        "#Las asignaciones a elementos individuales siguen las pautas normales:\n",
        "M[1, 2] = 150\n",
        "print(\"Matriz M \\n\",M,\"\\n\")\n",
        "\n",
        "#También podemos asignar un valor a todos los elementos de una fila o columna:\n",
        "M[2, :] = 800\n",
        "M[:, 1] = -20\n",
        "print(\"Matriz M \\n\",M)"
      ],
      "metadata": {
        "colab": {
          "base_uri": "https://localhost:8080/"
        },
        "id": "5sdV7TQE-DLj",
        "outputId": "da36ceef-fd45-400e-ac78-a566930ded9e"
      },
      "execution_count": 87,
      "outputs": [
        {
          "output_type": "stream",
          "name": "stdout",
          "text": [
            "fila 1 [-6 -8  7] \n",
            "\n",
            "fila 2 [-4  0  8] \n",
            "\n",
            "Columna 1 [ 9 -8  0 -3  1] \n",
            "\n",
            "Matriz M \n",
            " [[ -6   9  -5]\n",
            " [ -6  -8 150]\n",
            " [ -4   0   8]\n",
            " [  6  -3   0]\n",
            " [  6   1   9]] \n",
            "\n",
            "Matriz M \n",
            " [[ -6 -20  -5]\n",
            " [ -6 -20 150]\n",
            " [800 -20 800]\n",
            " [  6 -20   0]\n",
            " [  6 -20   9]]\n"
          ]
        }
      ]
    },
    {
      "cell_type": "markdown",
      "source": [
        "**Atributos de los array**"
      ],
      "metadata": {
        "id": "nUz6V3Xo5srb"
      }
    },
    {
      "cell_type": "code",
      "source": [
        "#SHAPE\n",
        "#Se obtienen las dimensiones de un array y devuelve una tuplea\n",
        "M = ones((2, 3), dtype=float)\n",
        "print(M.shape)\n",
        "\n",
        "#SIZE\n",
        "#accede al número de elementos\n",
        "print(M.ndim)\n",
        "\n",
        "#NDIM\n",
        "#El número de dimensiones se almacena en el atributo ndim\n",
        "print(M.ndim)\n",
        "\n",
        "#Se puede obtener también consultando la longitud de la tupla shape\n",
        "print(len(M.shape))"
      ],
      "metadata": {
        "colab": {
          "base_uri": "https://localhost:8080/"
        },
        "id": "mLqRtIsf4HMd",
        "outputId": "71b0a496-7606-4b9b-dbaa-a3956608fd80"
      },
      "execution_count": 88,
      "outputs": [
        {
          "output_type": "stream",
          "name": "stdout",
          "text": [
            "(2, 3)\n",
            "2\n",
            "2\n",
            "2\n"
          ]
        }
      ]
    },
    {
      "cell_type": "markdown",
      "source": [
        "**Operaciones con arreglos**"
      ],
      "metadata": {
        "id": "MwqhwxjpAiJq"
      }
    },
    {
      "cell_type": "code",
      "source": [
        "#Las operaciones de un escalar y un arreglo se realizan con el escalar operando con todos los elementos del arreglo\n",
        "a=array([1,2,3,4,5])#creacion del arreglo\n",
        "f=5\n",
        "c=a+f\n",
        "e=a*f\n",
        "h=a-f\n",
        "p=a/f\n",
        "print(\"Suma \",c,\"\\nProducto \",e,\"\\nDiferencia \",h,\"\\nCociente \",p)\n"
      ],
      "metadata": {
        "colab": {
          "base_uri": "https://localhost:8080/"
        },
        "id": "Esv1swFJAlRZ",
        "outputId": "fab4a6d5-a1d5-4860-e307-d59c0ee9e253"
      },
      "execution_count": 89,
      "outputs": [
        {
          "output_type": "stream",
          "name": "stdout",
          "text": [
            "Suma  [ 6  7  8  9 10] \n",
            "Producto  [ 5 10 15 20 25] \n",
            "Diferencia  [-4 -3 -2 -1  0] \n",
            "Cociente  [0.2 0.4 0.6 0.8 1. ]\n"
          ]
        }
      ]
    },
    {
      "cell_type": "code",
      "source": [
        "#Las operaciones entre arreglos se realizan elemento a elemnto\n",
        "a=array([1,2,3,4,5])\n",
        "b=array([6,7,8,9,10])\n",
        "c=a+b\n",
        "e=a*b\n",
        "h=a-b\n",
        "p=a/b\n",
        "print(\"Suma \",c,\"\\nProducto \",e,\"\\nDiferencia \",h,\"\\nCociente \",p)\n"
      ],
      "metadata": {
        "colab": {
          "base_uri": "https://localhost:8080/"
        },
        "id": "VclHWZRQBvRC",
        "outputId": "e97174e4-4480-4cfc-90d4-1e7f2f09a580"
      },
      "execution_count": 90,
      "outputs": [
        {
          "output_type": "stream",
          "name": "stdout",
          "text": [
            "Suma  [ 7  9 11 13 15] \n",
            "Producto  [ 6 14 24 36 50] \n",
            "Diferencia  [-5 -5 -5 -5 -5] \n",
            "Cociente  [0.16666667 0.28571429 0.375      0.44444444 0.5       ]\n"
          ]
        }
      ]
    },
    {
      "cell_type": "markdown",
      "source": [
        "**Suma y producto de los elementos, suma y producto acumulativos**"
      ],
      "metadata": {
        "id": "7IFO6LC7DUzB"
      }
    },
    {
      "cell_type": "code",
      "source": [
        "M=array([[1,2,3],[4,5,6],[7,8,9]])\n",
        "print(M,\"\\n\")\n",
        "\n",
        "#suma de los elemntos de M\n",
        "print(\"Suma= \",sum(M))\n",
        "print(\"\\nProducto \",prod(M))#multiplica todos los elemntos de M\n",
        "# Suma acumulativa. Recorre por filas.\n",
        "print(\"Suma acumulativa \",cumsum(M))\n",
        "# Producto acumulativo. Recorre por filas.\n",
        "print(\"\\nProducto acumulativo \",cumprod(M))"
      ],
      "metadata": {
        "colab": {
          "base_uri": "https://localhost:8080/"
        },
        "id": "wbnCDnd9DX8P",
        "outputId": "3a0ca1f0-cfb3-4400-9494-5f373a7f72ef"
      },
      "execution_count": 91,
      "outputs": [
        {
          "output_type": "stream",
          "name": "stdout",
          "text": [
            "[[1 2 3]\n",
            " [4 5 6]\n",
            " [7 8 9]] \n",
            "\n",
            "Suma=  45\n",
            "\n",
            "Producto  362880\n",
            "Suma acumulativa  [ 1  3  6 10 15 21 28 36 45]\n",
            "\n",
            "Producto acumulativo  [     1      2      6     24    120    720   5040  40320 362880]\n"
          ]
        }
      ]
    },
    {
      "cell_type": "markdown",
      "source": [
        "**Combinando matrices**"
      ],
      "metadata": {
        "id": "TNVJPyhLEm2h"
      }
    },
    {
      "cell_type": "code",
      "source": [
        "#Concatenar\n",
        "v1 = np.array([1, 2, 3])#creacion de arreglos\n",
        "v2 = np.array([4, 5, 6])\n",
        "v3 = np.array([7, 8, 9])\n",
        "\n",
        "M = np.concatenate((v1, v2, v3))\n",
        "print(M)"
      ],
      "metadata": {
        "colab": {
          "base_uri": "https://localhost:8080/"
        },
        "id": "sin9uyQuEppJ",
        "outputId": "b2b028f6-3be3-4d5a-c811-96aba8c57fb7"
      },
      "execution_count": 92,
      "outputs": [
        {
          "output_type": "stream",
          "name": "stdout",
          "text": [
            "[1 2 3 4 5 6 7 8 9]\n"
          ]
        }
      ]
    },
    {
      "cell_type": "code",
      "source": [
        "#Apilar, horizontal y verticalmente\n",
        "M = np.vstack((v1, v2, v3))#apila verticalemnte\n",
        "print(\"Apilacion vertical\\n\" ,M)\n",
        "M = np.hstack((v1, v2, v3))  # apila horizontalmente\n",
        "print(\"Apilacion horizontal\\n\" ,M)"
      ],
      "metadata": {
        "colab": {
          "base_uri": "https://localhost:8080/"
        },
        "id": "YAMrTRSkEwQp",
        "outputId": "dd9a55e0-112b-49e7-85f2-d8be9beb62b9"
      },
      "execution_count": 93,
      "outputs": [
        {
          "output_type": "stream",
          "name": "stdout",
          "text": [
            "Apilacion vertical\n",
            " [[1 2 3]\n",
            " [4 5 6]\n",
            " [7 8 9]]\n",
            "Apilacion horizontal\n",
            " [1 2 3 4 5 6 7 8 9]\n"
          ]
        }
      ]
    },
    {
      "cell_type": "markdown",
      "source": [
        "**Iterando con bucles de arreglos**\n",
        "\n"
      ],
      "metadata": {
        "id": "AxQMxY8YFe-5"
      }
    },
    {
      "cell_type": "code",
      "source": [
        "#Iteracion de arreglos unidimensionales\n",
        "v = arange(10) #creacion del arreglo ,contiene numeros del 0-9\n",
        "print(\"arreglo \",v)\n",
        "for x in v:\n",
        "    print(x) #con el bucle se accede a cada elemento del arreglo v"
      ],
      "metadata": {
        "colab": {
          "base_uri": "https://localhost:8080/"
        },
        "id": "scM94nAtFiyY",
        "outputId": "6d36392e-9fee-44de-8e1a-eee02ec9b1b5"
      },
      "execution_count": 94,
      "outputs": [
        {
          "output_type": "stream",
          "name": "stdout",
          "text": [
            "arreglo  [0 1 2 3 4 5 6 7 8 9]\n",
            "0\n",
            "1\n",
            "2\n",
            "3\n",
            "4\n",
            "5\n",
            "6\n",
            "7\n",
            "8\n",
            "9\n"
          ]
        }
      ]
    },
    {
      "cell_type": "code",
      "source": [
        "#Iteracion de matrices\n",
        "M = array([[2, 1, 7], [5, 2, 9], [2, 8, 5]])\n",
        "print(\"Matriz M =\\n\",M)\n",
        "#Accedemos a los elemntos de M a traves del bucle\n",
        "print(\"\\nLos elemntos de M son \\n\")\n",
        "for fila in M:  # fila es una fila de M\n",
        "    for x in fila:\n",
        "        print(x, end=' ')#imprime cada elemnto de M\n",
        "    print()"
      ],
      "metadata": {
        "colab": {
          "base_uri": "https://localhost:8080/"
        },
        "id": "feqvZyp7GBIq",
        "outputId": "b99ba927-ba6e-46fb-ed62-35570e97b120"
      },
      "execution_count": 95,
      "outputs": [
        {
          "output_type": "stream",
          "name": "stdout",
          "text": [
            "Matriz M =\n",
            " [[2 1 7]\n",
            " [5 2 9]\n",
            " [2 8 5]]\n",
            "\n",
            "Los elemntos de M son \n",
            "\n",
            "2 1 7 \n",
            "5 2 9 \n",
            "2 8 5 \n"
          ]
        }
      ]
    }
  ]
}