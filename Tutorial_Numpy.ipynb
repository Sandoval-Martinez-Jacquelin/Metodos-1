{
  "nbformat": 4,
  "nbformat_minor": 0,
  "metadata": {
    "colab": {
      "provenance": [],
      "authorship_tag": "ABX9TyO/O3UvKhz0jp5ZutcxBjhW",
      "include_colab_link": true
    },
    "kernelspec": {
      "name": "python3",
      "display_name": "Python 3"
    },
    "language_info": {
      "name": "python"
    }
  },
  "cells": [
    {
      "cell_type": "markdown",
      "metadata": {
        "id": "view-in-github",
        "colab_type": "text"
      },
      "source": [
        "<a href=\"https://colab.research.google.com/github/Sandoval-Martinez-Jacquelin/Metodos-1/blob/main/Tutorial_Numpy.ipynb\" target=\"_parent\"><img src=\"https://colab.research.google.com/assets/colab-badge.svg\" alt=\"Open In Colab\"/></a>"
      ]
    },
    {
      "cell_type": "markdown",
      "source": [
        "## **TUTORIAL DE NUMPY**"
      ],
      "metadata": {
        "id": "7eCdvQXQqMiL"
      }
    },
    {
      "cell_type": "markdown",
      "source": [
        "NumPy es una librería de Python especializada en eL cálculo numérico y el análisis de datos, especialmente para un gran volumen de datos.\n",
        "\n",
        "Incorpora una nueva clase de objetos llamados arrays que permite representar colecciones de datos de un mismo tipo en varias dimensiones, y funciones muy eficientes para su manipulación."
      ],
      "metadata": {
        "id": "ScdolVQhriKv"
      }
    },
    {
      "cell_type": "code",
      "source": [
        "#Para usar NumPy debemos importar el módulo numpy, típicamente usando el alias np\n",
        "import numpy as np #Importa todo el paquete numpy y se usa de la  #siguiente forma:  np.array(A)\n",
        "from numpy import array #Importa la función array del paquete numpy\n",
        "from numpy import *  #Importa todas las funciones dentro del paquete numpy\n",
        "\n"
      ],
      "metadata": {
        "id": "uAOorS_1s23S"
      },
      "execution_count": 1,
      "outputs": []
    },
    {
      "cell_type": "markdown",
      "source": [
        "**Creacion de Arreglos.**"
      ],
      "metadata": {
        "id": "oEy0hv-ztvgL"
      }
    },
    {
      "cell_type": "code",
      "source": [
        "#Apartir de Listas.\n",
        "A=[1, 3, 5, 7, 9, 2, 4, 6, 8]#lista\n",
        "B=array(A)#Creamos el arreglo \"B\" con los elementos de la lista A,el arreglo es de tipo entero\n",
        "\n",
        "\n",
        "print(\"Lista\",A)\n",
        "print(\"Arreglo\",B)\n",
        "\n",
        "C=array([[1, 3, 5], [7., 9., 2.], [4, 6, 8]])#La segunda lista contiene datos flotantes\n",
        "\n",
        "print(\"Arreglo de tipo flotante\\n\",C)"
      ],
      "metadata": {
        "colab": {
          "base_uri": "https://localhost:8080/"
        },
        "id": "YfCGLbIkt1PD",
        "outputId": "ad6e23f0-4acd-452b-f95b-6cbe7da6c16b"
      },
      "execution_count": 9,
      "outputs": [
        {
          "output_type": "stream",
          "name": "stdout",
          "text": [
            "Lista [1, 3, 5, 7, 9, 2, 4, 6, 8]\n",
            "Arreglo [1 3 5 7 9 2 4 6 8]\n",
            "Arreglo de tipo flotante\n",
            " [[1. 3. 5.]\n",
            " [7. 9. 2.]\n",
            " [4. 6. 8.]]\n"
          ]
        }
      ]
    },
    {
      "cell_type": "code",
      "source": [
        "#Arreglos con arange\n",
        "#Crea un arreglo con numeros de coma flotante.Podemos crear un arreglo de 3 distintas formas\n",
        "#1.arange(fin-1)\n",
        "a=arange(10.0)\n",
        "print(\"arange(fin-1),parametro flotante\\n\",a,\"\\n\")\n",
        "#2 arange(inicio, fin-1)\n",
        "a=arange(13,18)\n",
        "print(\"arange(inicio,fin-1),parametro entero\\n\",a,\"\\n\")\n",
        "#3.arange(inicio, fin-1, paso)\n",
        "a=arange(4,20,2)\n",
        "print(\"arange(inicio,fin-1,paso),parametro entero\\n\",a,\"\\n\")"
      ],
      "metadata": {
        "colab": {
          "base_uri": "https://localhost:8080/"
        },
        "id": "iX0wc2NSvtIZ",
        "outputId": "365df0ed-b668-4257-9994-36216332e592"
      },
      "execution_count": 15,
      "outputs": [
        {
          "output_type": "stream",
          "name": "stdout",
          "text": [
            "arange(fin-1),parametro flotante\n",
            " [0. 1. 2. 3. 4. 5. 6. 7. 8. 9.] \n",
            "\n",
            "arange(inicio,fin-1),parametro entero\n",
            " [13 14 15 16 17] \n",
            "\n",
            "arange(inicio,fin-1,paso),parametro entero\n",
            " [ 4  6  8 10 12 14 16 18] \n",
            "\n"
          ]
        }
      ]
    }
  ]
}