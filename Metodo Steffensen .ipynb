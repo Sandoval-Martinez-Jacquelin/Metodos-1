{
  "nbformat": 4,
  "nbformat_minor": 0,
  "metadata": {
    "colab": {
      "provenance": [],
      "authorship_tag": "ABX9TyMP1TE17Up5j0ti97bfyv8E",
      "include_colab_link": true
    },
    "kernelspec": {
      "name": "python3",
      "display_name": "Python 3"
    },
    "language_info": {
      "name": "python"
    }
  },
  "cells": [
    {
      "cell_type": "markdown",
      "metadata": {
        "id": "view-in-github",
        "colab_type": "text"
      },
      "source": [
        "<a href=\"https://colab.research.google.com/github/Sandoval-Martinez-Jacquelin/Metodos-1/blob/main/Metodo%20Steffensen%20.ipynb\" target=\"_parent\"><img src=\"https://colab.research.google.com/assets/colab-badge.svg\" alt=\"Open In Colab\"/></a>"
      ]
    },
    {
      "cell_type": "code",
      "execution_count": 37,
      "metadata": {
        "id": "vN2YZdXkQXxc"
      },
      "outputs": [],
      "source": [
        "from math import *\n",
        "\n",
        "import numpy as np\n",
        "import matplotlib . pyplot as plt\n",
        "#para este programa ,los calculos se redondearan a 6 decimales\n"
      ]
    },
    {
      "cell_type": "code",
      "source": [
        "\n",
        "\n",
        "def funcion1(x):#escribimos la funcion original del problema\n",
        "  return cos(x)-(2*x)+3"
      ],
      "metadata": {
        "id": "KttU_EuLQjLU"
      },
      "execution_count": 38,
      "outputs": []
    },
    {
      "cell_type": "code",
      "source": [
        "print(\"f(1)= \",funcion1(1),\",f(2)= \",funcion1(2))#f(1) y f(2) no pertenencen a [1,2]"
      ],
      "metadata": {
        "colab": {
          "base_uri": "https://localhost:8080/"
        },
        "id": "yzoYH4k4RSu6",
        "outputId": "400c4bbd-27b4-4f34-a78e-aed747bb3c33"
      },
      "execution_count": 39,
      "outputs": [
        {
          "output_type": "stream",
          "name": "stdout",
          "text": [
            "f(1)=  1.5403023058681398 ,f(2)=  -1.4161468365471421\n"
          ]
        }
      ]
    },
    {
      "cell_type": "code",
      "source": [
        "def g(x):#Reescribimos la funcion1 para encontrar un punto fijo\n",
        "  return (cos(x)+3)/2"
      ],
      "metadata": {
        "id": "6pldlp0jR9st"
      },
      "execution_count": 40,
      "outputs": []
    },
    {
      "cell_type": "code",
      "source": [
        "#Ingreso de la aproximacion incial\n",
        "p0=1#float(input(\"Ingrese la aproximacion inicial Po= \"))\n",
        "p0k=p0#guarda la aproximacion inicial para el metodo de Steffensen\n",
        "p=p0\n",
        "#guarda los valores iniciales de error y numero de iteraciones\n",
        "tol=0.00001#float(input(\"Ingrese el valor de la tolerancia= \"))\n",
        "nmax=100#int(input(\"Ingrese el numero maximo de iteraciones= \"))\n",
        "error=100\n",
        "errork=100#guarda el error inicial para el metodo de Steffensen\n",
        "niter=0\n",
        "k=0#guarda la iteracion inicial para el metodo de Steffensen"
      ],
      "metadata": {
        "id": "tBkw--6OVIgm"
      },
      "execution_count": 41,
      "outputs": []
    },
    {
      "cell_type": "code",
      "source": [
        "#Metodo de punto fijo\n",
        "#evaluacion de la aproximacion incial en la funcion g\n",
        "g(p0)\n",
        "print(\"METODO PUNTO FIJO\")\n",
        "print(\"# iter\\t\\t p \\t\\t g(p) \\t\\t error\")\n",
        "print(\"{0} \\t\\t {1:6.6f} \\t {2:6.6f} \\t {3:6.6f}\".format(niter, p, round(g(p0),6), round(error,6 )))\n",
        "\n",
        "#ciclo iterativo\n",
        "while error>tol and niter<nmax:\n",
        "  p=round(g(p0),6)\n",
        "  error=round(abs(p-p0),6)\n",
        "  niter+=1\n",
        "  p0=p\n",
        "  print(\"{0} \\t\\t {1:6.6f} \\t {2:6.6f} \\t {3:6.6f}\".format(niter, p, round(g(p0),6), round(error,6)))\n",
        "\n",
        "print(\"La raiz de la funcion en el intervalo [1,2] es  {0:.3f}\".format(p))"
      ],
      "metadata": {
        "colab": {
          "base_uri": "https://localhost:8080/"
        },
        "id": "JOMz_7TgWu1g",
        "outputId": "80cb64d6-dc35-405b-f5b9-5b03621f31f6"
      },
      "execution_count": 42,
      "outputs": [
        {
          "output_type": "stream",
          "name": "stdout",
          "text": [
            "METODO PUNTO FIJO\n",
            "# iter\t\t p \t\t g(p) \t\t error\n",
            "0 \t\t 1.000000 \t 1.770151 \t 100.000000\n",
            "1 \t\t 1.770151 \t 1.400982 \t 0.770151\n",
            "2 \t\t 1.400982 \t 1.584500 \t 0.369169\n",
            "3 \t\t 1.584500 \t 1.493148 \t 0.183518\n",
            "4 \t\t 1.493148 \t 1.538785 \t 0.091352\n",
            "5 \t\t 1.538785 \t 1.516003 \t 0.045637\n",
            "6 \t\t 1.516003 \t 1.527383 \t 0.022782\n",
            "7 \t\t 1.527383 \t 1.521700 \t 0.011380\n",
            "8 \t\t 1.521700 \t 1.524538 \t 0.005683\n",
            "9 \t\t 1.524538 \t 1.523121 \t 0.002838\n",
            "10 \t\t 1.523121 \t 1.523829 \t 0.001417\n",
            "11 \t\t 1.523829 \t 1.523475 \t 0.000708\n",
            "12 \t\t 1.523475 \t 1.523652 \t 0.000354\n",
            "13 \t\t 1.523652 \t 1.523563 \t 0.000177\n",
            "14 \t\t 1.523563 \t 1.523608 \t 0.000089\n",
            "15 \t\t 1.523608 \t 1.523585 \t 0.000045\n",
            "16 \t\t 1.523585 \t 1.523597 \t 0.000023\n",
            "17 \t\t 1.523597 \t 1.523591 \t 0.000012\n",
            "18 \t\t 1.523591 \t 1.523594 \t 0.000006\n",
            "La raiz de la funcion en el intervalo [1,2] es  1.524\n"
          ]
        }
      ]
    },
    {
      "cell_type": "code",
      "source": [
        "#Metodo de Steffensen\n",
        "#evaluacion de la aproximacion incial en la funcion g\n",
        "p1=round(g(p0k),6)#Calculo de p1 con k=0\n",
        "p2=round(g(p1),6)#Calculo de p2 con k=0\n",
        "#calculo de los operadores de diferencia\n",
        "dpn=round(pow((p1-p0k),2),6)#calculo de delta de Pn\n",
        "d2pn=round(p2-(2*p1)+p0k,6)#calculo de delta cuadrada de Pn\n",
        "print(\"METODO STEFFENSEN \".center(150, \"=\") )\n",
        "print(\"# iter(k)\\t P0k \\t\\t P1k \\t\\t P2k \\t\\t  (ΔP0k)^2 \\t  Δ^2 P0k \\t error\")\n",
        "print(\"{0} \\t\\t {1:6.6f} \\t {2:6.6f} \\t {3:6.6f} \\t {4:6.6f} \\t {5:6.6f} \\t {6:6.6f}\".format(k, p0k, p1,p2,dpn,d2pn,round(errork,6)))\n",
        "\n",
        "#ciclo iterativo\n",
        "while errork>tol and k<nmax:\n",
        "  pk=round(p0k-(dpn/d2pn),6)#Calculo de p\n",
        "  p1=round(g(pk),6)#calculo de p1\n",
        "  p2=round(g(p1),6)#calculo de p2\n",
        "  errork=round(abs(pk-p0k),6)\n",
        "  k+=1\n",
        "  p0k=pk\n",
        "  dpn=round(pow((p1-p0k),2),6)#calculo de delta de Pn\n",
        "  d2pn=round(p2-(2*p1)+p0k,6)#calculo de delta cuadrada de Pn\n",
        "  print(\"{0} \\t\\t {1:6.6f} \\t {2:6.6f} \\t {3:6.6f} \\t {4:6.6f} \\t {5:6.6f} \\t {6:6.6f}\".format(k, p0k, p1,p2,dpn,d2pn,round(errork,6)))\n",
        "\n",
        "print(\"La raiz de la funcion en el intervalo [1,2] es  \",pk)"
      ],
      "metadata": {
        "id": "FPMhK_paJwNJ",
        "outputId": "23778e1b-5eec-43c7-b19d-d7c1fb46f16f",
        "colab": {
          "base_uri": "https://localhost:8080/"
        }
      },
      "execution_count": 43,
      "outputs": [
        {
          "output_type": "stream",
          "name": "stdout",
          "text": [
            "==================================================================METODO STEFFENSEN ==================================================================\n",
            "# iter(k)\t P0k \t\t P1k \t\t P2k \t\t  (ΔP0k)^2 \t  Δ^2 P0k \t error\n",
            "0 \t\t 1.000000 \t 1.770151 \t 1.400982 \t 0.593133 \t -1.139320 \t 100.000000\n",
            "1 \t\t 1.520603 \t 1.525086 \t 1.522847 \t 0.000020 \t -0.006722 \t 0.520603\n",
            "2 \t\t 1.523578 \t 1.523600 \t 1.523589 \t 0.000000 \t -0.000033 \t 0.002975\n",
            "3 \t\t 1.523578 \t 1.523600 \t 1.523589 \t 0.000000 \t -0.000033 \t 0.000000\n",
            "La raiz de la funcion en el intervalo [1,2] es   1.523578\n"
          ]
        }
      ]
    }
  ]
}