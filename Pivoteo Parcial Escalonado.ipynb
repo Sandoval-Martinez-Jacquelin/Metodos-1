{
  "nbformat": 4,
  "nbformat_minor": 0,
  "metadata": {
    "colab": {
      "provenance": [],
      "authorship_tag": "ABX9TyMm+NFRlWDWJeVUoaPQOvHy",
      "include_colab_link": true
    },
    "kernelspec": {
      "name": "python3",
      "display_name": "Python 3"
    },
    "language_info": {
      "name": "python"
    }
  },
  "cells": [
    {
      "cell_type": "markdown",
      "metadata": {
        "id": "view-in-github",
        "colab_type": "text"
      },
      "source": [
        "<a href=\"https://colab.research.google.com/github/Sandoval-Martinez-Jacquelin/Metodos-1/blob/main/Pivoteo%20Parcial%20Escalonado.ipynb\" target=\"_parent\"><img src=\"https://colab.research.google.com/assets/colab-badge.svg\" alt=\"Open In Colab\"/></a>"
      ]
    },
    {
      "cell_type": "markdown",
      "source": [
        "# **PIVOTEO PARCIAL ESCALONADO**"
      ],
      "metadata": {
        "id": "U5W99qPy6I1C"
      }
    },
    {
      "cell_type": "code",
      "source": [
        "import numpy as np\n",
        "from numpy import array\n",
        "\n",
        "from numpy import zeros\n",
        "\n",
        "from math import *"
      ],
      "metadata": {
        "id": "5YkabKav6NNp"
      },
      "execution_count": 127,
      "outputs": []
    },
    {
      "cell_type": "code",
      "source": [
        "#Ingreso del numero de incognitas y ecuaciones del sistema\n",
        "n=3#int(input(\"Ingrese el numero de Incognitas y numero de ecuaciones= \"))\n",
        "#entradas=[] #Lista vacia para alamcenar las filas de la matriz aumentada correspondiente al sistema de ecuaciones\n",
        "entradas=[[2.11,-4.21,0.921,2.01], [4.01,10.2,-1.12,-3.09],[1.09,0.987,0.832,4.21]] #filas corrrespondientes al sistema de ecuaciones del ejemplo\n",
        "\n",
        "#ciclo iterativo para que el usuario ingrese las entradas de la matriz aumentada\n",
        "\n",
        "#for k in range(n):\n",
        "  #lista=[]\n",
        "  #for d in range(n+1):\n",
        "    #print(\"Ingrese el elemnto A\",k,d,\"de la matriz aumentada\")\n",
        "    #a=float(input(\"\"))\n",
        "    #lista.append(a)\n",
        "  #entradas.append(lista)\n",
        "\n",
        "matrix=array(entradas)#creacion de la matriz aumentada correspondiente al sistema de ecuaciones\n",
        "\n",
        "print(\"La matriz aumentada que representa el sistema de ecuaciones es: \\n\",matrix)"
      ],
      "metadata": {
        "colab": {
          "base_uri": "https://localhost:8080/"
        },
        "id": "kPcQGhLe6x-q",
        "outputId": "03da34e7-df69-44b5-a306-0afe24089c06"
      },
      "execution_count": 128,
      "outputs": [
        {
          "output_type": "stream",
          "name": "stdout",
          "text": [
            "La matriz aumentada que representa el sistema de ecuaciones es: \n",
            " [[ 2.11  -4.21   0.921  2.01 ]\n",
            " [ 4.01  10.2   -1.12  -3.09 ]\n",
            " [ 1.09   0.987  0.832  4.21 ]]\n"
          ]
        }
      ]
    },
    {
      "cell_type": "code",
      "source": [
        "def intercambio(i,p,matriz,n):#definicion de una funcion para realizar el intercambio de filas dentro del ciclo iterativo\n",
        "  for x in range(n+1):\n",
        "    f1=matriz[i][x]#se intercambia la fila i por la fila p\n",
        "    f2=matriz[p][x]\n",
        "    matriz[i][x]=f2\n",
        "    matriz[p][x]=f1\n",
        "  return matriz\n",
        "\n",
        "\n"
      ],
      "metadata": {
        "id": "aNucqAVWq0y_"
      },
      "execution_count": 129,
      "outputs": []
    },
    {
      "cell_type": "code",
      "source": [
        "def Calculo_s(matriz,n):#definicion de una funcion para el calculo de si\n",
        "  matrix3=matriz[0:n,0:n]\n",
        "  s=[]\n",
        "\n",
        "  for i in range(n):\n",
        "    s1=matrix3[i]\n",
        "    s2=[]\n",
        "    for j in s1:\n",
        "      s2.append(abs(j))\n",
        "    s.append(max(s2))\n",
        "\n",
        "  return s\n",
        "\n"
      ],
      "metadata": {
        "id": "8cfquBqxBLjT"
      },
      "execution_count": 130,
      "outputs": []
    },
    {
      "cell_type": "code",
      "source": [
        "\n",
        "\n",
        "final=matrix #se guarda la matriz aumentada en otro arreglo\n",
        "s=Calculo_s(matrix,n)#calculo de los si\n",
        "\n",
        "#Pivoteo Parcial\n",
        "#Ciclo iterativo\n",
        "for i in range(n-1):\n",
        "  matrix=array(final)\n",
        "\n",
        "  col_i=matrix[i:n,i]#se obtiene la columna i de la matriz\n",
        "\n",
        "  divi=[]#lista vacia para guardar el calculo de los valores absolutos/si\n",
        "  for x in range(len(col_i)):#ciclo para el calculo de los valores absolutos/si\n",
        "    divi.append(round(abs(col_i[x]/s[x+i]),3))\n",
        "\n",
        "\n",
        "  ma=max(divi)#se obtiene el valor maximo de los valores absolutos/si\n",
        "  NROW_p_i=divi.index(ma)+i#indice que indica el valor de p\n",
        "  a_NROW_p_i=col_i[NROW_p_i-i]#se obtiene el valor de a(NROW(p),i)\n",
        "\n",
        "\n",
        "\n",
        "\n",
        "\n",
        "  if a_NROW_p_i==0:#si el maximo valor absoluto es 0,el sistema no tiene solucion unica\n",
        "    print(\"No existe solucion unica\")\n",
        "    break\n",
        "  else:\n",
        "    matrix=intercambio(i,NROW_p_i,matrix,n)#llamada de la funcion ,para el intercambio de filas\n",
        "    s=Calculo_s(matrix,n)#calculo de los si\n",
        "    print(\"\\nIntercambio de las filas \",i,\"y\",NROW_p_i,\"\\n\",matrix)\n",
        "\n",
        "\n",
        "    final=[]#lista vacia para guardar las filas de la matrices  resultantes\n",
        "    for k in range(i+1):#ciclo para agregar a la lista vacia las fila 0,1,...,i del arreglo \"matrix\"\n",
        "        final.append(matrix[k])\n",
        "    print(\"\\nLos multiplicadores son:\")\n",
        "    for j in range(i+1,n):#ciclo iterativo para el calculo de los valores de m(multiplicadores)\n",
        "        m=round(-matrix[j][i]/matrix[i][i],3)\n",
        "        print(\"m=\",-m)\n",
        "\n",
        "\n",
        "        fila1=[]#creacion de una lista vacia\n",
        "        for f in matrix[i]:#ciclo iterativo para guardar los valoes resultantes del producto de m con cada elemnto de la fila i del arreglo \"matrix\"\n",
        "           fila1.append(round(f*m,3))\n",
        "\n",
        "\n",
        "\n",
        "        sum=list(array(fila1)+array(matrix[j]))#creacion de una lista que alamacena la nueva fila j del arreglo \"matrix\"\n",
        "        final.append(sum)#se agrega la nueva fila j del arreglo \"matrix \" a la lista \"final\"\n",
        "    print(\"\\nLa Matriz  producida es: \\n\")#se imprime la matriz resultante\n",
        "    for x in range(n):#ciclo para  imprimir la matriz resultante del Pivoteo Parcial\n",
        "      for j in range(n+1):\n",
        "        print(round(final[x][j],5),\" \",end=\" \")\n",
        "      print(\" \")\n",
        "    print(\"\\n\\n\")\n",
        "\n"
      ],
      "metadata": {
        "id": "vVJqCiIUIsTG",
        "outputId": "9ab124b2-0234-4e03-89df-44cddbcc23b4",
        "colab": {
          "base_uri": "https://localhost:8080/"
        }
      },
      "execution_count": 131,
      "outputs": [
        {
          "output_type": "stream",
          "name": "stdout",
          "text": [
            "\n",
            "Intercambio de las filas  0 y 2 \n",
            " [[ 1.09   0.987  0.832  4.21 ]\n",
            " [ 4.01  10.2   -1.12  -3.09 ]\n",
            " [ 2.11  -4.21   0.921  2.01 ]]\n",
            "\n",
            "Los multiplicadores son:\n",
            "m= 3.679\n",
            "m= 1.936\n",
            "\n",
            "La Matriz  producida es: \n",
            "\n",
            "1.09   0.987   0.832   4.21    \n",
            "0.0   6.569   -4.181   -18.579    \n",
            "0.0   -6.121   -0.69   -6.141    \n",
            "\n",
            "\n",
            "\n",
            "\n",
            "Intercambio de las filas  1 y 2 \n",
            " [[  1.09    0.987   0.832   4.21 ]\n",
            " [  0.     -6.121  -0.69   -6.141]\n",
            " [  0.      6.569  -4.181 -18.579]]\n",
            "\n",
            "Los multiplicadores son:\n",
            "m= -1.073\n",
            "\n",
            "La Matriz  producida es: \n",
            "\n",
            "1.09   0.987   0.832   4.21    \n",
            "0.0   -6.121   -0.69   -6.141    \n",
            "0.0   0.001   -4.921   -25.168    \n",
            "\n",
            "\n",
            "\n"
          ]
        }
      ]
    },
    {
      "cell_type": "code",
      "source": [
        "if final[n-1][n-1]==0:#condicional para verificar que la entrada An,n de la matriz aumentada no sea 0\n",
        "  print(\"No existe solucion unica\")\n",
        "else:\n",
        "\n",
        "  soluciones=zeros(n,dtype=float)#creacion de un arreglo inicializado en 0 para guardar las soluciones del sistema\n",
        "  soluciones[n-1]=final[n-1][n]/final[n-1][n-1]#calculo de Xn\n",
        "\n",
        "\n",
        "  def sumatoria(i):#funcion para el calculo de la sumatoria que esta dentro de la formula de Xi\n",
        "    s=0\n",
        "    for j in range(i+1,n):\n",
        "      s+=final[i][j]*soluciones[j]\n",
        "    return s\n",
        "\n",
        "\n",
        "\n",
        "  for i in range(n-2,-1,-1):#ciclo iterativo para el calculo de las soluciones Xi\n",
        "    soluciones[i]=(final[i][n]-sumatoria(i))/final[i][i]\n",
        "\n",
        "\n",
        "  print(\"Las soluciones del sistema son : \\n\")\n",
        "\n",
        "  for k in range(n):#ciclo iterativo para la impresion de las soluciones\n",
        "    print(\"X\",k+1,\"=\",round(soluciones[k],3))\n"
      ],
      "metadata": {
        "colab": {
          "base_uri": "https://localhost:8080/"
        },
        "id": "IqtGobBbvLXz",
        "outputId": "bb2651ce-6cbf-4973-d06b-7576eea13eb5"
      },
      "execution_count": 132,
      "outputs": [
        {
          "output_type": "stream",
          "name": "stdout",
          "text": [
            "Las soluciones del sistema son : \n",
            "\n",
            "X 1 = -0.428\n",
            "X 2 = 0.427\n",
            "X 3 = 5.114\n"
          ]
        }
      ]
    }
  ]
}