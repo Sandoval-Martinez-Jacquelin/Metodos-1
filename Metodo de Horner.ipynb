{
  "nbformat": 4,
  "nbformat_minor": 0,
  "metadata": {
    "colab": {
      "provenance": [],
      "authorship_tag": "ABX9TyOrIg6i95Dv4L8/AnohlOAT",
      "include_colab_link": true
    },
    "kernelspec": {
      "name": "python3",
      "display_name": "Python 3"
    },
    "language_info": {
      "name": "python"
    }
  },
  "cells": [
    {
      "cell_type": "markdown",
      "metadata": {
        "id": "view-in-github",
        "colab_type": "text"
      },
      "source": [
        "<a href=\"https://colab.research.google.com/github/Sandoval-Martinez-Jacquelin/Metodos-1/blob/main/Metodo%20de%20Horner.ipynb\" target=\"_parent\"><img src=\"https://colab.research.google.com/assets/colab-badge.svg\" alt=\"Open In Colab\"/></a>"
      ]
    },
    {
      "cell_type": "code",
      "execution_count": 38,
      "metadata": {
        "id": "VQqxpxFd6xW9"
      },
      "outputs": [],
      "source": [
        "#los calculos se redondearan  a 3 decimales\n",
        "from math import *\n",
        "import numpy as np\n",
        "\n"
      ]
    },
    {
      "cell_type": "code",
      "source": [
        "n=4 #int(input(\"Ingrese el grado del polinomio\"))\n",
        "a=[]\n",
        "b=[]\n",
        "#for x in range(0,n+1):\n",
        "  #print(\"Coeficiente a\",x)\n",
        "  #c=int(input(\"Ingrese el valor del coeficiente \"))\n",
        "  #a.append(c)\n",
        "a=[-4,3,-3,0,2]\n",
        "print(a)"
      ],
      "metadata": {
        "colab": {
          "base_uri": "https://localhost:8080/"
        },
        "id": "fsMwxeQKaRj-",
        "outputId": "697a9114-3d33-4888-f977-fda281cab5ed"
      },
      "execution_count": 107,
      "outputs": [
        {
          "output_type": "stream",
          "name": "stdout",
          "text": [
            "[-4, 3, -3, 0, 2]\n"
          ]
        }
      ]
    },
    {
      "cell_type": "code",
      "source": [
        "#Ingreso de la aproximacion incial\n",
        "x0=-2#float(input(\"Ingrese la aproximacion inicial xo= \"))\n",
        "\n",
        "#guarda los valores iniciales de error y numero de iteraciones\n",
        "error=100\n",
        "tol=0.0001#float(input(\"Ingrese el valor de la tolerancia= \"))\n",
        "nmax=100#int(input(\"Ingrese el numero maximo de iteraciones= \"))\n",
        "niter=0\n"
      ],
      "metadata": {
        "id": "TC2QxImz7vA0"
      },
      "execution_count": 112,
      "outputs": []
    },
    {
      "cell_type": "code",
      "source": [
        "\n",
        "j=n-1\n",
        "y=a[n]\n",
        "z=a[n]\n",
        "while abs(y)>tol:\n",
        "  j=n-1\n",
        "  y=a[n]\n",
        "  z=a[n]\n",
        "  while j<n and j>=1:\n",
        "    y=round(x0*y+a[j],5)\n",
        "    z=round(x0*z+y,5)\n",
        "    print(y,z,j,x0)\n",
        "    j-=1\n",
        "  y=round(x0*y+a[0],5)\n",
        "  print(y,\"b0\")\n",
        "  x0=round(x0-(y/z),5)\n",
        "  print(\"nuevo x0=\",x0,\"b0=\",y,\"evaluacion en derivada =\",z,\"diferencia entre b0 y 0=\",abs(y))\n"
      ],
      "metadata": {
        "id": "um3Wr_P7uoXS"
      },
      "execution_count": null,
      "outputs": []
    },
    {
      "cell_type": "code",
      "source": [
        "\n",
        "j=n-1\n",
        "y=a[n]\n",
        "z=a[n]\n",
        "while abs(y)>tol:\n",
        "  j=n-1\n",
        "  y=a[n]\n",
        "  z=a[n]\n",
        "  while j<n and j>=1:\n",
        "    y=round(x0*y+a[j],5)\n",
        "    z=round(x0*z+y,5)\n",
        "    print(y,z,j,x0)\n",
        "    j-=1\n",
        "  y=round(x0*y+a[0],5)\n",
        "  print(y,\"b0\")\n",
        "  x0=round(x0-(y/z),5)\n",
        "  print(\"nuevo x0=\",x0,\"b0=\",y,\"evaluacion en derivada =\",z,\"diferencia entre b0 y 0=\",abs(y))\n",
        "\n",
        "\n",
        "\n"
      ],
      "metadata": {
        "colab": {
          "base_uri": "https://localhost:8080/"
        },
        "id": "P7uq8tyteVYC",
        "outputId": "811d7d2e-9d3c-4d82-8abf-74514c673f37"
      },
      "execution_count": 113,
      "outputs": [
        {
          "output_type": "stream",
          "name": "stdout",
          "text": [
            "-4 -8 3 -2\n",
            "5 21 2 -2\n",
            "-7 -49 1 -2\n",
            "10 b0\n",
            "nuevo x0= -1.79592 b0= 10 evaluacion en derivada = -49 diferencia entre b0 y 0= 10\n",
            "-3.59184 -7.18368 3 -1.79592\n",
            "3.45066 16.35197 2 -1.79592\n",
            "-3.19711 -32.56394 1 -1.79592\n",
            "1.74175 b0\n",
            "nuevo x0= -1.74243 b0= 1.74175 evaluacion en derivada = -32.56394 diferencia entre b0 y 0= 1.74175\n",
            "-3.48486 -6.96972 3 -1.74243\n",
            "3.07212 15.21637 2 -1.74243\n",
            "-2.35295 -28.86641 1 -1.74243\n",
            "0.09985 b0\n",
            "nuevo x0= -1.73897 b0= 0.09985 evaluacion en derivada = -28.86641 diferencia entre b0 y 0= 0.09985\n",
            "-3.47794 -6.95588 3 -1.73897\n",
            "3.04803 15.1441 2 -1.73897\n",
            "-2.30043 -28.63557 1 -1.73897\n",
            "0.00038 b0\n",
            "nuevo x0= -1.73896 b0= 0.00038 evaluacion en derivada = -28.63557 diferencia entre b0 y 0= 0.00038\n",
            "-3.47792 -6.95584 3 -1.73896\n",
            "3.04796 15.14389 2 -1.73896\n",
            "-2.30028 -28.6349 1 -1.73896\n",
            "9e-05 b0\n",
            "nuevo x0= -1.73896 b0= 9e-05 evaluacion en derivada = -28.6349 diferencia entre b0 y 0= 9e-05\n"
          ]
        }
      ]
    },
    {
      "cell_type": "code",
      "source": [],
      "metadata": {
        "id": "UPssZ1WSmRBC"
      },
      "execution_count": null,
      "outputs": []
    }
  ]
}