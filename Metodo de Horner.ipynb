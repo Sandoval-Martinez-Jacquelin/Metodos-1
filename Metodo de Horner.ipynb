{
  "nbformat": 4,
  "nbformat_minor": 0,
  "metadata": {
    "colab": {
      "provenance": [],
      "authorship_tag": "ABX9TyMP+L2vemzEqMw0yr4Ftk0D",
      "include_colab_link": true
    },
    "kernelspec": {
      "name": "python3",
      "display_name": "Python 3"
    },
    "language_info": {
      "name": "python"
    }
  },
  "cells": [
    {
      "cell_type": "markdown",
      "metadata": {
        "id": "view-in-github",
        "colab_type": "text"
      },
      "source": [
        "<a href=\"https://colab.research.google.com/github/Sandoval-Martinez-Jacquelin/Metodos-1/blob/main/Metodo%20de%20Horner.ipynb\" target=\"_parent\"><img src=\"https://colab.research.google.com/assets/colab-badge.svg\" alt=\"Open In Colab\"/></a>"
      ]
    },
    {
      "cell_type": "code",
      "execution_count": null,
      "metadata": {
        "id": "VQqxpxFd6xW9"
      },
      "outputs": [],
      "source": [
        "#los calculos se redondearan  a 3 decimales\n",
        "from math import *\n",
        "import numpy as np\n",
        "\n"
      ]
    },
    {
      "cell_type": "code",
      "source": [
        "import sympy as sp\n",
        "x=sp.Symbol(\"x\")#crea la variable x\n",
        "funcion=x**3-x-1#input(\"Escriba la funcion(variable x) \")\n",
        "derivada=sp.diff(funcion,x)#calculo de la derivada de la funcion\n",
        "funcion=sp.lambdify(x,funcion)#convierte la expresion SymPy en funcion para realizar las evaluaciones\n",
        "derivada=sp.lambdify(x,derivada)#convierte la expresion SymPy de la derivada en funcion para realizar las evaluaciones\n",
        "\n"
      ],
      "metadata": {
        "id": "yHPxLL-S-58l"
      },
      "execution_count": null,
      "outputs": []
    },
    {
      "cell_type": "code",
      "source": [
        "#Ingreso de la aproximacion incial\n",
        "x0=-2#float(input(\"Ingrese la aproximacion inicial xo= \"))\n",
        "\n",
        "#guarda los valores iniciales de error y numero de iteraciones\n",
        "\n",
        "tol=0.01#float(input(\"Ingrese el valor de la tolerancia= \"))\n",
        "nmax=100#int(input(\"Ingrese el numero maximo de iteraciones= \"))\n",
        "niter=0\n"
      ],
      "metadata": {
        "id": "TC2QxImz7vA0"
      },
      "execution_count": null,
      "outputs": []
    },
    {
      "cell_type": "code",
      "source": [
        "#Metodo de Newton\n",
        "\n",
        "#Calculo de la primera aproximacion\n",
        "\n",
        "a=round(funcion(p0),3)#evalucion de la funcion en p0\n",
        "b=round(derivada(p0),3)#evaluacion de la derivada en p0\n",
        "p=round(p0-(a/b),3)\n",
        "error=round(abs(p-p0),3)#calculo del primer error\n",
        "print(\"# iter\\t\\t Pn-1 \\t\\t f(Pn-1) \\t\\t f´(Pn-1) \\t\\t Pn \\t\\t error\")\n",
        "print(\"{0} \\t\\t{1:6.3f} \\t\\t{2:6.3f} \\t\\t\\t{3:6.3f} \\t\\t\\t{4:6.3f}  \\t {5:6.3f} \".format(niter,p0,funcion(p0),derivada(p0),p,error))\n",
        "p0=p\n",
        "\n",
        "#ciclo iterativo\n",
        "while error>tol and niter<nmax:\n",
        "  a=round(funcion(p0),3)\n",
        "  b=round(derivada(p0),3)\n",
        "  p=round(p0-(a/b),3)\n",
        "  error=round(abs(p-p0),3)\n",
        "  niter+=1\n",
        "  print(\"{0} \\t\\t{1:6.3f} \\t\\t{2:6.3f} \\t\\t\\t{3:6.3f} \\t\\t\\t{4:6.3f}  \\t {5:6.3f} \".format(niter,p0,a,b,p,error))\n",
        "  p0=p\n",
        "\n",
        "print(\"La raiz de la funcion  en el intervalo [1,2] es {0:.3f}\".format(p))"
      ],
      "metadata": {
        "colab": {
          "base_uri": "https://localhost:8080/"
        },
        "id": "y1dsUGyx8Qvz",
        "outputId": "cd99e96a-d8a9-47f3-cc06-652d27dee673"
      },
      "execution_count": null,
      "outputs": [
        {
          "output_type": "stream",
          "name": "stdout",
          "text": [
            "# iter\t\t Pn-1 \t\t f(Pn-1) \t\t f´(Pn-1) \t\t Pn \t\t error\n",
            "0 \t\t 1.500 \t\t 0.875 \t\t\t 5.750 \t\t\t 1.348  \t  0.152 \n",
            "1 \t\t 1.348 \t\t 0.101 \t\t\t 4.451 \t\t\t 1.325  \t  0.023 \n",
            "2 \t\t 1.325 \t\t 0.001 \t\t\t 4.267 \t\t\t 1.325  \t  0.000 \n",
            "La raiz de la funcion  en el intervalo [1,2] es 1.325\n"
          ]
        }
      ]
    }
  ]
}