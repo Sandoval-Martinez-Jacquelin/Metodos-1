{
  "nbformat": 4,
  "nbformat_minor": 0,
  "metadata": {
    "colab": {
      "provenance": [],
      "authorship_tag": "ABX9TyPO9TNJQPU+5TBOiVWqanlO",
      "include_colab_link": true
    },
    "kernelspec": {
      "name": "python3",
      "display_name": "Python 3"
    },
    "language_info": {
      "name": "python"
    }
  },
  "cells": [
    {
      "cell_type": "markdown",
      "metadata": {
        "id": "view-in-github",
        "colab_type": "text"
      },
      "source": [
        "<a href=\"https://colab.research.google.com/github/Sandoval-Martinez-Jacquelin/Metodos-1/blob/main/Metodo%20de%20Horner.ipynb\" target=\"_parent\"><img src=\"https://colab.research.google.com/assets/colab-badge.svg\" alt=\"Open In Colab\"/></a>"
      ]
    },
    {
      "cell_type": "code",
      "execution_count": 38,
      "metadata": {
        "id": "VQqxpxFd6xW9"
      },
      "outputs": [],
      "source": [
        "#los calculos se redondearan  a 3 decimales\n",
        "from math import *\n",
        "import numpy as np\n",
        "\n"
      ]
    },
    {
      "cell_type": "code",
      "source": [
        "n=4 #int(input(\"Ingrese el grado del polinomio\"))\n",
        "a=[]\n",
        "b=[]\n",
        "#for x in range(0,n+1):\n",
        "  #print(\"Coeficiente a\",x)\n",
        "  #c=int(input(\"Ingrese el valor del coeficiente \"))\n",
        "  #a.append(c)\n",
        "a=[-4,3,-3,0,2]\n",
        "print(a)"
      ],
      "metadata": {
        "colab": {
          "base_uri": "https://localhost:8080/"
        },
        "id": "fsMwxeQKaRj-",
        "outputId": "697a9114-3d33-4888-f977-fda281cab5ed"
      },
      "execution_count": 107,
      "outputs": [
        {
          "output_type": "stream",
          "name": "stdout",
          "text": [
            "[-4, 3, -3, 0, 2]\n"
          ]
        }
      ]
    },
    {
      "cell_type": "code",
      "source": [
        "#Ingreso de la aproximacion incial\n",
        "x0=-2#float(input(\"Ingrese la aproximacion inicial xo= \"))\n",
        "\n",
        "#guarda los valores iniciales de error y numero de iteraciones\n",
        "error=100\n",
        "tol=0.0001#float(input(\"Ingrese el valor de la tolerancia= \"))\n",
        "nmax=100#int(input(\"Ingrese el numero maximo de iteraciones= \"))\n",
        "niter=0\n"
      ],
      "metadata": {
        "id": "TC2QxImz7vA0"
      },
      "execution_count": 189,
      "outputs": []
    },
    {
      "cell_type": "code",
      "source": [
        "\n",
        "j=n-1\n",
        "y=a[n]\n",
        "z=a[n]\n",
        "while abs(y)>tol:\n",
        "  j=n-1\n",
        "  y=a[n]\n",
        "  z=a[n]\n",
        "  print(\"#iter\",niter,\"X0=\",x0,)\n",
        "  print(\"# iter\\t\\t j \\t\\t bj\\t\\t\\t bj-1 \")\n",
        "  while j<n and j>=1:\n",
        "    y=round(x0*y+a[j],5)\n",
        "    z=round(x0*z+y,5)\n",
        "\n",
        "    print(\"{0}\\t\\t {1:5.5f}\\t{2:5.5f} \\t\\t{3:5.5f} \".format(niter,j,y,z))\n",
        "\n",
        "    j-=1\n",
        "  y=round(x0*y+a[0],5)\n",
        "  print(\"b0=P(x0)= \",y)\n",
        "  print(\"P´(x0)=Q(x0)= \",z,\"\\n\\n\\n\")\n",
        "  x0=round(x0-(y/z),5)\n",
        "  niter+=1\n",
        "\n"
      ],
      "metadata": {
        "colab": {
          "base_uri": "https://localhost:8080/"
        },
        "id": "um3Wr_P7uoXS",
        "outputId": "65157180-d007-4980-c572-acfd3e9c379a"
      },
      "execution_count": 190,
      "outputs": [
        {
          "output_type": "stream",
          "name": "stdout",
          "text": [
            "#iter 0 X0= -2\n",
            "# iter\t\t j \t\t bj\t\t\t bj-1 \n",
            "0\t\t 3.00000\t-4.00000 \t\t-8.00000 \n",
            "0\t\t 2.00000\t5.00000 \t\t21.00000 \n",
            "0\t\t 1.00000\t-7.00000 \t\t-49.00000 \n",
            "b0=P(x0)=  10\n",
            "P´(x0)=Q(x0)=  -49 \n",
            "\n",
            "\n",
            "\n",
            "#iter 1 X0= -1.79592\n",
            "# iter\t\t j \t\t bj\t\t\t bj-1 \n",
            "1\t\t 3.00000\t-3.59184 \t\t-7.18368 \n",
            "1\t\t 2.00000\t3.45066 \t\t16.35197 \n",
            "1\t\t 1.00000\t-3.19711 \t\t-32.56394 \n",
            "b0=P(x0)=  1.74175\n",
            "P´(x0)=Q(x0)=  -32.56394 \n",
            "\n",
            "\n",
            "\n",
            "#iter 2 X0= -1.74243\n",
            "# iter\t\t j \t\t bj\t\t\t bj-1 \n",
            "2\t\t 3.00000\t-3.48486 \t\t-6.96972 \n",
            "2\t\t 2.00000\t3.07212 \t\t15.21637 \n",
            "2\t\t 1.00000\t-2.35295 \t\t-28.86641 \n",
            "b0=P(x0)=  0.09985\n",
            "P´(x0)=Q(x0)=  -28.86641 \n",
            "\n",
            "\n",
            "\n",
            "#iter 3 X0= -1.73897\n",
            "# iter\t\t j \t\t bj\t\t\t bj-1 \n",
            "3\t\t 3.00000\t-3.47794 \t\t-6.95588 \n",
            "3\t\t 2.00000\t3.04803 \t\t15.14410 \n",
            "3\t\t 1.00000\t-2.30043 \t\t-28.63557 \n",
            "b0=P(x0)=  0.00038\n",
            "P´(x0)=Q(x0)=  -28.63557 \n",
            "\n",
            "\n",
            "\n",
            "#iter 4 X0= -1.73896\n",
            "# iter\t\t j \t\t bj\t\t\t bj-1 \n",
            "4\t\t 3.00000\t-3.47792 \t\t-6.95584 \n",
            "4\t\t 2.00000\t3.04796 \t\t15.14389 \n",
            "4\t\t 1.00000\t-2.30028 \t\t-28.63490 \n",
            "b0=P(x0)=  9e-05\n",
            "P´(x0)=Q(x0)=  -28.6349 \n",
            "\n",
            "\n",
            "\n"
          ]
        }
      ]
    },
    {
      "cell_type": "code",
      "source": [],
      "metadata": {
        "id": "UPssZ1WSmRBC"
      },
      "execution_count": null,
      "outputs": []
    }
  ]
}