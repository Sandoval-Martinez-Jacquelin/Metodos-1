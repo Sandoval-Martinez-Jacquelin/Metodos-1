{
  "nbformat": 4,
  "nbformat_minor": 0,
  "metadata": {
    "colab": {
      "provenance": [],
      "authorship_tag": "ABX9TyO2NKtY7TFahn3YBw6wuXBV",
      "include_colab_link": true
    },
    "kernelspec": {
      "name": "python3",
      "display_name": "Python 3"
    },
    "language_info": {
      "name": "python"
    }
  },
  "cells": [
    {
      "cell_type": "markdown",
      "metadata": {
        "id": "view-in-github",
        "colab_type": "text"
      },
      "source": [
        "<a href=\"https://colab.research.google.com/github/Sandoval-Martinez-Jacquelin/Metodos-1/blob/main/Metodo%20de%20Horner.ipynb\" target=\"_parent\"><img src=\"https://colab.research.google.com/assets/colab-badge.svg\" alt=\"Open In Colab\"/></a>"
      ]
    },
    {
      "cell_type": "code",
      "execution_count": 57,
      "metadata": {
        "id": "VQqxpxFd6xW9"
      },
      "outputs": [],
      "source": [
        "#los calculos se redondearan  a 5 decimales,se considerará un error de 0.0001\n",
        "from math import *\n",
        "import numpy as np\n",
        "\n"
      ]
    },
    {
      "cell_type": "code",
      "source": [
        "n=4 #int(input(\"Ingrese el grado del polinomio P(x)\"))\n",
        "a=[]\n",
        "#ciclo para el ingreso de los coeficientes\n",
        "#for x in range(0,n+1):\n",
        "  #print(\"Coeficiente a\",x)\n",
        "  #c=int(input(\"Ingrese el valor del coeficiente \"))\n",
        "  #a.append(c)\n",
        "a=[-4,3,-3,0,2]\n"
      ],
      "metadata": {
        "id": "fsMwxeQKaRj-"
      },
      "execution_count": 58,
      "outputs": []
    },
    {
      "cell_type": "code",
      "source": [
        "#Ingreso de la aproximacion incial\n",
        "x0=-2#float(input(\"Ingrese la aproximacion inicial xo= \"))\n",
        "\n",
        "#guarda los valores iniciales de error y numero de iteraciones\n",
        "error=100\n",
        "tol=0.0001#float(input(\"Ingrese el valor de la tolerancia= \"))\n",
        "nmax=100#int(input(\"Ingrese el numero maximo de iteraciones= \"))\n",
        "niter=0\n"
      ],
      "metadata": {
        "id": "TC2QxImz7vA0"
      },
      "execution_count": 59,
      "outputs": []
    },
    {
      "cell_type": "code",
      "source": [
        "\n",
        "j=n-1\n",
        "y=a[n]#calculo de bn para el polinomio P(x)\n",
        "z=a[n]#calculo de bn-1 para el polinomio  Q(x)\n",
        "\n",
        "#METODO DE HORNER\n",
        "#Ciclo iterativo\n",
        "print(\"METODO DE HORNER\".center(150,\"-\"))\n",
        "while abs(y)>tol:\n",
        "  j=n-1\n",
        "  y=a[n]#calculo de bn para el polinomio P(x)\n",
        "  z=a[n]#calculo de bn-1 para el polinomio Q(x)\n",
        "  print(\"X\"+str(niter),\"=\",x0,)\n",
        "  print(\"# iter\\t\\t j \\t\\t bj\\t\\t\\t bj-1 \")\n",
        "  while j<n and j>=1:\n",
        "    y=round(x0*y+a[j],5)#calculo de bj para el polinomio P(x)\n",
        "    z=round(x0*z+y,5)#calculo de bj-1 para el polinomio Q(x)\n",
        "\n",
        "    print(\"{0}\\t\\t {1:5.5f}\\t{2:5.5f} \\t\\t{3:5.5f} \".format(niter,j,y,z))\n",
        "\n",
        "    j-=1\n",
        "  y=round(x0*y+a[0],5)#calculo de b0 para el polinomio P(x)\n",
        "\n",
        "  print(\"\\n b0=P(x0)= \",y)\n",
        "  print(\" P´(x0)=Q(x0)=\",z,\"\\n\\n\\n\")\n",
        "  x0=round(x0-(y/z),5)#calculo de Xn\n",
        "  niter+=1\n",
        "print(\"La raiz aproximada con un error de \",str(tol),\" del Polinomio P(x) es \",x0)\n"
      ],
      "metadata": {
        "colab": {
          "base_uri": "https://localhost:8080/"
        },
        "id": "um3Wr_P7uoXS",
        "outputId": "48c20706-ca11-4b53-c301-12365fb32b2f"
      },
      "execution_count": 60,
      "outputs": [
        {
          "output_type": "stream",
          "name": "stdout",
          "text": [
            "-------------------------------------------------------------------METODO DE HORNER-------------------------------------------------------------------\n",
            "X0 = -2\n",
            "# iter\t\t j \t\t bj\t\t\t bj-1 \n",
            "0\t\t 3.00000\t-4.00000 \t\t-8.00000 \n",
            "0\t\t 2.00000\t5.00000 \t\t21.00000 \n",
            "0\t\t 1.00000\t-7.00000 \t\t-49.00000 \n",
            "\n",
            " b0=P(x0)=  10\n",
            " P´(x0)=Q(x0)= -49 \n",
            "\n",
            "\n",
            "\n",
            "X1 = -1.79592\n",
            "# iter\t\t j \t\t bj\t\t\t bj-1 \n",
            "1\t\t 3.00000\t-3.59184 \t\t-7.18368 \n",
            "1\t\t 2.00000\t3.45066 \t\t16.35197 \n",
            "1\t\t 1.00000\t-3.19711 \t\t-32.56394 \n",
            "\n",
            " b0=P(x0)=  1.74175\n",
            " P´(x0)=Q(x0)= -32.56394 \n",
            "\n",
            "\n",
            "\n",
            "X2 = -1.74243\n",
            "# iter\t\t j \t\t bj\t\t\t bj-1 \n",
            "2\t\t 3.00000\t-3.48486 \t\t-6.96972 \n",
            "2\t\t 2.00000\t3.07212 \t\t15.21637 \n",
            "2\t\t 1.00000\t-2.35295 \t\t-28.86641 \n",
            "\n",
            " b0=P(x0)=  0.09985\n",
            " P´(x0)=Q(x0)= -28.86641 \n",
            "\n",
            "\n",
            "\n",
            "X3 = -1.73897\n",
            "# iter\t\t j \t\t bj\t\t\t bj-1 \n",
            "3\t\t 3.00000\t-3.47794 \t\t-6.95588 \n",
            "3\t\t 2.00000\t3.04803 \t\t15.14410 \n",
            "3\t\t 1.00000\t-2.30043 \t\t-28.63557 \n",
            "\n",
            " b0=P(x0)=  0.00038\n",
            " P´(x0)=Q(x0)= -28.63557 \n",
            "\n",
            "\n",
            "\n",
            "X4 = -1.73896\n",
            "# iter\t\t j \t\t bj\t\t\t bj-1 \n",
            "4\t\t 3.00000\t-3.47792 \t\t-6.95584 \n",
            "4\t\t 2.00000\t3.04796 \t\t15.14389 \n",
            "4\t\t 1.00000\t-2.30028 \t\t-28.63490 \n",
            "\n",
            " b0=P(x0)=  9e-05\n",
            " P´(x0)=Q(x0)= -28.6349 \n",
            "\n",
            "\n",
            "\n",
            "La raiz aproximada con un error de  0.0001  del Polinomio P(x) es  -1.73896\n"
          ]
        }
      ]
    },
    {
      "cell_type": "code",
      "source": [],
      "metadata": {
        "id": "UPssZ1WSmRBC"
      },
      "execution_count": null,
      "outputs": []
    }
  ]
}