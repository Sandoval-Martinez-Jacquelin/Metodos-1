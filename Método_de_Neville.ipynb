{
  "nbformat": 4,
  "nbformat_minor": 0,
  "metadata": {
    "colab": {
      "provenance": [],
      "authorship_tag": "ABX9TyMhlI/JnflgyvhbaNmB1L2+",
      "include_colab_link": true
    },
    "kernelspec": {
      "name": "python3",
      "display_name": "Python 3"
    },
    "language_info": {
      "name": "python"
    }
  },
  "cells": [
    {
      "cell_type": "markdown",
      "metadata": {
        "id": "view-in-github",
        "colab_type": "text"
      },
      "source": [
        "<a href=\"https://colab.research.google.com/github/Sandoval-Martinez-Jacquelin/Metodos-1/blob/main/M%C3%A9todo_de_Neville.ipynb\" target=\"_parent\"><img src=\"https://colab.research.google.com/assets/colab-badge.svg\" alt=\"Open In Colab\"/></a>"
      ]
    },
    {
      "cell_type": "markdown",
      "source": [
        "**Método de Neville**"
      ],
      "metadata": {
        "id": "-2nTNce2cA6P"
      }
    },
    {
      "cell_type": "code",
      "source": [
        "import numpy as np\n",
        "from numpy import array\n",
        "\n",
        "from numpy import zeros\n",
        "from tabulate import tabulate\n",
        "from math import *"
      ],
      "metadata": {
        "id": "CWMLIVr-cHMC"
      },
      "execution_count": 433,
      "outputs": []
    },
    {
      "cell_type": "code",
      "source": [
        "#Ingreso de los datos de la columna  X\n",
        "n=5#int(input(\"Ingrese el numero de datos \"))\n",
        "#datx=zeros(n) #creacion de un arreglo inicializado en ceros ,para añadir los datos de la columna x\n",
        "#for i in range(n):\n",
        "  #a=input(\"Ingrese dato para x \")\n",
        "  #datx[i]=a\n",
        "\n",
        "datx=array([1.0,1.3,1.6,1.9,2.2])#ingreso de los datos de x para el ejemplo"
      ],
      "metadata": {
        "id": "ForFfwGGcxV-"
      },
      "execution_count": 434,
      "outputs": []
    },
    {
      "cell_type": "code",
      "source": [
        "#Ingreso de los datos de la columna  y\n",
        "#daty=zeros(n)\n",
        "#for i in range(n):\n",
        "  #a=input(\"Ingrese dato para y \")\n",
        "  #daty[i]=a\n",
        "\n",
        "daty=array([0.7651977,0.6200860,0.4554022,0.2818186,0.1103623])#ingreso de los datos de y para el ejemplo"
      ],
      "metadata": {
        "id": "fLOIFLT6cyXe"
      },
      "execution_count": 435,
      "outputs": []
    },
    {
      "cell_type": "code",
      "source": [
        "x=1.5#float(input(\"Ingrese el valor a aproximar\"))"
      ],
      "metadata": {
        "id": "8M4ntXLuhr7_"
      },
      "execution_count": 436,
      "outputs": []
    },
    {
      "cell_type": "code",
      "source": [
        "print(daty)"
      ],
      "metadata": {
        "colab": {
          "base_uri": "https://localhost:8080/"
        },
        "id": "LVCD7q8VfFR3",
        "outputId": "9695c78d-6af3-4600-bf7c-8c3820346b3b"
      },
      "execution_count": 437,
      "outputs": [
        {
          "output_type": "stream",
          "name": "stdout",
          "text": [
            "[0.7651977 0.620086  0.4554022 0.2818186 0.1103623]\n"
          ]
        }
      ]
    },
    {
      "cell_type": "code",
      "source": [
        "#Imprimimos la tabla con los valores x y y dados\n",
        "dic={\"datox\":datx,\"datoy\":daty}\n",
        "print(tabulate(dic,headers=['X',\"Y\"]))"
      ],
      "metadata": {
        "colab": {
          "base_uri": "https://localhost:8080/"
        },
        "id": "YJ1pbaAOc2bW",
        "outputId": "238fddd9-59fb-4fbf-cd75-ac0bb29f646f"
      },
      "execution_count": 438,
      "outputs": [
        {
          "output_type": "stream",
          "name": "stdout",
          "text": [
            "  X         Y\n",
            "---  --------\n",
            "1    0.765198\n",
            "1.3  0.620086\n",
            "1.6  0.455402\n",
            "1.9  0.281819\n",
            "2.2  0.110362\n"
          ]
        }
      ]
    },
    {
      "cell_type": "code",
      "source": [
        "lista1=daty\n",
        "lista2=[]"
      ],
      "metadata": {
        "id": "A1dzznIMs3sI"
      },
      "execution_count": 439,
      "outputs": []
    },
    {
      "cell_type": "code",
      "source": [
        "dic={\"datox\":datx,\"datoy\":daty}\n",
        "titulos=[\"X\",\"Y\"]\n",
        "for k in range(1,n):#Definimos los titulos para cada columna de la tabla\n",
        "  titulos.append(\"Qi\"+str(k))\n",
        "\n",
        "\n",
        "print(titulos)"
      ],
      "metadata": {
        "colab": {
          "base_uri": "https://localhost:8080/"
        },
        "id": "GkOHSvRJ6gQR",
        "outputId": "d3f77518-1a35-452c-910b-714b0e31b037"
      },
      "execution_count": 440,
      "outputs": [
        {
          "output_type": "stream",
          "name": "stdout",
          "text": [
            "['X', 'Y', 'Qi1', 'Qi2', 'Qi3', 'Qi4']\n"
          ]
        }
      ]
    },
    {
      "cell_type": "code",
      "source": [
        "for j in range(1,n):\n",
        "  for i in range(j,n):\n",
        "    val=((x-datx[i-j])*lista1[i-(j-1)]-(x-datx[i])*lista1[i-j])/(datx[i]-datx[i-j])\n",
        "    lista2.append(val)\n",
        "  print(lista2)\n",
        "  dic.update({j:lista2})\n",
        "  lista1=lista2\n",
        "  lista2=[]"
      ],
      "metadata": {
        "colab": {
          "base_uri": "https://localhost:8080/"
        },
        "id": "us8JH8rH3tl5",
        "outputId": "60d51a31-583f-4438-bad9-e9996bd68aad"
      },
      "execution_count": 441,
      "outputs": [
        {
          "output_type": "stream",
          "name": "stdout",
          "text": [
            "[0.5233448666666667, 0.5102968, 0.5132634, 0.5104269999999997]\n",
            "[0.5124714777777778, 0.5112856666666666, 0.5137361333333335]\n",
            "[0.5118126938271604, 0.5118302148148148]\n",
            "[0.5118199942386831]\n"
          ]
        }
      ]
    },
    {
      "cell_type": "code",
      "source": [
        "print(dic)"
      ],
      "metadata": {
        "colab": {
          "base_uri": "https://localhost:8080/"
        },
        "id": "Zntl6JSD5hL4",
        "outputId": "5dca0311-45b6-4fcc-ff9c-d68e2c1ad214"
      },
      "execution_count": 442,
      "outputs": [
        {
          "output_type": "stream",
          "name": "stdout",
          "text": [
            "{'datox': array([1. , 1.3, 1.6, 1.9, 2.2]), 'datoy': array([0.7651977, 0.620086 , 0.4554022, 0.2818186, 0.1103623]), 1: [0.5233448666666667, 0.5102968, 0.5132634, 0.5104269999999997], 2: [0.5124714777777778, 0.5112856666666666, 0.5137361333333335], 3: [0.5118126938271604, 0.5118302148148148], 4: [0.5118199942386831]}\n"
          ]
        }
      ]
    },
    {
      "cell_type": "code",
      "source": [
        "\n",
        "for i in range(n):\n",
        "  for k in range(0,i):\n",
        "    dic[i]=[0]+dic.get(i)\n"
      ],
      "metadata": {
        "id": "GHGrQaxt9tlZ"
      },
      "execution_count": 443,
      "outputs": []
    },
    {
      "cell_type": "code",
      "source": [
        "print(tabulate(dic,headers=titulos))#Imprimimos la tabla"
      ],
      "metadata": {
        "colab": {
          "base_uri": "https://localhost:8080/"
        },
        "id": "NAF_fZf86qIw",
        "outputId": "de82db82-5acf-45c8-f8ac-842ad16b5089"
      },
      "execution_count": 444,
      "outputs": [
        {
          "output_type": "stream",
          "name": "stdout",
          "text": [
            "  X         Y       Qi1       Qi2       Qi3      Qi4\n",
            "---  --------  --------  --------  --------  -------\n",
            "1    0.765198  0         0         0         0\n",
            "1.3  0.620086  0.523345  0         0         0\n",
            "1.6  0.455402  0.510297  0.512471  0         0\n",
            "1.9  0.281819  0.513263  0.511286  0.511813  0\n",
            "2.2  0.110362  0.510427  0.513736  0.51183   0.51182\n"
          ]
        }
      ]
    }
  ]
}