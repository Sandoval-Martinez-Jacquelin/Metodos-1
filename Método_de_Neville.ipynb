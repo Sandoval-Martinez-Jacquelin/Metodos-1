{
  "nbformat": 4,
  "nbformat_minor": 0,
  "metadata": {
    "colab": {
      "provenance": [],
      "authorship_tag": "ABX9TyPW6+xIgrlHdW2994EzwZ5W",
      "include_colab_link": true
    },
    "kernelspec": {
      "name": "python3",
      "display_name": "Python 3"
    },
    "language_info": {
      "name": "python"
    }
  },
  "cells": [
    {
      "cell_type": "markdown",
      "metadata": {
        "id": "view-in-github",
        "colab_type": "text"
      },
      "source": [
        "<a href=\"https://colab.research.google.com/github/Sandoval-Martinez-Jacquelin/Metodos-1/blob/main/M%C3%A9todo_de_Neville.ipynb\" target=\"_parent\"><img src=\"https://colab.research.google.com/assets/colab-badge.svg\" alt=\"Open In Colab\"/></a>"
      ]
    },
    {
      "cell_type": "markdown",
      "source": [
        "**Método de Neville**"
      ],
      "metadata": {
        "id": "-2nTNce2cA6P"
      }
    },
    {
      "cell_type": "code",
      "source": [
        "import numpy as np\n",
        "from numpy import array\n",
        "\n",
        "from numpy import zeros\n",
        "from tabulate import tabulate\n",
        "from math import *"
      ],
      "metadata": {
        "id": "CWMLIVr-cHMC"
      },
      "execution_count": 64,
      "outputs": []
    },
    {
      "cell_type": "code",
      "source": [
        "#Ingreso de los datos de la columna  X\n",
        "n=5#int(input(\"Ingrese el numero de datos \"))\n",
        "#datx=zeros(n) #creacion de un arreglo inicializado en ceros ,para añadir los datos de la columna x\n",
        "#for i in range(n):\n",
        "  #a=input(\"Ingrese dato para x \")\n",
        "  #datx[i]=a\n",
        "\n",
        "datx=array([1.0,1.3,1.6,1.9,2.2])#ingreso de los datos de x para el ejemplo"
      ],
      "metadata": {
        "id": "ForFfwGGcxV-"
      },
      "execution_count": 65,
      "outputs": []
    },
    {
      "cell_type": "code",
      "source": [
        "#Ingreso de los datos de la columna f(x)\n",
        "#daty=zeros(n)\n",
        "#for i in range(n):\n",
        "  #a=input(\"Ingrese f(x) \")\n",
        "  #daty[i]=a\n",
        "\n",
        "daty=array([0.7651977,0.6200860,0.4554022,0.2818186,0.1103623])#ingreso de los datos de f(x) para el ejemplo"
      ],
      "metadata": {
        "id": "fLOIFLT6cyXe"
      },
      "execution_count": 66,
      "outputs": []
    },
    {
      "cell_type": "code",
      "source": [
        "x=1.5#float(input(\"Ingrese el valor que desea aproximar\"))"
      ],
      "metadata": {
        "id": "8M4ntXLuhr7_"
      },
      "execution_count": 67,
      "outputs": []
    },
    {
      "cell_type": "code",
      "source": [
        "#Imprimimos la tabla con los valores x y f(x) dados\n",
        "dic={\"datox\":datx,\"datoy\":daty}\n",
        "print(tabulate(dic,headers=['X',\"Y\"]))"
      ],
      "metadata": {
        "colab": {
          "base_uri": "https://localhost:8080/"
        },
        "id": "YJ1pbaAOc2bW",
        "outputId": "ab8b7a8e-a5ab-4df1-d705-63298da154c6"
      },
      "execution_count": 68,
      "outputs": [
        {
          "output_type": "stream",
          "name": "stdout",
          "text": [
            "  X         Y\n",
            "---  --------\n",
            "1    0.765198\n",
            "1.3  0.620086\n",
            "1.6  0.455402\n",
            "1.9  0.281819\n",
            "2.2  0.110362\n"
          ]
        }
      ]
    },
    {
      "cell_type": "code",
      "source": [
        "\n",
        "lista1=daty#creamos una lista para guardar los datos de f(x) dados y poder trabajar con ellos en el ciclo iterativo\n",
        "lista2=[]#creacion de una lista vacia para ir almacenando los valores de Q"
      ],
      "metadata": {
        "id": "A1dzznIMs3sI"
      },
      "execution_count": 69,
      "outputs": []
    },
    {
      "cell_type": "code",
      "source": [
        "sub=[]#creamos una lista vacia para guardar los subindices de x\n",
        "for s in range(n):#cilco iterativo para guardar los subindices de x y tabularlos\n",
        "  sub.append(s)\n",
        "\n",
        "\n",
        "dic={\"sub\":sub,\"datox\":datx,\"datoy\":daty}#creacion de un diccionario para guardar los datos de x y f(x) para despues tabularlos\n",
        "titulos=[\"i\",\"X\",\"f(x)\"]#se asignan los nombres a la columna de x , f(x) y los subindices de x\n",
        "for k in range(1,n):#Definimos los titulos para cada columna de la tabla\n",
        "  titulos.append(\"Qi\"+str(k))\n",
        "\n"
      ],
      "metadata": {
        "id": "GkOHSvRJ6gQR"
      },
      "execution_count": 70,
      "outputs": []
    },
    {
      "cell_type": "code",
      "source": [
        "#Creacion del ciclo iterativo para el metodo de Neville\n",
        "for j in range(1,n):\n",
        "  for i in range(j,n):\n",
        "    val=((x-datx[i-j])*lista1[i-(j-1)]-(x-datx[i])*lista1[i-j])/(datx[i]-datx[i-j])\n",
        "    lista2.append(round(val,7))#se guardan los valores de Q en la lista 2\n",
        "  dic.update({j:lista2})#se agregan los valores de Q al diccionario para poder tabularlos\n",
        "  lista1=lista2#actualizacion de la lista 1,para trabajar con los datos de Q ya calculados\n",
        "  lista2=[]#se convierte la lista 2 a lista vacia para almacenar nuevos datos de Q"
      ],
      "metadata": {
        "id": "us8JH8rH3tl5"
      },
      "execution_count": 71,
      "outputs": []
    },
    {
      "cell_type": "code",
      "source": [
        "#Ciclo iterativo para asignar espacios vacios al principio de las columnas de Q\n",
        "for i in range(n):\n",
        "  for k in range(0,i):\n",
        "    dic[i]=[0]+dic.get(i)\n"
      ],
      "metadata": {
        "id": "GHGrQaxt9tlZ"
      },
      "execution_count": 72,
      "outputs": []
    },
    {
      "cell_type": "code",
      "source": [
        "print(tabulate(dic,headers=titulos,floatfmt='.7f'))#Imprimimos la tabla las aproximaciones de Q"
      ],
      "metadata": {
        "colab": {
          "base_uri": "https://localhost:8080/"
        },
        "id": "NAF_fZf86qIw",
        "outputId": "b95c7373-097b-48a0-8ec9-ec201be585e8"
      },
      "execution_count": 73,
      "outputs": [
        {
          "output_type": "stream",
          "name": "stdout",
          "text": [
            "  i          X       f(x)        Qi1        Qi2        Qi3        Qi4\n",
            "---  ---------  ---------  ---------  ---------  ---------  ---------\n",
            "  0  1.0000000  0.7651977  0.0000000  0.0000000  0.0000000  0.0000000\n",
            "  1  1.3000000  0.6200860  0.5233449  0.0000000  0.0000000  0.0000000\n",
            "  2  1.6000000  0.4554022  0.5102968  0.5124715  0.0000000  0.0000000\n",
            "  3  1.9000000  0.2818186  0.5132634  0.5112857  0.5118127  0.0000000\n",
            "  4  2.2000000  0.1103623  0.5104270  0.5137361  0.5118302  0.5118200\n"
          ]
        }
      ]
    },
    {
      "cell_type": "code",
      "source": [
        "print(\"La aproximacion para el valor de f(x) evaluada en \",x,\" es \",lista1[0])"
      ],
      "metadata": {
        "id": "BEYEx4THXPSb",
        "outputId": "d08374cf-72b6-4938-ea83-9fff0141d9db",
        "colab": {
          "base_uri": "https://localhost:8080/"
        }
      },
      "execution_count": 74,
      "outputs": [
        {
          "output_type": "stream",
          "name": "stdout",
          "text": [
            "La aproximacion para el valor de f(x) evaluada en  1.5  es  0.51182\n"
          ]
        }
      ]
    }
  ]
}