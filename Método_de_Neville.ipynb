{
  "nbformat": 4,
  "nbformat_minor": 0,
  "metadata": {
    "colab": {
      "provenance": [],
      "authorship_tag": "ABX9TyM+DDJm3wOd0FsyV0sBO+Zi",
      "include_colab_link": true
    },
    "kernelspec": {
      "name": "python3",
      "display_name": "Python 3"
    },
    "language_info": {
      "name": "python"
    }
  },
  "cells": [
    {
      "cell_type": "markdown",
      "metadata": {
        "id": "view-in-github",
        "colab_type": "text"
      },
      "source": [
        "<a href=\"https://colab.research.google.com/github/Sandoval-Martinez-Jacquelin/Metodos-1/blob/main/M%C3%A9todo_de_Neville.ipynb\" target=\"_parent\"><img src=\"https://colab.research.google.com/assets/colab-badge.svg\" alt=\"Open In Colab\"/></a>"
      ]
    },
    {
      "cell_type": "markdown",
      "source": [
        "**Método de Neville**"
      ],
      "metadata": {
        "id": "-2nTNce2cA6P"
      }
    },
    {
      "cell_type": "code",
      "source": [
        "import numpy as np\n",
        "from numpy import array\n",
        "\n",
        "from numpy import zeros\n",
        "from tabulate import tabulate\n",
        "from math import *"
      ],
      "metadata": {
        "id": "CWMLIVr-cHMC"
      },
      "execution_count": 232,
      "outputs": []
    },
    {
      "cell_type": "code",
      "source": [
        "#Ingreso de los datos de la columna  X\n",
        "n=5#int(input(\"Ingrese el numero de datos \"))\n",
        "#datx=zeros(n) #creacion de un arreglo inicializado en ceros ,para añadir los datos de la columna x\n",
        "#for i in range(n):\n",
        "  #a=input(\"Ingrese dato para x \")\n",
        "  #datx[i]=a\n",
        "\n",
        "datx=array([1.0,1.3,1.6,1.9,2.2])#ingreso de los datos de x para el ejemplo"
      ],
      "metadata": {
        "id": "ForFfwGGcxV-"
      },
      "execution_count": 233,
      "outputs": []
    },
    {
      "cell_type": "code",
      "source": [
        "#Ingreso de los datos de la columna  y\n",
        "#daty=zeros(n)\n",
        "#for i in range(n):\n",
        "  #a=input(\"Ingrese dato para y \")\n",
        "  #daty[i]=a\n",
        "\n",
        "daty=array([0.7651977,0.6200860,0.4554022,0.2818186,0.1103623])#ingreso de los datos de y para el ejemplo"
      ],
      "metadata": {
        "id": "fLOIFLT6cyXe"
      },
      "execution_count": 234,
      "outputs": []
    },
    {
      "cell_type": "code",
      "source": [
        "x=1.5#float(input(\"Ingrese el valor a aproximar\"))"
      ],
      "metadata": {
        "id": "8M4ntXLuhr7_"
      },
      "execution_count": 235,
      "outputs": []
    },
    {
      "cell_type": "code",
      "source": [
        "print(daty)"
      ],
      "metadata": {
        "colab": {
          "base_uri": "https://localhost:8080/"
        },
        "id": "LVCD7q8VfFR3",
        "outputId": "81c73099-d5ff-48e0-cc69-6b49182234f7"
      },
      "execution_count": 236,
      "outputs": [
        {
          "output_type": "stream",
          "name": "stdout",
          "text": [
            "[0.7651977 0.620086  0.4554022 0.2818186 0.1103623]\n"
          ]
        }
      ]
    },
    {
      "cell_type": "code",
      "source": [
        "#Imprimimos la tabla con los valores x y y dados\n",
        "dic={\"datox\":datx,\"datoy\":daty}\n",
        "print(tabulate(dic,headers=['X',\"Y\"]))"
      ],
      "metadata": {
        "colab": {
          "base_uri": "https://localhost:8080/"
        },
        "id": "YJ1pbaAOc2bW",
        "outputId": "4aa4e6c1-96f2-4783-fb5b-7ec2b9edcb18"
      },
      "execution_count": 237,
      "outputs": [
        {
          "output_type": "stream",
          "name": "stdout",
          "text": [
            "  X         Y\n",
            "---  --------\n",
            "1    0.765198\n",
            "1.3  0.620086\n",
            "1.6  0.455402\n",
            "1.9  0.281819\n",
            "2.2  0.110362\n"
          ]
        }
      ]
    },
    {
      "cell_type": "code",
      "source": [
        "lista1=daty\n",
        "lista2=[]"
      ],
      "metadata": {
        "id": "A1dzznIMs3sI"
      },
      "execution_count": 238,
      "outputs": []
    },
    {
      "cell_type": "code",
      "source": [
        "for j in range(1,n):\n",
        "  for i in range(j,n):\n",
        "    val=((x-datx[i-j])*lista1[i-(j-1)]-(x-datx[i])*lista1[i-j])/(datx[i]-datx[i-j])\n",
        "    lista2.append(val)\n",
        "  print(lista2)\n",
        "  lista1=lista2\n",
        "  lista2=[]"
      ],
      "metadata": {
        "colab": {
          "base_uri": "https://localhost:8080/"
        },
        "id": "us8JH8rH3tl5",
        "outputId": "b9e349fd-60ca-4f5e-8456-8273f34ffacf"
      },
      "execution_count": 239,
      "outputs": [
        {
          "output_type": "stream",
          "name": "stdout",
          "text": [
            "[0.5233448666666667, 0.5102968, 0.5132634, 0.5104269999999997]\n",
            "[0.5124714777777778, 0.5112856666666666, 0.5137361333333335]\n",
            "[0.5118126938271604, 0.5118302148148148]\n",
            "[0.5118199942386831]\n"
          ]
        }
      ]
    }
  ]
}