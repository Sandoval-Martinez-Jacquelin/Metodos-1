{
  "nbformat": 4,
  "nbformat_minor": 0,
  "metadata": {
    "colab": {
      "provenance": [],
      "authorship_tag": "ABX9TyMS9FOpBOyI4Tg16uyLYaB+",
      "include_colab_link": true
    },
    "kernelspec": {
      "name": "python3",
      "display_name": "Python 3"
    },
    "language_info": {
      "name": "python"
    }
  },
  "cells": [
    {
      "cell_type": "markdown",
      "metadata": {
        "id": "view-in-github",
        "colab_type": "text"
      },
      "source": [
        "<a href=\"https://colab.research.google.com/github/Sandoval-Martinez-Jacquelin/Metodos-1/blob/main/M%C3%A9todo_de_Neville.ipynb\" target=\"_parent\"><img src=\"https://colab.research.google.com/assets/colab-badge.svg\" alt=\"Open In Colab\"/></a>"
      ]
    },
    {
      "cell_type": "markdown",
      "source": [
        "**Método de Neville**"
      ],
      "metadata": {
        "id": "-2nTNce2cA6P"
      }
    },
    {
      "cell_type": "code",
      "source": [
        "import numpy as np\n",
        "from numpy import array\n",
        "\n",
        "from numpy import zeros\n",
        "from tabulate import tabulate\n",
        "from math import *"
      ],
      "metadata": {
        "id": "CWMLIVr-cHMC"
      },
      "execution_count": 472,
      "outputs": []
    },
    {
      "cell_type": "code",
      "source": [
        "#Ingreso de los datos de la columna  X\n",
        "n=5#int(input(\"Ingrese el numero de datos \"))\n",
        "#datx=zeros(n) #creacion de un arreglo inicializado en ceros ,para añadir los datos de la columna x\n",
        "#for i in range(n):\n",
        "  #a=input(\"Ingrese dato para x \")\n",
        "  #datx[i]=a\n",
        "\n",
        "datx=array([1.0,1.3,1.6,1.9,2.2])#ingreso de los datos de x para el ejemplo"
      ],
      "metadata": {
        "id": "ForFfwGGcxV-"
      },
      "execution_count": 473,
      "outputs": []
    },
    {
      "cell_type": "code",
      "source": [
        "#Ingreso de los datos de la columna  y\n",
        "#daty=zeros(n)\n",
        "#for i in range(n):\n",
        "  #a=input(\"Ingrese dato para y \")\n",
        "  #daty[i]=a\n",
        "\n",
        "daty=array([0.7651977,0.6200860,0.4554022,0.2818186,0.1103623])#ingreso de los datos de y para el ejemplo"
      ],
      "metadata": {
        "id": "fLOIFLT6cyXe"
      },
      "execution_count": 474,
      "outputs": []
    },
    {
      "cell_type": "code",
      "source": [
        "x=1.5#float(input(\"Ingrese el valor a aproximar\"))"
      ],
      "metadata": {
        "id": "8M4ntXLuhr7_"
      },
      "execution_count": 475,
      "outputs": []
    },
    {
      "cell_type": "code",
      "source": [
        "print(daty)"
      ],
      "metadata": {
        "colab": {
          "base_uri": "https://localhost:8080/"
        },
        "id": "LVCD7q8VfFR3",
        "outputId": "619e58b3-59dc-4659-a4aa-7af31be465af"
      },
      "execution_count": 476,
      "outputs": [
        {
          "output_type": "stream",
          "name": "stdout",
          "text": [
            "[0.7651977 0.620086  0.4554022 0.2818186 0.1103623]\n"
          ]
        }
      ]
    },
    {
      "cell_type": "code",
      "source": [
        "#Imprimimos la tabla con los valores x y y dados\n",
        "dic={\"datox\":datx,\"datoy\":daty}\n",
        "print(tabulate(dic,headers=['X',\"Y\"]))"
      ],
      "metadata": {
        "colab": {
          "base_uri": "https://localhost:8080/"
        },
        "id": "YJ1pbaAOc2bW",
        "outputId": "17a1cb65-1165-4eff-f77d-f7ceaa2ca3cb"
      },
      "execution_count": 477,
      "outputs": [
        {
          "output_type": "stream",
          "name": "stdout",
          "text": [
            "  X         Y\n",
            "---  --------\n",
            "1    0.765198\n",
            "1.3  0.620086\n",
            "1.6  0.455402\n",
            "1.9  0.281819\n",
            "2.2  0.110362\n"
          ]
        }
      ]
    },
    {
      "cell_type": "code",
      "source": [
        "lista1=daty\n",
        "lista2=[]"
      ],
      "metadata": {
        "id": "A1dzznIMs3sI"
      },
      "execution_count": 478,
      "outputs": []
    },
    {
      "cell_type": "code",
      "source": [
        "dic={\"datox\":datx,\"datoy\":daty}\n",
        "titulos=[\"X\",\"Y\"]\n",
        "for k in range(1,n):#Definimos los titulos para cada columna de la tabla\n",
        "  titulos.append(\"Qi\"+str(k))\n",
        "\n",
        "\n",
        "print(titulos)"
      ],
      "metadata": {
        "colab": {
          "base_uri": "https://localhost:8080/"
        },
        "id": "GkOHSvRJ6gQR",
        "outputId": "76f5b6ba-7dbc-4c43-a3d8-a6c78a1cf0d3"
      },
      "execution_count": 479,
      "outputs": [
        {
          "output_type": "stream",
          "name": "stdout",
          "text": [
            "['X', 'Y', 'Qi1', 'Qi2', 'Qi3', 'Qi4']\n"
          ]
        }
      ]
    },
    {
      "cell_type": "code",
      "source": [
        "for j in range(1,n):\n",
        "  for i in range(j,n):\n",
        "    val=((x-datx[i-j])*lista1[i-(j-1)]-(x-datx[i])*lista1[i-j])/(datx[i]-datx[i-j])\n",
        "    lista2.append(round(val,7))\n",
        "  print(lista2)\n",
        "  dic.update({j:lista2})\n",
        "  lista1=lista2\n",
        "  lista2=[]"
      ],
      "metadata": {
        "colab": {
          "base_uri": "https://localhost:8080/"
        },
        "id": "us8JH8rH3tl5",
        "outputId": "cca896d2-df37-4b71-ec3b-0bc7693efc92"
      },
      "execution_count": 480,
      "outputs": [
        {
          "output_type": "stream",
          "name": "stdout",
          "text": [
            "[0.5233449, 0.5102968, 0.5132634, 0.510427]\n",
            "[0.5124715, 0.5112857, 0.5137361]\n",
            "[0.5118127, 0.5118302]\n",
            "[0.51182]\n"
          ]
        }
      ]
    },
    {
      "cell_type": "code",
      "source": [
        "print(dic)"
      ],
      "metadata": {
        "colab": {
          "base_uri": "https://localhost:8080/"
        },
        "id": "Zntl6JSD5hL4",
        "outputId": "57f9ba9a-cfad-4743-814a-bb7733c3699c"
      },
      "execution_count": 481,
      "outputs": [
        {
          "output_type": "stream",
          "name": "stdout",
          "text": [
            "{'datox': array([1. , 1.3, 1.6, 1.9, 2.2]), 'datoy': array([0.7651977, 0.620086 , 0.4554022, 0.2818186, 0.1103623]), 1: [0.5233449, 0.5102968, 0.5132634, 0.510427], 2: [0.5124715, 0.5112857, 0.5137361], 3: [0.5118127, 0.5118302], 4: [0.51182]}\n"
          ]
        }
      ]
    },
    {
      "cell_type": "code",
      "source": [
        "\n",
        "for i in range(n):\n",
        "  for k in range(0,i):\n",
        "    dic[i]=[0]+dic.get(i)\n"
      ],
      "metadata": {
        "id": "GHGrQaxt9tlZ"
      },
      "execution_count": 482,
      "outputs": []
    },
    {
      "cell_type": "code",
      "source": [
        "print(tabulate(dic,headers=titulos,floatfmt='.7f'))#Imprimimos la tabla"
      ],
      "metadata": {
        "colab": {
          "base_uri": "https://localhost:8080/"
        },
        "id": "NAF_fZf86qIw",
        "outputId": "d72a6594-b220-4b05-f0d2-3cb0dca563ba"
      },
      "execution_count": 483,
      "outputs": [
        {
          "output_type": "stream",
          "name": "stdout",
          "text": [
            "        X          Y        Qi1        Qi2        Qi3        Qi4\n",
            "---------  ---------  ---------  ---------  ---------  ---------\n",
            "1.0000000  0.7651977  0.0000000  0.0000000  0.0000000  0.0000000\n",
            "1.3000000  0.6200860  0.5233449  0.0000000  0.0000000  0.0000000\n",
            "1.6000000  0.4554022  0.5102968  0.5124715  0.0000000  0.0000000\n",
            "1.9000000  0.2818186  0.5132634  0.5112857  0.5118127  0.0000000\n",
            "2.2000000  0.1103623  0.5104270  0.5137361  0.5118302  0.5118200\n"
          ]
        }
      ]
    }
  ]
}